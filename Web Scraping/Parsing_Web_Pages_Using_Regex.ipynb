{
 "cells": [
  {
   "cell_type": "markdown",
   "id": "edf7d456",
   "metadata": {},
   "source": [
    "# Parsing Web Pages Using Regex"
   ]
  },
  {
   "cell_type": "code",
   "execution_count": 1,
   "id": "6c709f1c",
   "metadata": {},
   "outputs": [],
   "source": [
    "import requests, re\n",
    "import webbrowser\n",
    "from pprint import pprint"
   ]
  },
  {
   "cell_type": "code",
   "execution_count": 2,
   "id": "1d301926",
   "metadata": {},
   "outputs": [],
   "source": [
    "url = \"http://www.summet.com/dmsi/html/codesamples/addresses.html\""
   ]
  },
  {
   "cell_type": "code",
   "execution_count": 3,
   "id": "67c26931",
   "metadata": {},
   "outputs": [
    {
     "data": {
      "text/plain": [
       "True"
      ]
     },
     "execution_count": 3,
     "metadata": {},
     "output_type": "execute_result"
    }
   ],
   "source": [
    "webbrowser.open(url)"
   ]
  },
  {
   "cell_type": "markdown",
   "id": "157615ee",
   "metadata": {},
   "source": [
    "##### Dowload the page content using request"
   ]
  },
  {
   "cell_type": "code",
   "execution_count": 4,
   "id": "93d6c865",
   "metadata": {},
   "outputs": [],
   "source": [
    "resp = requests.get(url)"
   ]
  },
  {
   "cell_type": "markdown",
   "id": "c36cb4c7",
   "metadata": {},
   "source": [
    "##### Extracting the html content from the request object"
   ]
  },
  {
   "cell_type": "code",
   "execution_count": 5,
   "id": "f4702f8e",
   "metadata": {},
   "outputs": [
    {
     "name": "stdout",
     "output_type": "stream",
     "text": [
      "('<html>\\n'\n",
      " '<head>\\n'\n",
      " '\\t<title>Sample Addresses!</title>\\n'\n",
      " '<script async '\n",
      " 'src=\"https://pagead2.googlesyndication.com/pagead/js/adsbygoogle.js?client=ca-pub-2760663110461940\"\\n'\n",
      " '     crossorigin=\"anonymous\"></script>\\n'\n",
      " '\\n'\n",
      " '</head>\\n'\n",
      " '<body>\\n'\n",
      " '<h1> A page full of sample addresses for your parsing enjoyment!</h1>\\n'\n",
      " '<h2> (All data is random....)</h2>\\n'\n",
      " '<ul>\\n'\n",
      " '\\n'\n",
      " '<script async '\n",
      " 'src=\"https://pagead2.googlesyndication.com/pagead/js/adsbygoogle.js?client=ca-pub-2760663110461940\"\\n'\n",
      " '     crossorigin=\"anonymous\"></script>\\n'\n",
      " '<!-- summet.com-dmsi-addresses -->\\n'\n",
      " '<ins class=\"adsbygoogle\"\\n'\n",
      " '     style=\"display:block\"\\n'\n",
      " '     data-ad-client=\"ca-pub-2760663110461940\"\\n'\n",
      " '     data-ad-slot=\"5472586510\"\\n'\n",
      " '     data-ad-format=\"auto\"\\n'\n",
      " '     data-full-width-responsive=\"true\"></ins>\\n'\n",
      " '<script>\\n'\n",
      " '     (adsbygoogle = window.adsbygoogle || []).push({});\\n'\n",
      " '</script>\\n'\n",
      " '\\n'\n",
      " '<li>Cecilia Chapman<br/>711-2880 Nulla St.<br/>Mankato Mississippi '\n",
      " '96522<br/>(257) 563-7401</li>\\n'\n",
      " '<li>Iris Watson<br/>P.O. Box 283 8562 Fusce Rd.<br/>Frederick Nebraska '\n",
      " '20620<br/>(372) 587-2335</li>\\n'\n",
      " '<li>Celeste Slater<br/>606-3727 Ullamcorper. Street<br/>Roseville NH '\n",
      " '11523<br/>(786) 713-8616</li>\\n'\n",
      " '<li>Theodore Lowe<br/>Ap #867-859 Sit Rd.<br/>Azusa New York 39531<br/>(793) '\n",
      " '151-6230</li>\\n'\n",
      " '<li>Calista Wise<br/>7292 Dictum Av.<br/>San Antonio MI 47096<br/>(492) '\n",
      " '709-6392</li>\\n'\n",
      " '<li>Kyla Olsen<br/>Ap #651-8679 Sodales Av.<br/>Tamuning PA 10855<br/>(654) '\n",
      " '393-5734</li>\\n'\n",
      " '<li>Forrest Ray<br/>191-103 Integer Rd.<br/>Corona New Mexico '\n",
      " '08219<br/>(404) 960-3807</li>\\n'\n",
      " '<li>Hiroko Potter<br/>P.O. Box 887 2508 Dolor. Av.<br/>Muskegon KY '\n",
      " '12482<br/>(314) 244-6306</li>\\n'\n",
      " '<li>Nyssa Vazquez<br/>511-5762 At Rd.<br/>Chelsea MI 67708<br/>(947) '\n",
      " '278-5929</li>\\n'\n",
      " '<li>Lawrence Moreno<br/>935-9940 Tortor. Street<br/>Santa Rosa MN '\n",
      " '98804<br/>(684) 579-1879</li>\\n'\n",
      " '<li>Ina Moran<br/>P.O. Box 929 4189 Nunc Road<br/>Lebanon KY 69409<br/>(389) '\n",
      " '737-2852</li>\\n'\n",
      " '<li>Aaron Hawkins<br/>5587 Nunc. Avenue<br/>Erie Rhode Island '\n",
      " '24975<br/>(660) 663-4518</li>\\n'\n",
      " '<li>Hedy Greene<br/>Ap #696-3279 Viverra. Avenue<br/>Latrobe DE '\n",
      " '38100<br/>(608) 265-2215</li>\\n'\n",
      " '<li>Melvin Porter<br/>P.O. Box 132 1599 Curabitur Rd.<br/>Bandera South '\n",
      " 'Dakota 45149<br/>(959) 119-8364</li>\\n'\n",
      " '<li>Keefe Sellers<br/>347-7666 Iaculis St.<br/>Woodruff SC 49854<br/>(468) '\n",
      " '353-2641</li>\\n'\n",
      " '<li>Joan Romero<br/>666-4366 Lacinia Avenue<br/>Idaho Falls Ohio '\n",
      " '19253<br/>(248) 675-4007</li>\\n'\n",
      " '<li>Davis Patrick<br/>P.O. Box 147 2546 Sociosqu Rd.<br/>Bethlehem Utah '\n",
      " '02913<br/>(939) 353-1107</li>\\n'\n",
      " '<li>Leilani Boyer<br/>557-6308 Lacinia Road<br/>San Bernardino ND '\n",
      " '09289<br/>(570) 873-7090</li>\\n'\n",
      " '<li>Colby Bernard<br/>Ap #285-7193 Ullamcorper Avenue<br/>Amesbury HI '\n",
      " '93373<br/>(302) 259-2375</li>\\n'\n",
      " '<li>Bryar Pitts<br/>5543 Aliquet St.<br/>Fort Dodge GA 20783<br/>(717) '\n",
      " '450-4729</li>\\n'\n",
      " '<li>Rahim Henderson<br/>5037 Diam Rd.<br/>Daly City Ohio 90255<br/>(453) '\n",
      " '391-4650</li>\\n'\n",
      " '<li>Noelle Adams<br/>6351 Fringilla Avenue<br/>Gardena Colorado '\n",
      " '37547<br/>(559) 104-5475</li>\\n'\n",
      " '<li>Lillith Daniel<br/>935-1670 Neque. St.<br/>Centennial Delaware '\n",
      " '48432<br/>(387) 142-9434</li>\\n'\n",
      " '<li>Adria Russell<br/>414-7533 Non Rd.<br/>Miami Beach North Dakota '\n",
      " '58563<br/>(516) 745-4496</li>\\n'\n",
      " '<li>Hilda Haynes<br/>778-9383 Suspendisse Av.<br/>Weirton IN 93479<br/>(326) '\n",
      " '677-3419</li>\\n'\n",
      " '<li>Sheila Mcintosh<br/>P.O. Box 360 4407 Et Rd.<br/>Santa Monica FL '\n",
      " '30309<br/>(746) 679-2470</li>\\n'\n",
      " '<li>Rebecca Chambers<br/>P.O. Box 813 5982 Sit Ave<br/>Liberal Vermont '\n",
      " '51324<br/>(455) 430-0989</li>\\n'\n",
      " '<li>Christian Emerson<br/>P.O. Box 886 4118 Arcu St.<br/>Rolling Hills '\n",
      " 'Georgia 92358<br/>(490) 936-4694</li>\\n'\n",
      " '<li>Nevada Ware<br/>P.O. Box 597 4156 Tincidunt Ave<br/>Green Bay Indiana '\n",
      " '19759<br/>(985) 834-8285</li>\\n'\n",
      " '<li>Margaret Joseph<br/>P.O. Box 508 3919 Gravida St.<br/>Tamuning '\n",
      " 'Washington 55797<br/>(662) 661-1446</li>\\n'\n",
      " '<li>Edward Nieves<br/>928-3313 Vel Av.<br/>Idaho Falls Rhode Island '\n",
      " '37232<br/>(802) 668-8240</li>\\n'\n",
      " '<li>Imani Talley<br/>P.O. Box 262 4978 Sit St.<br/>Yigo Massachusetts '\n",
      " '50654<br/>(477) 768-9247</li>\\n'\n",
      " '<li>Bertha Riggs<br/>P.O. Box 206 6639 In St.<br/>Easthampton TN '\n",
      " '31626<br/>(791) 239-9057</li>\\n'\n",
      " '<li>Wallace Ross<br/>313 Pellentesque Ave<br/>Villa Park Hawaii '\n",
      " '43526<br/>(832) 109-0213</li>\\n'\n",
      " '<li>Chester Bennett<br/>3476 Aliquet. Ave<br/>Minot AZ 95302<br/>(837) '\n",
      " '196-3274</li>\\n'\n",
      " '<li>Castor Richardson<br/>P.O. Box 902 3472 Ullamcorper Street<br/>Lynchburg '\n",
      " 'DC 29738<br/>(268) 442-2428</li>\\n'\n",
      " '<li>Sonya Jordan<br/>Ap #443-336 Ullamcorper. Street<br/>Visalia VA '\n",
      " '54886<br/>(850) 676-5117</li>\\n'\n",
      " '<li>Harrison Mcguire<br/>574-8633 Arcu Street<br/>San Fernando ID '\n",
      " '77373<br/>(861) 546-5032</li>\\n'\n",
      " '<li>Malcolm Long<br/>9291 Proin Road<br/>Lake Charles Maine 11292<br/>(176) '\n",
      " '805-4108</li>\\n'\n",
      " '<li>Raymond Levy<br/>Ap #643-7006 Risus St.<br/>Beaumont New Mexico '\n",
      " '73585<br/>(715) 912-6931</li>\\n'\n",
      " '<li>Hedley Ingram<br/>737-2580 At Street<br/>Independence Texas '\n",
      " '87535<br/>(993) 554-0563</li>\\n'\n",
      " '<li>David Mathews<br/>1011 Malesuada Road<br/>Moscow Kentucky '\n",
      " '77382<br/>(357) 616-5411</li>\\n'\n",
      " '<li>Xyla Cash<br/>969-1762 Tincidunt Rd.<br/>Boise CT 35282<br/>(121) '\n",
      " '347-0086</li>\\n'\n",
      " '<li>Madeline Gregory<br/>977-4841 Ut Ave<br/>Walla Walla Michigan '\n",
      " '82776<br/>(304) 506-6314</li>\\n'\n",
      " '<li>Griffith Daniels<br/>6818 Eget St.<br/>Tacoma AL 92508<br/>(425) '\n",
      " '288-2332</li>\\n'\n",
      " '<li>Anne Beasley<br/>987-4223 Urna St.<br/>Savannah Illinois 85794<br/>(145) '\n",
      " '987-4962</li>\\n'\n",
      " '<li>Chaney Bennett<br/>P.O. Box 721 902 Dolor Rd.<br/>Fremont AK '\n",
      " '19408<br/>(187) 582-9707</li>\\n'\n",
      " '<li>Daniel Bernard<br/>P.O. Box 567 1561 Duis Rd.<br/>Pomona TN '\n",
      " '08609<br/>(750) 558-3965</li>\\n'\n",
      " '<li>Willow Hunt<br/>Ap #784-1887 Lobortis Ave<br/>Cudahy Ohio '\n",
      " '31522<br/>(492) 467-3131</li>\\n'\n",
      " '<li>Judith Floyd<br/>361-7936 Feugiat St.<br/>Williston Nevada '\n",
      " '58521<br/>(774) 914-2510</li>\\n'\n",
      " '<li>Seth Farley<br/>6216 Aenean Avenue<br/>Seattle Utah 81202<br/>(888) '\n",
      " '106-8550</li>\\n'\n",
      " '<li>Zephania Sanders<br/>3714 Nascetur St.<br/>Hawthorne Louisiana '\n",
      " '10626<br/>(539) 567-3573</li>\\n'\n",
      " '<li>Calista Merritt<br/>Ap #938-5470 Posuere Ave<br/>Chickasha LA '\n",
      " '58520<br/>(693) 337-2849</li>\\n'\n",
      " '<li>Craig Williams<br/>P.O. Box 372 5634 Montes Rd.<br/>Springdale MO '\n",
      " '57692<br/>(545) 604-9386</li>\\n'\n",
      " '<li>Lee Preston<br/>981 Eget Rd.<br/>Clemson GA 04645<br/>(221) '\n",
      " '156-5026</li>\\n'\n",
      " '<li>Katelyn Cooper<br/>6059 Sollicitudin Road<br/>Burlingame Colorado '\n",
      " '26278<br/>(414) 876-0865</li>\\n'\n",
      " '<li>Lacy Eaton<br/>1379 Nulla. Av.<br/>Asbury Park Montana 69679<br/>(932) '\n",
      " '726-8645</li>\\n'\n",
      " '<li>Driscoll Leach<br/>P.O. Box 120 2410 Odio Avenue<br/>Pass Christian '\n",
      " 'Delaware 03869<br/>(726) 710-9826</li>\\n'\n",
      " '<li>Merritt Watson<br/>P.O. Box 686 7014 Amet Street<br/>Corona Oklahoma '\n",
      " '55246<br/>(622) 594-1662</li>\\n'\n",
      " '<li>Nehru Holmes<br/>P.O. Box 547 4764 Sed Road<br/>Grand Rapids CT '\n",
      " '87323<br/>(948) 600-8503</li>\\n'\n",
      " '<li>Quamar Rivera<br/>427-5827 Ac St.<br/>Schaumburg Arkansas '\n",
      " '84872<br/>(605) 900-7508</li>\\n'\n",
      " '<li>Hiram Mullins<br/>754-6427 Nunc Ave<br/>Kennewick AL 41329<br/>(716) '\n",
      " '977-5775</li>\\n'\n",
      " '<li>Kim Fletcher<br/>Ap #345-3847 Metus Road<br/>Independence CO '\n",
      " '30135<br/>(368) 239-8275</li>\\n'\n",
      " '<li>Rigel Koch<br/>P.O. Box 558 9561 Lacus. Road<br/>Laughlin Hawaii '\n",
      " '99602<br/>(725) 342-0650</li>\\n'\n",
      " '<li>Jeanette Sharpe<br/>Ap #364-2006 Ipsum Avenue<br/>Wilmington Ohio '\n",
      " '91750<br/>(711) 993-5187</li>\\n'\n",
      " '<li>Dahlia Lee<br/>1293 Tincidunt Street<br/>Atwater Pennsylvania '\n",
      " '76865<br/>(882) 399-5084</li>\\n'\n",
      " '<li>Howard Hayden<br/>P.O. Box 847 8019 Facilisis Street<br/>Joliet SC '\n",
      " '73490<br/>(287) 755-9948</li>\\n'\n",
      " '<li>Hyatt Kramer<br/>1011 Massa Av.<br/>Kent ID 63725<br/>(659) '\n",
      " '551-3389</li>\\n'\n",
      " '<li>Sonya Ray<br/>Ap #315-8441 Eleifend Street<br/>Fairbanks RI '\n",
      " '96892<br/>(275) 730-6868</li>\\n'\n",
      " '<li>Cara Whitehead<br/>4005 Praesent St.<br/>Torrance Wyoming '\n",
      " '22767<br/>(725) 757-4047</li>\\n'\n",
      " '<li>Blythe Carroll<br/>7709 Justo. Ave<br/>Princeton TX 77987<br/>(314) '\n",
      " '882-1496</li>\\n'\n",
      " '<li>Dale Griffin<br/>P.O. Box 854 8580 In Ave<br/>Revere South Dakota '\n",
      " '43841<br/>(639) 360-7590</li>\\n'\n",
      " '<li>McKenzie Hernandez<br/>Ap #367-674 Mi Street<br/>Greensboro VT '\n",
      " '40684<br/>(168) 222-1592</li>\\n'\n",
      " '<li>Haviva Holcomb<br/>P.O. Box 642 3450 In Road<br/>Isle of Palms New York '\n",
      " '03828<br/>(896) 303-1164</li>\\n'\n",
      " '<li>Ezra Duffy<br/>Ap #782-7348 Dis Rd.<br/>Austin KY 50710<br/>(203) '\n",
      " '982-6130</li>\\n'\n",
      " '<li>Eleanor Jennings<br/>9631 Semper Ave<br/>Astoria NJ 66309<br/>(906) '\n",
      " '217-1470</li>\\n'\n",
      " '<li>Remedios Hester<br/>487-5787 Mollis St.<br/>City of Industry Louisiana '\n",
      " '67973<br/>(614) 514-1269</li>\\n'\n",
      " '<li>Jasper Carney<br/>1195 Lobortis Rd.<br/>New Orleans New Hampshire '\n",
      " '71983<br/>(763) 409-5446</li>\\n'\n",
      " '<li>Vielka Nielsen<br/>Ap #517-7326 Elementum Rd.<br/>Fort Smith North '\n",
      " 'Dakota 79637<br/>(836) 292-5324</li>\\n'\n",
      " '<li>Wilma Pace<br/>Ap #676-6532 Odio Rd.<br/>Darlington CO 06963<br/>(926) '\n",
      " '709-3295</li>\\n'\n",
      " '<li>Palmer Gay<br/>557-2026 Purus St.<br/>Watertown TN 07367<br/>(963) '\n",
      " '356-9268</li>\\n'\n",
      " '<li>Lyle Sutton<br/>Ap #250-9843 Elementum St.<br/>South Gate Missouri '\n",
      " '68999<br/>(736) 522-8584</li>\\n'\n",
      " '<li>Ina Burt<br/>Ap #130-1685 Ut Street<br/>Tyler KS 73510<br/>(410) '\n",
      " '483-0352</li>\\n'\n",
      " '<li>Cleo Best<br/>282-8351 Tincidunt Ave<br/>Sedalia Utah 53700<br/>(252) '\n",
      " '204-1434</li>\\n'\n",
      " '<li>Hu Park<br/>1429 Netus Rd.<br/>Reedsport NY 48247<br/>(874) '\n",
      " '886-4174</li>\\n'\n",
      " '<li>Liberty Walton<br/>343-6527 Purus. Avenue<br/>Logan NV 12657<br/>(581) '\n",
      " '379-7573</li>\\n'\n",
      " '<li>Aaron Trujillo<br/>Ap #146-3132 Cras Rd.<br/>Kingsport NH '\n",
      " '56618<br/>(983) 632-8597</li>\\n'\n",
      " '<li>Elmo Lopez<br/>Ap #481-7473 Cum Rd.<br/>Yorba Linda South Carolina '\n",
      " '28423<br/>(295) 983-3476</li>\\n'\n",
      " '<li>Emerson Espinoza<br/>Ap #247-5577 Tincidunt St.<br/>Corpus Christi WI '\n",
      " '97020<br/>(873) 392-8802</li>\\n'\n",
      " '<li>Daniel Malone<br/>2136 Adipiscing Av.<br/>Lima RI 93490<br/>(360) '\n",
      " '669-3923</li>\\n'\n",
      " '<li>Dante Bennett<br/>481-8762 Nulla Street<br/>Dearborn OR 62401<br/>(840) '\n",
      " '987-9449</li>\\n'\n",
      " '<li>Sade Higgins<br/>Ap #287-3260 Ut St.<br/>Wilmington OR 05182<br/>(422) '\n",
      " '517-6053</li>\\n'\n",
      " '<li>Zorita Anderson<br/>1964 Facilisis Avenue<br/>Bell Gardens Texas '\n",
      " '87065<br/>(126) 940-2753</li>\\n'\n",
      " '<li>Jordan Calderon<br/>430-985 Eleifend St.<br/>Duluth Washington '\n",
      " '92611<br/>(427) 930-5255</li>\\n'\n",
      " '<li>Ivor Delgado<br/>Ap #310-1678 Ut Av.<br/>Santa Barbara MT '\n",
      " '88317<br/>(689) 721-5145</li>\\n'\n",
      " '<li>Pascale Patton<br/>P.O. Box 399 4275 Amet Street<br/>West Allis NC '\n",
      " '36734<br/>(676) 334-2174</li>\\n'\n",
      " '<li>Nasim Strong<br/>Ap #630-3889 Nulla. Street<br/>Watervliet Oklahoma '\n",
      " '70863<br/>(437) 994-5270</li>\\n'\n",
      " '<li>Keaton Underwood<br/>Ap #636-8082 Arcu Avenue<br/>Thiensville Maryland '\n",
      " '19587<br/>(564) 908-6970</li>\\n'\n",
      " '<li>Keegan Blair<br/>Ap #761-2515 Egestas. Rd.<br/>Manitowoc TN '\n",
      " '07528<br/>(577) 333-6244</li>\\n'\n",
      " '<li>Tamara Howe<br/>3415 Lobortis. Avenue<br/>Rocky Mount WA 48580<br/>(655) '\n",
      " '840-6139</li>\\n'\n",
      " ' </ul> </body></html>\\n')\n"
     ]
    }
   ],
   "source": [
    "html = resp.text\n",
    "pprint(html)"
   ]
  },
  {
   "cell_type": "markdown",
   "id": "0207701e",
   "metadata": {},
   "source": [
    "##### Extracting titles"
   ]
  },
  {
   "cell_type": "code",
   "execution_count": 6,
   "id": "4a976a3f",
   "metadata": {},
   "outputs": [
    {
     "data": {
      "text/plain": [
       "['<title>Sample Addresses!</title>']"
      ]
     },
     "execution_count": 6,
     "metadata": {},
     "output_type": "execute_result"
    }
   ],
   "source": [
    "title = re.findall(\"<title>.*</title>\", html)\n",
    "title"
   ]
  },
  {
   "cell_type": "markdown",
   "id": "81aeeeb0",
   "metadata": {},
   "source": [
    "##### \".\" represents that we want to match any character a new line  and \"*\" signifies its repetetions."
   ]
  },
  {
   "cell_type": "markdown",
   "id": "fe97720e",
   "metadata": {},
   "source": [
    "##### If we dont want title tags"
   ]
  },
  {
   "cell_type": "code",
   "execution_count": 7,
   "id": "fdfe49f9",
   "metadata": {},
   "outputs": [
    {
     "data": {
      "text/plain": [
       "['Sample Addresses!']"
      ]
     },
     "execution_count": 7,
     "metadata": {},
     "output_type": "execute_result"
    }
   ],
   "source": [
    "title = re.findall(\"<title>(.*)</title>\", html)\n",
    "title"
   ]
  },
  {
   "cell_type": "markdown",
   "id": "331de731",
   "metadata": {},
   "source": [
    "##### The bracket here represents the token we want to extract after the pattern has been matched."
   ]
  },
  {
   "cell_type": "markdown",
   "id": "94b34845",
   "metadata": {},
   "source": [
    "###### Extract all the contents from h1 tag"
   ]
  },
  {
   "cell_type": "code",
   "execution_count": 8,
   "id": "8a88fded",
   "metadata": {},
   "outputs": [
    {
     "data": {
      "text/plain": [
       "[' A page full of sample addresses for your parsing enjoyment!']"
      ]
     },
     "execution_count": 8,
     "metadata": {},
     "output_type": "execute_result"
    }
   ],
   "source": [
    "h_data = re.findall(\"<h1>(.*)</h1>\", html)\n",
    "h_data"
   ]
  },
  {
   "cell_type": "markdown",
   "id": "99d524d9",
   "metadata": {},
   "source": [
    "##### The page contains many headers, so lets extract all of them."
   ]
  },
  {
   "cell_type": "code",
   "execution_count": 9,
   "id": "39897f59",
   "metadata": {},
   "outputs": [
    {
     "data": {
      "text/plain": [
       "[' A page full of sample addresses for your parsing enjoyment!',\n",
       " ' (All data is random....)']"
      ]
     },
     "execution_count": 9,
     "metadata": {},
     "output_type": "execute_result"
    }
   ],
   "source": [
    "h_data = re.findall(\"<h.>(.*)</h.>\", html)\n",
    "h_data"
   ]
  },
  {
   "cell_type": "markdown",
   "id": "fad29b54",
   "metadata": {},
   "source": [
    "###### Combine different building blocks available within regex to set up our pattern matches. \n",
    "###### Lets extract li tags, which ends with a break. Only extract alphabets seperated by a case. \n",
    "###### '+' says that any pattern which is within \"[]\" should be repeated.  "
   ]
  },
  {
   "cell_type": "code",
   "execution_count": 10,
   "id": "52e05495",
   "metadata": {},
   "outputs": [
    {
     "data": {
      "text/plain": [
       "['Cecilia Chapman',\n",
       " 'Iris Watson',\n",
       " 'Celeste Slater',\n",
       " 'Theodore Lowe',\n",
       " 'Calista Wise',\n",
       " 'Kyla Olsen',\n",
       " 'Forrest Ray',\n",
       " 'Hiroko Potter',\n",
       " 'Nyssa Vazquez',\n",
       " 'Lawrence Moreno',\n",
       " 'Ina Moran',\n",
       " 'Aaron Hawkins',\n",
       " 'Hedy Greene',\n",
       " 'Melvin Porter',\n",
       " 'Keefe Sellers',\n",
       " 'Joan Romero',\n",
       " 'Davis Patrick',\n",
       " 'Leilani Boyer',\n",
       " 'Colby Bernard',\n",
       " 'Bryar Pitts',\n",
       " 'Rahim Henderson',\n",
       " 'Noelle Adams',\n",
       " 'Lillith Daniel',\n",
       " 'Adria Russell',\n",
       " 'Hilda Haynes',\n",
       " 'Sheila Mcintosh',\n",
       " 'Rebecca Chambers',\n",
       " 'Christian Emerson',\n",
       " 'Nevada Ware',\n",
       " 'Margaret Joseph',\n",
       " 'Edward Nieves',\n",
       " 'Imani Talley',\n",
       " 'Bertha Riggs',\n",
       " 'Wallace Ross',\n",
       " 'Chester Bennett',\n",
       " 'Castor Richardson',\n",
       " 'Sonya Jordan',\n",
       " 'Harrison Mcguire',\n",
       " 'Malcolm Long',\n",
       " 'Raymond Levy',\n",
       " 'Hedley Ingram',\n",
       " 'David Mathews',\n",
       " 'Xyla Cash',\n",
       " 'Madeline Gregory',\n",
       " 'Griffith Daniels',\n",
       " 'Anne Beasley',\n",
       " 'Chaney Bennett',\n",
       " 'Daniel Bernard',\n",
       " 'Willow Hunt',\n",
       " 'Judith Floyd',\n",
       " 'Seth Farley',\n",
       " 'Zephania Sanders',\n",
       " 'Calista Merritt',\n",
       " 'Craig Williams',\n",
       " 'Lee Preston',\n",
       " 'Katelyn Cooper',\n",
       " 'Lacy Eaton',\n",
       " 'Driscoll Leach',\n",
       " 'Merritt Watson',\n",
       " 'Nehru Holmes',\n",
       " 'Quamar Rivera',\n",
       " 'Hiram Mullins',\n",
       " 'Kim Fletcher',\n",
       " 'Rigel Koch',\n",
       " 'Jeanette Sharpe',\n",
       " 'Dahlia Lee',\n",
       " 'Howard Hayden',\n",
       " 'Hyatt Kramer',\n",
       " 'Sonya Ray',\n",
       " 'Cara Whitehead',\n",
       " 'Blythe Carroll',\n",
       " 'Dale Griffin',\n",
       " 'McKenzie Hernandez',\n",
       " 'Haviva Holcomb',\n",
       " 'Ezra Duffy',\n",
       " 'Eleanor Jennings',\n",
       " 'Remedios Hester',\n",
       " 'Jasper Carney',\n",
       " 'Vielka Nielsen',\n",
       " 'Wilma Pace',\n",
       " 'Palmer Gay',\n",
       " 'Lyle Sutton',\n",
       " 'Ina Burt',\n",
       " 'Cleo Best',\n",
       " 'Hu Park',\n",
       " 'Liberty Walton',\n",
       " 'Aaron Trujillo',\n",
       " 'Elmo Lopez',\n",
       " 'Emerson Espinoza',\n",
       " 'Daniel Malone',\n",
       " 'Dante Bennett',\n",
       " 'Sade Higgins',\n",
       " 'Zorita Anderson',\n",
       " 'Jordan Calderon',\n",
       " 'Ivor Delgado',\n",
       " 'Pascale Patton',\n",
       " 'Nasim Strong',\n",
       " 'Keaton Underwood',\n",
       " 'Keegan Blair',\n",
       " 'Tamara Howe']"
      ]
     },
     "execution_count": 10,
     "metadata": {},
     "output_type": "execute_result"
    }
   ],
   "source": [
    "names = re.findall(\"<li>([A-Za-z]+ [A-Za-z]+)<br/>\", html)\n",
    "names"
   ]
  },
  {
   "cell_type": "markdown",
   "id": "7b123761",
   "metadata": {},
   "source": [
    "##### If we want to extract all the first name and last name seperately, control the paranthesis. "
   ]
  },
  {
   "cell_type": "code",
   "execution_count": 11,
   "id": "9100adf6",
   "metadata": {},
   "outputs": [
    {
     "data": {
      "text/plain": [
       "[('Cecilia', 'Chapman'),\n",
       " ('Iris', 'Watson'),\n",
       " ('Celeste', 'Slater'),\n",
       " ('Theodore', 'Lowe'),\n",
       " ('Calista', 'Wise'),\n",
       " ('Kyla', 'Olsen'),\n",
       " ('Forrest', 'Ray'),\n",
       " ('Hiroko', 'Potter'),\n",
       " ('Nyssa', 'Vazquez'),\n",
       " ('Lawrence', 'Moreno'),\n",
       " ('Ina', 'Moran'),\n",
       " ('Aaron', 'Hawkins'),\n",
       " ('Hedy', 'Greene'),\n",
       " ('Melvin', 'Porter'),\n",
       " ('Keefe', 'Sellers'),\n",
       " ('Joan', 'Romero'),\n",
       " ('Davis', 'Patrick'),\n",
       " ('Leilani', 'Boyer'),\n",
       " ('Colby', 'Bernard'),\n",
       " ('Bryar', 'Pitts'),\n",
       " ('Rahim', 'Henderson'),\n",
       " ('Noelle', 'Adams'),\n",
       " ('Lillith', 'Daniel'),\n",
       " ('Adria', 'Russell'),\n",
       " ('Hilda', 'Haynes'),\n",
       " ('Sheila', 'Mcintosh'),\n",
       " ('Rebecca', 'Chambers'),\n",
       " ('Christian', 'Emerson'),\n",
       " ('Nevada', 'Ware'),\n",
       " ('Margaret', 'Joseph'),\n",
       " ('Edward', 'Nieves'),\n",
       " ('Imani', 'Talley'),\n",
       " ('Bertha', 'Riggs'),\n",
       " ('Wallace', 'Ross'),\n",
       " ('Chester', 'Bennett'),\n",
       " ('Castor', 'Richardson'),\n",
       " ('Sonya', 'Jordan'),\n",
       " ('Harrison', 'Mcguire'),\n",
       " ('Malcolm', 'Long'),\n",
       " ('Raymond', 'Levy'),\n",
       " ('Hedley', 'Ingram'),\n",
       " ('David', 'Mathews'),\n",
       " ('Xyla', 'Cash'),\n",
       " ('Madeline', 'Gregory'),\n",
       " ('Griffith', 'Daniels'),\n",
       " ('Anne', 'Beasley'),\n",
       " ('Chaney', 'Bennett'),\n",
       " ('Daniel', 'Bernard'),\n",
       " ('Willow', 'Hunt'),\n",
       " ('Judith', 'Floyd'),\n",
       " ('Seth', 'Farley'),\n",
       " ('Zephania', 'Sanders'),\n",
       " ('Calista', 'Merritt'),\n",
       " ('Craig', 'Williams'),\n",
       " ('Lee', 'Preston'),\n",
       " ('Katelyn', 'Cooper'),\n",
       " ('Lacy', 'Eaton'),\n",
       " ('Driscoll', 'Leach'),\n",
       " ('Merritt', 'Watson'),\n",
       " ('Nehru', 'Holmes'),\n",
       " ('Quamar', 'Rivera'),\n",
       " ('Hiram', 'Mullins'),\n",
       " ('Kim', 'Fletcher'),\n",
       " ('Rigel', 'Koch'),\n",
       " ('Jeanette', 'Sharpe'),\n",
       " ('Dahlia', 'Lee'),\n",
       " ('Howard', 'Hayden'),\n",
       " ('Hyatt', 'Kramer'),\n",
       " ('Sonya', 'Ray'),\n",
       " ('Cara', 'Whitehead'),\n",
       " ('Blythe', 'Carroll'),\n",
       " ('Dale', 'Griffin'),\n",
       " ('McKenzie', 'Hernandez'),\n",
       " ('Haviva', 'Holcomb'),\n",
       " ('Ezra', 'Duffy'),\n",
       " ('Eleanor', 'Jennings'),\n",
       " ('Remedios', 'Hester'),\n",
       " ('Jasper', 'Carney'),\n",
       " ('Vielka', 'Nielsen'),\n",
       " ('Wilma', 'Pace'),\n",
       " ('Palmer', 'Gay'),\n",
       " ('Lyle', 'Sutton'),\n",
       " ('Ina', 'Burt'),\n",
       " ('Cleo', 'Best'),\n",
       " ('Hu', 'Park'),\n",
       " ('Liberty', 'Walton'),\n",
       " ('Aaron', 'Trujillo'),\n",
       " ('Elmo', 'Lopez'),\n",
       " ('Emerson', 'Espinoza'),\n",
       " ('Daniel', 'Malone'),\n",
       " ('Dante', 'Bennett'),\n",
       " ('Sade', 'Higgins'),\n",
       " ('Zorita', 'Anderson'),\n",
       " ('Jordan', 'Calderon'),\n",
       " ('Ivor', 'Delgado'),\n",
       " ('Pascale', 'Patton'),\n",
       " ('Nasim', 'Strong'),\n",
       " ('Keaton', 'Underwood'),\n",
       " ('Keegan', 'Blair'),\n",
       " ('Tamara', 'Howe')]"
      ]
     },
     "execution_count": 11,
     "metadata": {},
     "output_type": "execute_result"
    }
   ],
   "source": [
    "names = re.findall(\"<li>([A-Za-z]+) ([A-Za-z]+)<br/>\", html)\n",
    "names"
   ]
  },
  {
   "cell_type": "markdown",
   "id": "88a9729b",
   "metadata": {},
   "source": [
    "###### List all bullet items"
   ]
  },
  {
   "cell_type": "code",
   "execution_count": 12,
   "id": "4c066cb4",
   "metadata": {},
   "outputs": [
    {
     "data": {
      "text/plain": [
       "['Cecilia',\n",
       " 'Celeste',\n",
       " 'Calista',\n",
       " 'Colby',\n",
       " 'Christian',\n",
       " 'Chester',\n",
       " 'Castor',\n",
       " 'Chaney',\n",
       " 'Calista',\n",
       " 'Craig',\n",
       " 'Cara',\n",
       " 'Cleo']"
      ]
     },
     "execution_count": 12,
     "metadata": {},
     "output_type": "execute_result"
    }
   ],
   "source": [
    "names = re.findall(\"<li>(C\\w+)\", html)\n",
    "names"
   ]
  },
  {
   "cell_type": "markdown",
   "id": "00290946",
   "metadata": {},
   "source": [
    "##### First character after the bullet is 'C' and the paranthesis implies we want extract the content of the list item. "
   ]
  },
  {
   "cell_type": "code",
   "execution_count": 13,
   "id": "cb5ee95a",
   "metadata": {},
   "outputs": [
    {
     "data": {
      "text/plain": [
       "['Cecilia Chapman',\n",
       " 'Celeste Slater',\n",
       " 'Calista Wise',\n",
       " 'Colby Bernard',\n",
       " 'Christian Emerson',\n",
       " 'Chester Bennett',\n",
       " 'Castor Richardson',\n",
       " 'Chaney Bennett',\n",
       " 'Calista Merritt',\n",
       " 'Craig Williams',\n",
       " 'Cara Whitehead',\n",
       " 'Cleo Best']"
      ]
     },
     "execution_count": 13,
     "metadata": {},
     "output_type": "execute_result"
    }
   ],
   "source": [
    "names = re.findall(\"<li>(C\\w+ [A-Za-z]+)\", html)\n",
    "names"
   ]
  },
  {
   "cell_type": "markdown",
   "id": "8bc61b42",
   "metadata": {},
   "source": [
    "##### Lets extract phone numbers"
   ]
  },
  {
   "cell_type": "code",
   "execution_count": 14,
   "id": "5bd4738e",
   "metadata": {},
   "outputs": [
    {
     "data": {
      "text/plain": [
       "['(257) 563-7401',\n",
       " '(372) 587-2335',\n",
       " '(786) 713-8616',\n",
       " '(793) 151-6230',\n",
       " '(492) 709-6392',\n",
       " '(654) 393-5734',\n",
       " '(404) 960-3807',\n",
       " '(314) 244-6306',\n",
       " '(947) 278-5929',\n",
       " '(684) 579-1879',\n",
       " '(389) 737-2852',\n",
       " '(660) 663-4518',\n",
       " '(608) 265-2215',\n",
       " '(959) 119-8364',\n",
       " '(468) 353-2641',\n",
       " '(248) 675-4007',\n",
       " '(939) 353-1107',\n",
       " '(570) 873-7090',\n",
       " '(302) 259-2375',\n",
       " '(717) 450-4729',\n",
       " '(453) 391-4650',\n",
       " '(559) 104-5475',\n",
       " '(387) 142-9434',\n",
       " '(516) 745-4496',\n",
       " '(326) 677-3419',\n",
       " '(746) 679-2470',\n",
       " '(455) 430-0989',\n",
       " '(490) 936-4694',\n",
       " '(985) 834-8285',\n",
       " '(662) 661-1446',\n",
       " '(802) 668-8240',\n",
       " '(477) 768-9247',\n",
       " '(791) 239-9057',\n",
       " '(832) 109-0213',\n",
       " '(837) 196-3274',\n",
       " '(268) 442-2428',\n",
       " '(850) 676-5117',\n",
       " '(861) 546-5032',\n",
       " '(176) 805-4108',\n",
       " '(715) 912-6931',\n",
       " '(993) 554-0563',\n",
       " '(357) 616-5411',\n",
       " '(121) 347-0086',\n",
       " '(304) 506-6314',\n",
       " '(425) 288-2332',\n",
       " '(145) 987-4962',\n",
       " '(187) 582-9707',\n",
       " '(750) 558-3965',\n",
       " '(492) 467-3131',\n",
       " '(774) 914-2510',\n",
       " '(888) 106-8550',\n",
       " '(539) 567-3573',\n",
       " '(693) 337-2849',\n",
       " '(545) 604-9386',\n",
       " '(221) 156-5026',\n",
       " '(414) 876-0865',\n",
       " '(932) 726-8645',\n",
       " '(726) 710-9826',\n",
       " '(622) 594-1662',\n",
       " '(948) 600-8503',\n",
       " '(605) 900-7508',\n",
       " '(716) 977-5775',\n",
       " '(368) 239-8275',\n",
       " '(725) 342-0650',\n",
       " '(711) 993-5187',\n",
       " '(882) 399-5084',\n",
       " '(287) 755-9948',\n",
       " '(659) 551-3389',\n",
       " '(275) 730-6868',\n",
       " '(725) 757-4047',\n",
       " '(314) 882-1496',\n",
       " '(639) 360-7590',\n",
       " '(168) 222-1592',\n",
       " '(896) 303-1164',\n",
       " '(203) 982-6130',\n",
       " '(906) 217-1470',\n",
       " '(614) 514-1269',\n",
       " '(763) 409-5446',\n",
       " '(836) 292-5324',\n",
       " '(926) 709-3295',\n",
       " '(963) 356-9268',\n",
       " '(736) 522-8584',\n",
       " '(410) 483-0352',\n",
       " '(252) 204-1434',\n",
       " '(874) 886-4174',\n",
       " '(581) 379-7573',\n",
       " '(983) 632-8597',\n",
       " '(295) 983-3476',\n",
       " '(873) 392-8802',\n",
       " '(360) 669-3923',\n",
       " '(840) 987-9449',\n",
       " '(422) 517-6053',\n",
       " '(126) 940-2753',\n",
       " '(427) 930-5255',\n",
       " '(689) 721-5145',\n",
       " '(676) 334-2174',\n",
       " '(437) 994-5270',\n",
       " '(564) 908-6970',\n",
       " '(577) 333-6244',\n",
       " '(655) 840-6139']"
      ]
     },
     "execution_count": 14,
     "metadata": {},
     "output_type": "execute_result"
    }
   ],
   "source": [
    "phone_numbers = re.findall(\"\\(\\d{3}\\) \\d{3}-\\d{4}\", html)\n",
    "phone_numbers"
   ]
  },
  {
   "cell_type": "code",
   "execution_count": 15,
   "id": "3c714a1c",
   "metadata": {},
   "outputs": [
    {
     "data": {
      "text/plain": [
       "['Mankato Mississippi 96522',\n",
       " 'Frederick Nebraska 20620',\n",
       " 'Roseville NH 11523',\n",
       " 'New York 39531',\n",
       " 'Antonio MI 47096',\n",
       " 'Tamuning PA 10855',\n",
       " 'New Mexico 08219',\n",
       " 'Muskegon KY 12482',\n",
       " 'Chelsea MI 67708',\n",
       " 'Rosa MN 98804',\n",
       " 'Lebanon KY 69409',\n",
       " 'Rhode Island 24975',\n",
       " 'Latrobe DE 38100',\n",
       " 'South Dakota 45149',\n",
       " 'Woodruff SC 49854',\n",
       " 'Falls Ohio 19253',\n",
       " 'Bethlehem Utah 02913',\n",
       " 'Bernardino ND 09289',\n",
       " 'Amesbury HI 93373',\n",
       " 'Dodge GA 20783',\n",
       " 'City Ohio 90255',\n",
       " 'Gardena Colorado 37547',\n",
       " 'Centennial Delaware 48432',\n",
       " 'North Dakota 58563',\n",
       " 'Weirton IN 93479',\n",
       " 'Monica FL 30309',\n",
       " 'Liberal Vermont 51324',\n",
       " 'Hills Georgia 92358',\n",
       " 'Bay Indiana 19759',\n",
       " 'Tamuning Washington 55797',\n",
       " 'Rhode Island 37232',\n",
       " 'Yigo Massachusetts 50654',\n",
       " 'Easthampton TN 31626',\n",
       " 'Park Hawaii 43526',\n",
       " 'Minot AZ 95302',\n",
       " 'Lynchburg DC 29738',\n",
       " 'Visalia VA 54886',\n",
       " 'Fernando ID 77373',\n",
       " 'Charles Maine 11292',\n",
       " 'New Mexico 73585',\n",
       " 'Independence Texas 87535',\n",
       " 'Moscow Kentucky 77382',\n",
       " 'Boise CT 35282',\n",
       " 'Walla Michigan 82776',\n",
       " 'Tacoma AL 92508',\n",
       " 'Savannah Illinois 85794',\n",
       " 'Fremont AK 19408',\n",
       " 'Pomona TN 08609',\n",
       " 'Cudahy Ohio 31522',\n",
       " 'Williston Nevada 58521',\n",
       " 'Seattle Utah 81202',\n",
       " 'Hawthorne Louisiana 10626',\n",
       " 'Chickasha LA 58520',\n",
       " 'Springdale MO 57692',\n",
       " 'Clemson GA 04645',\n",
       " 'Burlingame Colorado 26278',\n",
       " 'Park Montana 69679',\n",
       " 'Christian Delaware 03869',\n",
       " 'Corona Oklahoma 55246',\n",
       " 'Rapids CT 87323',\n",
       " 'Schaumburg Arkansas 84872',\n",
       " 'Kennewick AL 41329',\n",
       " 'Independence CO 30135',\n",
       " 'Laughlin Hawaii 99602',\n",
       " 'Wilmington Ohio 91750',\n",
       " 'Atwater Pennsylvania 76865',\n",
       " 'Joliet SC 73490',\n",
       " 'Kent ID 63725',\n",
       " 'Fairbanks RI 96892',\n",
       " 'Torrance Wyoming 22767',\n",
       " 'Princeton TX 77987',\n",
       " 'South Dakota 43841',\n",
       " 'Greensboro VT 40684',\n",
       " 'New York 03828',\n",
       " 'Austin KY 50710',\n",
       " 'Astoria NJ 66309',\n",
       " 'Industry Louisiana 67973',\n",
       " 'New Hampshire 71983',\n",
       " 'North Dakota 79637',\n",
       " 'Darlington CO 06963',\n",
       " 'Watertown TN 07367',\n",
       " 'Gate Missouri 68999',\n",
       " 'Tyler KS 73510',\n",
       " 'Sedalia Utah 53700',\n",
       " 'Reedsport NY 48247',\n",
       " 'Logan NV 12657',\n",
       " 'Kingsport NH 56618',\n",
       " 'South Carolina 28423',\n",
       " 'Christi WI 97020',\n",
       " 'Lima RI 93490',\n",
       " 'Dearborn OR 62401',\n",
       " 'Wilmington OR 05182',\n",
       " 'Gardens Texas 87065',\n",
       " 'Duluth Washington 92611',\n",
       " 'Barbara MT 88317',\n",
       " 'Allis NC 36734',\n",
       " 'Watervliet Oklahoma 70863',\n",
       " 'Thiensville Maryland 19587',\n",
       " 'Manitowoc TN 07528',\n",
       " 'Mount WA 48580']"
      ]
     },
     "execution_count": 15,
     "metadata": {},
     "output_type": "execute_result"
    }
   ],
   "source": [
    "cities = re.findall(\"[A-Za-z]+ [A-Za-z]+ \\d{5}\", html)\n",
    "cities"
   ]
  }
 ],
 "metadata": {
  "kernelspec": {
   "display_name": "Python 3 (ipykernel)",
   "language": "python",
   "name": "python3"
  },
  "language_info": {
   "codemirror_mode": {
    "name": "ipython",
    "version": 3
   },
   "file_extension": ".py",
   "mimetype": "text/x-python",
   "name": "python",
   "nbconvert_exporter": "python",
   "pygments_lexer": "ipython3",
   "version": "3.9.13"
  }
 },
 "nbformat": 4,
 "nbformat_minor": 5
}
