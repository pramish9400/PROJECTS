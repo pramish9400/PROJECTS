{
 "cells": [
  {
   "cell_type": "markdown",
   "id": "b09c8a77",
   "metadata": {},
   "source": [
    "## 005 More meta characters"
   ]
  },
  {
   "cell_type": "code",
   "execution_count": 1,
   "id": "eb1b1374",
   "metadata": {},
   "outputs": [],
   "source": [
    "import regex as re"
   ]
  },
  {
   "cell_type": "code",
   "execution_count": 2,
   "id": "44d68e66",
   "metadata": {},
   "outputs": [],
   "source": [
    "doc = r'\\n for new [line, ] \\section and \\document and \\\\\\section \\n'"
   ]
  },
  {
   "cell_type": "code",
   "execution_count": 3,
   "id": "80f99fe6",
   "metadata": {},
   "outputs": [],
   "source": [
    "regExp_brackets = '[\\[\\]]'\n",
    "regExp_slashes = '[\\\\\\]'"
   ]
  },
  {
   "cell_type": "code",
   "execution_count": 4,
   "id": "20c19d7d",
   "metadata": {},
   "outputs": [
    {
     "data": {
      "text/plain": [
       "['\\\\', '[', ']', '\\\\', '\\\\', '\\\\', '\\\\', '\\\\', '\\\\']"
      ]
     },
     "execution_count": 4,
     "metadata": {},
     "output_type": "execute_result"
    }
   ],
   "source": [
    "re.findall(regExp_brackets+'|'+regExp_slashes, doc)"
   ]
  },
  {
   "cell_type": "markdown",
   "id": "84592b34",
   "metadata": {},
   "source": [
    "## $"
   ]
  },
  {
   "cell_type": "code",
   "execution_count": 5,
   "id": "6f43de53",
   "metadata": {},
   "outputs": [
    {
     "data": {
      "text/plain": [
       "<regex.Match object; span=(2, 3), match=':'>"
      ]
     },
     "execution_count": 5,
     "metadata": {},
     "output_type": "execute_result"
    }
   ],
   "source": [
    "re.search(':$', '{}:')"
   ]
  },
  {
   "cell_type": "markdown",
   "id": "1025fb9a",
   "metadata": {},
   "source": [
    "## ()"
   ]
  },
  {
   "cell_type": "code",
   "execution_count": 6,
   "id": "ca16ee13",
   "metadata": {},
   "outputs": [],
   "source": [
    "doc = 'find inthethe the the thethethe group'"
   ]
  },
  {
   "cell_type": "code",
   "execution_count": 7,
   "id": "eb29f07e",
   "metadata": {},
   "outputs": [],
   "source": [
    "p = re.compile('(the)+')"
   ]
  },
  {
   "cell_type": "code",
   "execution_count": 8,
   "id": "7f7beae3",
   "metadata": {},
   "outputs": [],
   "source": [
    "m=p.search(doc)"
   ]
  },
  {
   "cell_type": "code",
   "execution_count": 9,
   "id": "9c91ff6b",
   "metadata": {},
   "outputs": [
    {
     "data": {
      "text/plain": [
       "<regex.Match object; span=(7, 13), match='thethe'>"
      ]
     },
     "execution_count": 9,
     "metadata": {},
     "output_type": "execute_result"
    }
   ],
   "source": [
    "m"
   ]
  },
  {
   "cell_type": "code",
   "execution_count": 10,
   "id": "65835fb7",
   "metadata": {},
   "outputs": [],
   "source": [
    "doc = 'find inthethethethethethethe group'"
   ]
  },
  {
   "cell_type": "code",
   "execution_count": 11,
   "id": "a044781d",
   "metadata": {},
   "outputs": [],
   "source": [
    "p = re.compile('(the)+')"
   ]
  },
  {
   "cell_type": "code",
   "execution_count": 12,
   "id": "f9fcde7d",
   "metadata": {},
   "outputs": [],
   "source": [
    "m=p.search(doc)"
   ]
  },
  {
   "cell_type": "code",
   "execution_count": 13,
   "id": "bc0fd36a",
   "metadata": {},
   "outputs": [
    {
     "data": {
      "text/plain": [
       "<regex.Match object; span=(7, 28), match='thethethethethethethe'>"
      ]
     },
     "execution_count": 13,
     "metadata": {},
     "output_type": "execute_result"
    }
   ],
   "source": [
    "m"
   ]
  },
  {
   "cell_type": "code",
   "execution_count": 14,
   "id": "d850e526",
   "metadata": {},
   "outputs": [],
   "source": [
    "doc = 'find inthethethethethethethe group thethethethefas'"
   ]
  },
  {
   "cell_type": "code",
   "execution_count": 15,
   "id": "162257a5",
   "metadata": {},
   "outputs": [
    {
     "name": "stdout",
     "output_type": "stream",
     "text": [
      "(7, 28) thethethethethethethe\n",
      "(35, 47) thethethethe\n"
     ]
    }
   ],
   "source": [
    "p = re.compile('(the)+')\n",
    "iterator = p.finditer(doc)\n",
    "for m in iterator:\n",
    "    print(m.span(), m.group())"
   ]
  },
  {
   "cell_type": "markdown",
   "id": "5e5d4e78",
   "metadata": {},
   "source": [
    "### String modifications"
   ]
  },
  {
   "cell_type": "code",
   "execution_count": 16,
   "id": "e5c4ca49",
   "metadata": {},
   "outputs": [],
   "source": [
    "p = re.compile('\\W+')"
   ]
  },
  {
   "cell_type": "code",
   "execution_count": 17,
   "id": "b1e8c9ed",
   "metadata": {},
   "outputs": [
    {
     "data": {
      "text/plain": [
       "['This',\n",
       " 'test',\n",
       " 'is',\n",
       " 'short',\n",
       " 'and',\n",
       " 'sweet',\n",
       " 'words',\n",
       " '25325',\n",
       " '__',\n",
       " 'asdfe']"
      ]
     },
     "execution_count": 17,
     "metadata": {},
     "output_type": "execute_result"
    }
   ],
   "source": [
    "p.split('This test, ** \\\\ is short and sweet,,, ... words 25325 __## asdfe')"
   ]
  },
  {
   "cell_type": "markdown",
   "id": "92b5241e",
   "metadata": {},
   "source": [
    "### Sub method excercises"
   ]
  },
  {
   "cell_type": "code",
   "execution_count": 18,
   "id": "ad5e2f01",
   "metadata": {},
   "outputs": [],
   "source": [
    "p = re.compile('(blue\\s|white\\s|red\\s)+')"
   ]
  },
  {
   "cell_type": "code",
   "execution_count": 19,
   "id": "3ad77dd6",
   "metadata": {},
   "outputs": [
    {
     "data": {
      "text/plain": [
       "'color shoes and color socks'"
      ]
     },
     "execution_count": 19,
     "metadata": {},
     "output_type": "execute_result"
    }
   ],
   "source": [
    "p.sub('color ', 'blue red shoes and white blue red socks')"
   ]
  },
  {
   "cell_type": "code",
   "execution_count": 20,
   "id": "26af13d0",
   "metadata": {},
   "outputs": [],
   "source": [
    "p = re.compile('(blue\\s|red\\s|white\\s)+', re.IGNORECASE)"
   ]
  },
  {
   "cell_type": "code",
   "execution_count": 21,
   "id": "8f3b0a7f",
   "metadata": {},
   "outputs": [
    {
     "data": {
      "text/plain": [
       "'color Shoes and color Socks'"
      ]
     },
     "execution_count": 21,
     "metadata": {},
     "output_type": "execute_result"
    }
   ],
   "source": [
    "p.sub('color ', 'Blue Red Shoes and White BLue ReD WhiTe Red Socks')"
   ]
  },
  {
   "cell_type": "markdown",
   "id": "b86308a2",
   "metadata": {},
   "source": [
    "### Remove multiple consecutive spaces into single one and remove white spaces at the beginning and at the end of the document?"
   ]
  },
  {
   "cell_type": "code",
   "execution_count": 22,
   "id": "25848aee",
   "metadata": {},
   "outputs": [],
   "source": [
    "doc = '\tabc\tasd\tasda;aioje\tasda e\taa e  aba\t'"
   ]
  },
  {
   "cell_type": "code",
   "execution_count": 23,
   "id": "c3c3fa1b",
   "metadata": {},
   "outputs": [],
   "source": [
    "p = re.compile('^\t|$\t| ')"
   ]
  },
  {
   "cell_type": "code",
   "execution_count": 24,
   "id": "23674fa3",
   "metadata": {},
   "outputs": [
    {
     "data": {
      "text/plain": [
       "'abc\\tasd\\tasda;aioje\\tasdae\\taaeaba\\t'"
      ]
     },
     "execution_count": 24,
     "metadata": {},
     "output_type": "execute_result"
    }
   ],
   "source": [
    "p.sub('',doc)"
   ]
  },
  {
   "cell_type": "code",
   "execution_count": 25,
   "id": "82d75648",
   "metadata": {},
   "outputs": [],
   "source": [
    "p1 = re.compile('\\s+')"
   ]
  },
  {
   "cell_type": "code",
   "execution_count": 26,
   "id": "ba131196",
   "metadata": {},
   "outputs": [],
   "source": [
    "p = re.compile('^ | $')"
   ]
  },
  {
   "cell_type": "code",
   "execution_count": 27,
   "id": "2c4c8cd3",
   "metadata": {},
   "outputs": [
    {
     "data": {
      "text/plain": [
       "'abc asd asda;aioje asda e aa e aba'"
      ]
     },
     "execution_count": 27,
     "metadata": {},
     "output_type": "execute_result"
    }
   ],
   "source": [
    "p.sub('', p1.sub(' ', doc))"
   ]
  }
 ],
 "metadata": {
  "kernelspec": {
   "display_name": "Python 3 (ipykernel)",
   "language": "python",
   "name": "python3"
  },
  "language_info": {
   "codemirror_mode": {
    "name": "ipython",
    "version": 3
   },
   "file_extension": ".py",
   "mimetype": "text/x-python",
   "name": "python",
   "nbconvert_exporter": "python",
   "pygments_lexer": "ipython3",
   "version": "3.9.13"
  }
 },
 "nbformat": 4,
 "nbformat_minor": 5
}
