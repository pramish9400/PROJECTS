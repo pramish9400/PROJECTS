{
 "cells": [
  {
   "cell_type": "markdown",
   "id": "cee9ac3c",
   "metadata": {},
   "source": [
    "# BeautifulSoup To Work With Webpages"
   ]
  },
  {
   "cell_type": "code",
   "execution_count": 1,
   "id": "d72b842e",
   "metadata": {},
   "outputs": [],
   "source": [
    "import requests\n",
    "import webbrowser\n",
    "\n",
    "import re\n",
    "\n",
    "from bs4 import BeautifulSoup\n",
    "\n",
    "from pprint import pprint"
   ]
  },
  {
   "cell_type": "code",
   "execution_count": 2,
   "id": "1c501617",
   "metadata": {},
   "outputs": [
    {
     "data": {
      "text/plain": [
       "True"
      ]
     },
     "execution_count": 2,
     "metadata": {},
     "output_type": "execute_result"
    }
   ],
   "source": [
    "webbrowser.open(\"https://pythonscraping.com/pages/page3.html\")"
   ]
  },
  {
   "cell_type": "code",
   "execution_count": 3,
   "id": "dc87c6a4",
   "metadata": {},
   "outputs": [],
   "source": [
    "resp = requests.get('https://pythonscraping.com/pages/page3.html')\n",
    "html = resp.text"
   ]
  },
  {
   "cell_type": "code",
   "execution_count": 4,
   "id": "0bd1ff22",
   "metadata": {},
   "outputs": [
    {
     "data": {
      "text/plain": [
       "'<html>\\n<head>\\n<style>\\nimg{\\n\\twidth:75px;\\n}\\ntable{\\n\\twidth:50%;\\n}\\ntd{\\n\\tmargin:10px;\\n\\tpadding:10px;\\n}\\n.wrapper{\\n\\twidth:800px;\\n}\\n.excitingNote{\\n\\tfont-style:italic;\\n\\tfont-weight:bold;\\n}\\n</style>\\n</head>\\n<body>\\n<div id=\"wrapper\">\\n<img src=\"../img/gifts/logo.jpg\" style=\"float:left;\">\\n<h1>Totally Normal Gifts</h1>\\n<div id=\"content\">Here is a collection of totally normal, totally reasonable gifts that your friends are sure to love! Our collection is\\nhand-curated by well-paid, free-range Tibetan monks.<p>\\nWe haven\\'t figured out how to make online shopping carts yet, but you can send us a check to:<br>\\n123 Main St.<br>\\nAbuja, Nigeria\\n</br>We will then send your totally amazing gift, pronto! Please include an extra $5.00 for gift wrapping.</div>\\n<table id=\"giftList\">\\n<tr><th>\\nItem Title\\n</th><th>\\nDescription\\n</th><th>\\nCost\\n</th><th>\\nImage\\n</th></tr>\\n\\n<tr id=\"gift1\" class=\"gift\"><td>\\nVegetable Basket\\n</td><td>\\nThis vegetable basket is the perfect gift for your health conscious (or overweight) friends!\\n<span class=\"excitingNote\">Now with super-colorful bell peppers!</span>\\n</td><td>\\n$15.00\\n</td><td>\\n<img src=\"../img/gifts/img1.jpg\">\\n</td></tr>\\n\\n<tr id=\"gift2\" class=\"gift\"><td>\\nRussian Nesting Dolls\\n</td><td>\\nHand-painted by trained monkeys, these exquisite dolls are priceless! And by \"priceless,\" we mean \"extremely expensive\"! <span class=\"excitingNote\">8 entire dolls per set! Octuple the presents!</span>\\n</td><td>\\n$10,000.52\\n</td><td>\\n<img src=\"../img/gifts/img2.jpg\">\\n</td></tr>\\n\\n<tr id=\"gift3\" class=\"gift\"><td>\\nFish Painting\\n</td><td>\\nIf something seems fishy about this painting, it\\'s because it\\'s a fish! <span class=\"excitingNote\">Also hand-painted by trained monkeys!</span>\\n</td><td>\\n$10,005.00\\n</td><td>\\n<img src=\"../img/gifts/img3.jpg\">\\n</td></tr>\\n\\n<tr id=\"gift4\" class=\"gift\"><td>\\nDead Parrot\\n</td><td>\\nThis is an ex-parrot! <span class=\"excitingNote\">Or maybe he\\'s only resting?</span>\\n</td><td>\\n$0.50\\n</td><td>\\n<img src=\"../img/gifts/img4.jpg\">\\n</td></tr>\\n\\n<tr id=\"gift5\" class=\"gift\"><td>\\nMystery Box\\n</td><td>\\nIf you love suprises, this mystery box is for you! Do not place on light-colored surfaces. May cause oil staining. <span class=\"excitingNote\">Keep your friends guessing!</span>\\n</td><td>\\n$1.50\\n</td><td>\\n<img src=\"../img/gifts/img6.jpg\">\\n</td></tr>\\n</table>\\n</p>\\n<div id=\"footer\">\\n&copy; Totally Normal Gifts, Inc. <br>\\n+234 (617) 863-0736\\n</div>\\n\\n</div>\\n</body>\\n</html>\\n'"
      ]
     },
     "execution_count": 4,
     "metadata": {},
     "output_type": "execute_result"
    }
   ],
   "source": [
    "html"
   ]
  },
  {
   "cell_type": "code",
   "execution_count": 5,
   "id": "8c12ff69",
   "metadata": {},
   "outputs": [
    {
     "data": {
      "text/plain": [
       "<html>\n",
       "<head>\n",
       "<style>\n",
       "img{\n",
       "\twidth:75px;\n",
       "}\n",
       "table{\n",
       "\twidth:50%;\n",
       "}\n",
       "td{\n",
       "\tmargin:10px;\n",
       "\tpadding:10px;\n",
       "}\n",
       ".wrapper{\n",
       "\twidth:800px;\n",
       "}\n",
       ".excitingNote{\n",
       "\tfont-style:italic;\n",
       "\tfont-weight:bold;\n",
       "}\n",
       "</style>\n",
       "</head>\n",
       "<body>\n",
       "<div id=\"wrapper\">\n",
       "<img src=\"../img/gifts/logo.jpg\" style=\"float:left;\"/>\n",
       "<h1>Totally Normal Gifts</h1>\n",
       "<div id=\"content\">Here is a collection of totally normal, totally reasonable gifts that your friends are sure to love! Our collection is\n",
       "hand-curated by well-paid, free-range Tibetan monks.<p>\n",
       "We haven't figured out how to make online shopping carts yet, but you can send us a check to:<br/>\n",
       "123 Main St.<br/>\n",
       "Abuja, Nigeria\n",
       "We will then send your totally amazing gift, pronto! Please include an extra $5.00 for gift wrapping.</p></div>\n",
       "<table id=\"giftList\">\n",
       "<tr><th>\n",
       "Item Title\n",
       "</th><th>\n",
       "Description\n",
       "</th><th>\n",
       "Cost\n",
       "</th><th>\n",
       "Image\n",
       "</th></tr>\n",
       "<tr class=\"gift\" id=\"gift1\"><td>\n",
       "Vegetable Basket\n",
       "</td><td>\n",
       "This vegetable basket is the perfect gift for your health conscious (or overweight) friends!\n",
       "<span class=\"excitingNote\">Now with super-colorful bell peppers!</span>\n",
       "</td><td>\n",
       "$15.00\n",
       "</td><td>\n",
       "<img src=\"../img/gifts/img1.jpg\"/>\n",
       "</td></tr>\n",
       "<tr class=\"gift\" id=\"gift2\"><td>\n",
       "Russian Nesting Dolls\n",
       "</td><td>\n",
       "Hand-painted by trained monkeys, these exquisite dolls are priceless! And by \"priceless,\" we mean \"extremely expensive\"! <span class=\"excitingNote\">8 entire dolls per set! Octuple the presents!</span>\n",
       "</td><td>\n",
       "$10,000.52\n",
       "</td><td>\n",
       "<img src=\"../img/gifts/img2.jpg\"/>\n",
       "</td></tr>\n",
       "<tr class=\"gift\" id=\"gift3\"><td>\n",
       "Fish Painting\n",
       "</td><td>\n",
       "If something seems fishy about this painting, it's because it's a fish! <span class=\"excitingNote\">Also hand-painted by trained monkeys!</span>\n",
       "</td><td>\n",
       "$10,005.00\n",
       "</td><td>\n",
       "<img src=\"../img/gifts/img3.jpg\"/>\n",
       "</td></tr>\n",
       "<tr class=\"gift\" id=\"gift4\"><td>\n",
       "Dead Parrot\n",
       "</td><td>\n",
       "This is an ex-parrot! <span class=\"excitingNote\">Or maybe he's only resting?</span>\n",
       "</td><td>\n",
       "$0.50\n",
       "</td><td>\n",
       "<img src=\"../img/gifts/img4.jpg\"/>\n",
       "</td></tr>\n",
       "<tr class=\"gift\" id=\"gift5\"><td>\n",
       "Mystery Box\n",
       "</td><td>\n",
       "If you love suprises, this mystery box is for you! Do not place on light-colored surfaces. May cause oil staining. <span class=\"excitingNote\">Keep your friends guessing!</span>\n",
       "</td><td>\n",
       "$1.50\n",
       "</td><td>\n",
       "<img src=\"../img/gifts/img6.jpg\"/>\n",
       "</td></tr>\n",
       "</table>\n",
       "<div id=\"footer\">\n",
       "© Totally Normal Gifts, Inc. <br/>\n",
       "+234 (617) 863-0736\n",
       "</div>\n",
       "</div>\n",
       "</body>\n",
       "</html>"
      ]
     },
     "execution_count": 5,
     "metadata": {},
     "output_type": "execute_result"
    }
   ],
   "source": [
    "soup = BeautifulSoup(html, 'lxml')\n",
    "soup"
   ]
  },
  {
   "cell_type": "code",
   "execution_count": 6,
   "id": "2098bbae",
   "metadata": {},
   "outputs": [
    {
     "name": "stdout",
     "output_type": "stream",
     "text": [
      "<html>\n",
      " <head>\n",
      "  <style>\n",
      "   img{\n",
      "\twidth:75px;\n",
      "}\n",
      "table{\n",
      "\twidth:50%;\n",
      "}\n",
      "td{\n",
      "\tmargin:10px;\n",
      "\tpadding:10px;\n",
      "}\n",
      ".wrapper{\n",
      "\twidth:800px;\n",
      "}\n",
      ".excitingNote{\n",
      "\tfont-style:italic;\n",
      "\tfont-weight:bold;\n",
      "}\n",
      "  </style>\n",
      " </head>\n",
      " <body>\n",
      "  <div id=\"wrapper\">\n",
      "   <img src=\"../img/gifts/logo.jpg\" style=\"float:left;\"/>\n",
      "   <h1>\n",
      "    Totally Normal Gifts\n",
      "   </h1>\n",
      "   <div id=\"content\">\n",
      "    Here is a collection of totally normal, totally reasonable gifts that your friends are sure to love! Our collection is\n",
      "hand-curated by well-paid, free-range Tibetan monks.\n",
      "    <p>\n",
      "     We haven't figured out how to make online shopping carts yet, but you can send us a check to:\n",
      "     <br/>\n",
      "     123 Main St.\n",
      "     <br/>\n",
      "     Abuja, Nigeria\n",
      "We will then send your totally amazing gift, pronto! Please include an extra $5.00 for gift wrapping.\n",
      "    </p>\n",
      "   </div>\n",
      "   <table id=\"giftList\">\n",
      "    <tr>\n",
      "     <th>\n",
      "      Item Title\n",
      "     </th>\n",
      "     <th>\n",
      "      Description\n",
      "     </th>\n",
      "     <th>\n",
      "      Cost\n",
      "     </th>\n",
      "     <th>\n",
      "      Image\n",
      "     </th>\n",
      "    </tr>\n",
      "    <tr class=\"gift\" id=\"gift1\">\n",
      "     <td>\n",
      "      Vegetable Basket\n",
      "     </td>\n",
      "     <td>\n",
      "      This vegetable basket is the perfect gift for your health conscious (or overweight) friends!\n",
      "      <span class=\"excitingNote\">\n",
      "       Now with super-colorful bell peppers!\n",
      "      </span>\n",
      "     </td>\n",
      "     <td>\n",
      "      $15.00\n",
      "     </td>\n",
      "     <td>\n",
      "      <img src=\"../img/gifts/img1.jpg\"/>\n",
      "     </td>\n",
      "    </tr>\n",
      "    <tr class=\"gift\" id=\"gift2\">\n",
      "     <td>\n",
      "      Russian Nesting Dolls\n",
      "     </td>\n",
      "     <td>\n",
      "      Hand-painted by trained monkeys, these exquisite dolls are priceless! And by \"priceless,\" we mean \"extremely expensive\"!\n",
      "      <span class=\"excitingNote\">\n",
      "       8 entire dolls per set! Octuple the presents!\n",
      "      </span>\n",
      "     </td>\n",
      "     <td>\n",
      "      $10,000.52\n",
      "     </td>\n",
      "     <td>\n",
      "      <img src=\"../img/gifts/img2.jpg\"/>\n",
      "     </td>\n",
      "    </tr>\n",
      "    <tr class=\"gift\" id=\"gift3\">\n",
      "     <td>\n",
      "      Fish Painting\n",
      "     </td>\n",
      "     <td>\n",
      "      If something seems fishy about this painting, it's because it's a fish!\n",
      "      <span class=\"excitingNote\">\n",
      "       Also hand-painted by trained monkeys!\n",
      "      </span>\n",
      "     </td>\n",
      "     <td>\n",
      "      $10,005.00\n",
      "     </td>\n",
      "     <td>\n",
      "      <img src=\"../img/gifts/img3.jpg\"/>\n",
      "     </td>\n",
      "    </tr>\n",
      "    <tr class=\"gift\" id=\"gift4\">\n",
      "     <td>\n",
      "      Dead Parrot\n",
      "     </td>\n",
      "     <td>\n",
      "      This is an ex-parrot!\n",
      "      <span class=\"excitingNote\">\n",
      "       Or maybe he's only resting?\n",
      "      </span>\n",
      "     </td>\n",
      "     <td>\n",
      "      $0.50\n",
      "     </td>\n",
      "     <td>\n",
      "      <img src=\"../img/gifts/img4.jpg\"/>\n",
      "     </td>\n",
      "    </tr>\n",
      "    <tr class=\"gift\" id=\"gift5\">\n",
      "     <td>\n",
      "      Mystery Box\n",
      "     </td>\n",
      "     <td>\n",
      "      If you love suprises, this mystery box is for you! Do not place on light-colored surfaces. May cause oil staining.\n",
      "      <span class=\"excitingNote\">\n",
      "       Keep your friends guessing!\n",
      "      </span>\n",
      "     </td>\n",
      "     <td>\n",
      "      $1.50\n",
      "     </td>\n",
      "     <td>\n",
      "      <img src=\"../img/gifts/img6.jpg\"/>\n",
      "     </td>\n",
      "    </tr>\n",
      "   </table>\n",
      "   <div id=\"footer\">\n",
      "    © Totally Normal Gifts, Inc.\n",
      "    <br/>\n",
      "    +234 (617) 863-0736\n",
      "   </div>\n",
      "  </div>\n",
      " </body>\n",
      "</html>\n",
      "\n"
     ]
    }
   ],
   "source": [
    "print(soup.prettify())"
   ]
  },
  {
   "cell_type": "code",
   "execution_count": 7,
   "id": "d104a4e4",
   "metadata": {},
   "outputs": [
    {
     "data": {
      "text/plain": [
       "<style>\n",
       "img{\n",
       "\twidth:75px;\n",
       "}\n",
       "table{\n",
       "\twidth:50%;\n",
       "}\n",
       "td{\n",
       "\tmargin:10px;\n",
       "\tpadding:10px;\n",
       "}\n",
       ".wrapper{\n",
       "\twidth:800px;\n",
       "}\n",
       ".excitingNote{\n",
       "\tfont-style:italic;\n",
       "\tfont-weight:bold;\n",
       "}\n",
       "</style>"
      ]
     },
     "execution_count": 7,
     "metadata": {},
     "output_type": "execute_result"
    }
   ],
   "source": [
    "soup.style"
   ]
  },
  {
   "cell_type": "markdown",
   "id": "75b4280b",
   "metadata": {},
   "source": [
    "#### First row or header of the table"
   ]
  },
  {
   "cell_type": "code",
   "execution_count": 8,
   "id": "be48a3b7",
   "metadata": {},
   "outputs": [
    {
     "data": {
      "text/plain": [
       "<tr><th>\n",
       "Item Title\n",
       "</th><th>\n",
       "Description\n",
       "</th><th>\n",
       "Cost\n",
       "</th><th>\n",
       "Image\n",
       "</th></tr>"
      ]
     },
     "execution_count": 8,
     "metadata": {},
     "output_type": "execute_result"
    }
   ],
   "source": [
    "soup.tr"
   ]
  },
  {
   "cell_type": "code",
   "execution_count": 9,
   "id": "cd91fe0f",
   "metadata": {},
   "outputs": [
    {
     "data": {
      "text/plain": [
       "<img src=\"../img/gifts/logo.jpg\" style=\"float:left;\"/>"
      ]
     },
     "execution_count": 9,
     "metadata": {},
     "output_type": "execute_result"
    }
   ],
   "source": [
    "soup.img"
   ]
  },
  {
   "cell_type": "markdown",
   "id": "41cb2621",
   "metadata": {},
   "source": [
    "#### finding all rows within the page"
   ]
  },
  {
   "cell_type": "code",
   "execution_count": 10,
   "id": "42748273",
   "metadata": {},
   "outputs": [
    {
     "data": {
      "text/plain": [
       "[<tr><th>\n",
       " Item Title\n",
       " </th><th>\n",
       " Description\n",
       " </th><th>\n",
       " Cost\n",
       " </th><th>\n",
       " Image\n",
       " </th></tr>,\n",
       " <tr class=\"gift\" id=\"gift1\"><td>\n",
       " Vegetable Basket\n",
       " </td><td>\n",
       " This vegetable basket is the perfect gift for your health conscious (or overweight) friends!\n",
       " <span class=\"excitingNote\">Now with super-colorful bell peppers!</span>\n",
       " </td><td>\n",
       " $15.00\n",
       " </td><td>\n",
       " <img src=\"../img/gifts/img1.jpg\"/>\n",
       " </td></tr>,\n",
       " <tr class=\"gift\" id=\"gift2\"><td>\n",
       " Russian Nesting Dolls\n",
       " </td><td>\n",
       " Hand-painted by trained monkeys, these exquisite dolls are priceless! And by \"priceless,\" we mean \"extremely expensive\"! <span class=\"excitingNote\">8 entire dolls per set! Octuple the presents!</span>\n",
       " </td><td>\n",
       " $10,000.52\n",
       " </td><td>\n",
       " <img src=\"../img/gifts/img2.jpg\"/>\n",
       " </td></tr>,\n",
       " <tr class=\"gift\" id=\"gift3\"><td>\n",
       " Fish Painting\n",
       " </td><td>\n",
       " If something seems fishy about this painting, it's because it's a fish! <span class=\"excitingNote\">Also hand-painted by trained monkeys!</span>\n",
       " </td><td>\n",
       " $10,005.00\n",
       " </td><td>\n",
       " <img src=\"../img/gifts/img3.jpg\"/>\n",
       " </td></tr>,\n",
       " <tr class=\"gift\" id=\"gift4\"><td>\n",
       " Dead Parrot\n",
       " </td><td>\n",
       " This is an ex-parrot! <span class=\"excitingNote\">Or maybe he's only resting?</span>\n",
       " </td><td>\n",
       " $0.50\n",
       " </td><td>\n",
       " <img src=\"../img/gifts/img4.jpg\"/>\n",
       " </td></tr>,\n",
       " <tr class=\"gift\" id=\"gift5\"><td>\n",
       " Mystery Box\n",
       " </td><td>\n",
       " If you love suprises, this mystery box is for you! Do not place on light-colored surfaces. May cause oil staining. <span class=\"excitingNote\">Keep your friends guessing!</span>\n",
       " </td><td>\n",
       " $1.50\n",
       " </td><td>\n",
       " <img src=\"../img/gifts/img6.jpg\"/>\n",
       " </td></tr>]"
      ]
     },
     "execution_count": 10,
     "metadata": {},
     "output_type": "execute_result"
    }
   ],
   "source": [
    "rows = soup.find_all('tr')\n",
    "rows"
   ]
  },
  {
   "cell_type": "code",
   "execution_count": 11,
   "id": "a3e3b660",
   "metadata": {},
   "outputs": [
    {
     "data": {
      "text/plain": [
       "6"
      ]
     },
     "execution_count": 11,
     "metadata": {},
     "output_type": "execute_result"
    }
   ],
   "source": [
    "len(rows)"
   ]
  },
  {
   "cell_type": "markdown",
   "id": "95953eef",
   "metadata": {},
   "source": [
    "#### Indexing rows"
   ]
  },
  {
   "cell_type": "code",
   "execution_count": 12,
   "id": "ba9f0d19",
   "metadata": {},
   "outputs": [
    {
     "data": {
      "text/plain": [
       "<tr><th>\n",
       "Item Title\n",
       "</th><th>\n",
       "Description\n",
       "</th><th>\n",
       "Cost\n",
       "</th><th>\n",
       "Image\n",
       "</th></tr>"
      ]
     },
     "execution_count": 12,
     "metadata": {},
     "output_type": "execute_result"
    }
   ],
   "source": [
    "rows[0]"
   ]
  },
  {
   "cell_type": "code",
   "execution_count": 13,
   "id": "ffecb52b",
   "metadata": {},
   "outputs": [
    {
     "data": {
      "text/plain": [
       "<tr class=\"gift\" id=\"gift1\"><td>\n",
       "Vegetable Basket\n",
       "</td><td>\n",
       "This vegetable basket is the perfect gift for your health conscious (or overweight) friends!\n",
       "<span class=\"excitingNote\">Now with super-colorful bell peppers!</span>\n",
       "</td><td>\n",
       "$15.00\n",
       "</td><td>\n",
       "<img src=\"../img/gifts/img1.jpg\"/>\n",
       "</td></tr>"
      ]
     },
     "execution_count": 13,
     "metadata": {},
     "output_type": "execute_result"
    }
   ],
   "source": [
    "rows[1]"
   ]
  },
  {
   "cell_type": "markdown",
   "id": "46718590",
   "metadata": {},
   "source": [
    "#### table cells findall"
   ]
  },
  {
   "cell_type": "code",
   "execution_count": 14,
   "id": "124d7ca7",
   "metadata": {},
   "outputs": [
    {
     "data": {
      "text/plain": [
       "[<td>\n",
       " Vegetable Basket\n",
       " </td>,\n",
       " <td>\n",
       " This vegetable basket is the perfect gift for your health conscious (or overweight) friends!\n",
       " <span class=\"excitingNote\">Now with super-colorful bell peppers!</span>\n",
       " </td>,\n",
       " <td>\n",
       " $15.00\n",
       " </td>,\n",
       " <td>\n",
       " <img src=\"../img/gifts/img1.jpg\"/>\n",
       " </td>,\n",
       " <td>\n",
       " Russian Nesting Dolls\n",
       " </td>,\n",
       " <td>\n",
       " Hand-painted by trained monkeys, these exquisite dolls are priceless! And by \"priceless,\" we mean \"extremely expensive\"! <span class=\"excitingNote\">8 entire dolls per set! Octuple the presents!</span>\n",
       " </td>,\n",
       " <td>\n",
       " $10,000.52\n",
       " </td>,\n",
       " <td>\n",
       " <img src=\"../img/gifts/img2.jpg\"/>\n",
       " </td>,\n",
       " <td>\n",
       " Fish Painting\n",
       " </td>,\n",
       " <td>\n",
       " If something seems fishy about this painting, it's because it's a fish! <span class=\"excitingNote\">Also hand-painted by trained monkeys!</span>\n",
       " </td>,\n",
       " <td>\n",
       " $10,005.00\n",
       " </td>,\n",
       " <td>\n",
       " <img src=\"../img/gifts/img3.jpg\"/>\n",
       " </td>,\n",
       " <td>\n",
       " Dead Parrot\n",
       " </td>,\n",
       " <td>\n",
       " This is an ex-parrot! <span class=\"excitingNote\">Or maybe he's only resting?</span>\n",
       " </td>,\n",
       " <td>\n",
       " $0.50\n",
       " </td>,\n",
       " <td>\n",
       " <img src=\"../img/gifts/img4.jpg\"/>\n",
       " </td>,\n",
       " <td>\n",
       " Mystery Box\n",
       " </td>,\n",
       " <td>\n",
       " If you love suprises, this mystery box is for you! Do not place on light-colored surfaces. May cause oil staining. <span class=\"excitingNote\">Keep your friends guessing!</span>\n",
       " </td>,\n",
       " <td>\n",
       " $1.50\n",
       " </td>,\n",
       " <td>\n",
       " <img src=\"../img/gifts/img6.jpg\"/>\n",
       " </td>]"
      ]
     },
     "execution_count": 14,
     "metadata": {},
     "output_type": "execute_result"
    }
   ],
   "source": [
    "cells = soup.find_all('td')\n",
    "cells"
   ]
  },
  {
   "cell_type": "code",
   "execution_count": 15,
   "id": "10e0d907",
   "metadata": {},
   "outputs": [
    {
     "data": {
      "text/plain": [
       "20"
      ]
     },
     "execution_count": 15,
     "metadata": {},
     "output_type": "execute_result"
    }
   ],
   "source": [
    "len(cells)"
   ]
  },
  {
   "cell_type": "markdown",
   "id": "81ddbf2e",
   "metadata": {},
   "source": [
    "#### Access each table cells individually"
   ]
  },
  {
   "cell_type": "code",
   "execution_count": 16,
   "id": "63cfcb20",
   "metadata": {},
   "outputs": [
    {
     "name": "stdout",
     "output_type": "stream",
     "text": [
      "<td>\n",
      "Vegetable Basket\n",
      "</td>\n",
      "<td>\n",
      "This vegetable basket is the perfect gift for your health conscious (or overweight) friends!\n",
      "<span class=\"excitingNote\">Now with super-colorful bell peppers!</span>\n",
      "</td>\n",
      "<td>\n",
      "$15.00\n",
      "</td>\n",
      "<td>\n",
      "<img src=\"../img/gifts/img1.jpg\"/>\n",
      "</td>\n",
      "<td>\n",
      "Russian Nesting Dolls\n",
      "</td>\n",
      "<td>\n",
      "Hand-painted by trained monkeys, these exquisite dolls are priceless! And by \"priceless,\" we mean \"extremely expensive\"! <span class=\"excitingNote\">8 entire dolls per set! Octuple the presents!</span>\n",
      "</td>\n",
      "<td>\n",
      "$10,000.52\n",
      "</td>\n",
      "<td>\n",
      "<img src=\"../img/gifts/img2.jpg\"/>\n",
      "</td>\n",
      "<td>\n",
      "Fish Painting\n",
      "</td>\n",
      "<td>\n",
      "If something seems fishy about this painting, it's because it's a fish! <span class=\"excitingNote\">Also hand-painted by trained monkeys!</span>\n",
      "</td>\n",
      "<td>\n",
      "$10,005.00\n",
      "</td>\n",
      "<td>\n",
      "<img src=\"../img/gifts/img3.jpg\"/>\n",
      "</td>\n",
      "<td>\n",
      "Dead Parrot\n",
      "</td>\n",
      "<td>\n",
      "This is an ex-parrot! <span class=\"excitingNote\">Or maybe he's only resting?</span>\n",
      "</td>\n",
      "<td>\n",
      "$0.50\n",
      "</td>\n",
      "<td>\n",
      "<img src=\"../img/gifts/img4.jpg\"/>\n",
      "</td>\n",
      "<td>\n",
      "Mystery Box\n",
      "</td>\n",
      "<td>\n",
      "If you love suprises, this mystery box is for you! Do not place on light-colored surfaces. May cause oil staining. <span class=\"excitingNote\">Keep your friends guessing!</span>\n",
      "</td>\n",
      "<td>\n",
      "$1.50\n",
      "</td>\n",
      "<td>\n",
      "<img src=\"../img/gifts/img6.jpg\"/>\n",
      "</td>\n"
     ]
    }
   ],
   "source": [
    "for cell in cells:\n",
    "    print(cell)"
   ]
  },
  {
   "cell_type": "markdown",
   "id": "5103bc22",
   "metadata": {},
   "source": [
    "#### Use .text property to select only the contents"
   ]
  },
  {
   "cell_type": "code",
   "execution_count": 17,
   "id": "0ae8d2c7",
   "metadata": {},
   "outputs": [
    {
     "name": "stdout",
     "output_type": "stream",
     "text": [
      "\n",
      "Vegetable Basket\n",
      "\n",
      "\n",
      "This vegetable basket is the perfect gift for your health conscious (or overweight) friends!\n",
      "Now with super-colorful bell peppers!\n",
      "\n",
      "\n",
      "$15.00\n",
      "\n",
      "\n",
      "\n",
      "\n",
      "\n",
      "Russian Nesting Dolls\n",
      "\n",
      "\n",
      "Hand-painted by trained monkeys, these exquisite dolls are priceless! And by \"priceless,\" we mean \"extremely expensive\"! 8 entire dolls per set! Octuple the presents!\n",
      "\n",
      "\n",
      "$10,000.52\n",
      "\n",
      "\n",
      "\n",
      "\n",
      "\n",
      "Fish Painting\n",
      "\n",
      "\n",
      "If something seems fishy about this painting, it's because it's a fish! Also hand-painted by trained monkeys!\n",
      "\n",
      "\n",
      "$10,005.00\n",
      "\n",
      "\n",
      "\n",
      "\n",
      "\n",
      "Dead Parrot\n",
      "\n",
      "\n",
      "This is an ex-parrot! Or maybe he's only resting?\n",
      "\n",
      "\n",
      "$0.50\n",
      "\n",
      "\n",
      "\n",
      "\n",
      "\n",
      "Mystery Box\n",
      "\n",
      "\n",
      "If you love suprises, this mystery box is for you! Do not place on light-colored surfaces. May cause oil staining. Keep your friends guessing!\n",
      "\n",
      "\n",
      "$1.50\n",
      "\n",
      "\n",
      "\n",
      "\n"
     ]
    }
   ],
   "source": [
    "for cell in cells:\n",
    "    print(cell.text)"
   ]
  },
  {
   "cell_type": "markdown",
   "id": "32e94950",
   "metadata": {},
   "source": [
    "#### Iterate over all rows and all cells in each row"
   ]
  },
  {
   "cell_type": "code",
   "execution_count": 18,
   "id": "7176b5db",
   "metadata": {},
   "outputs": [
    {
     "name": "stdout",
     "output_type": "stream",
     "text": [
      "Vegetable Basket\n",
      "This vegetable basket is the perfect gift for your health conscious (or overweight) friends!\n",
      "Now with super-colorful bell peppers!\n",
      "$15.00\n",
      "\n",
      "Russian Nesting Dolls\n",
      "Hand-painted by trained monkeys, these exquisite dolls are priceless! And by \"priceless,\" we mean \"extremely expensive\"! 8 entire dolls per set! Octuple the presents!\n",
      "$10,000.52\n",
      "\n",
      "Fish Painting\n",
      "If something seems fishy about this painting, it's because it's a fish! Also hand-painted by trained monkeys!\n",
      "$10,005.00\n",
      "\n",
      "Dead Parrot\n",
      "This is an ex-parrot! Or maybe he's only resting?\n",
      "$0.50\n",
      "\n",
      "Mystery Box\n",
      "If you love suprises, this mystery box is for you! Do not place on light-colored surfaces. May cause oil staining. Keep your friends guessing!\n",
      "$1.50\n",
      "\n"
     ]
    }
   ],
   "source": [
    "for tr in soup.find_all('tr'):\n",
    "    for td in tr.find_all('td'):\n",
    "        print(td.text.strip()) ### For stripping white spaces"
   ]
  },
  {
   "cell_type": "markdown",
   "id": "9361dc84",
   "metadata": {},
   "source": [
    "#### Lets scrape other contents"
   ]
  },
  {
   "cell_type": "code",
   "execution_count": 19,
   "id": "8e503158",
   "metadata": {},
   "outputs": [
    {
     "data": {
      "text/plain": [
       "<h1>Totally Normal Gifts</h1>"
      ]
     },
     "execution_count": 19,
     "metadata": {},
     "output_type": "execute_result"
    }
   ],
   "source": [
    "h1_tag = soup.h1\n",
    "h1_tag"
   ]
  },
  {
   "cell_type": "code",
   "execution_count": 20,
   "id": "94f9c786",
   "metadata": {},
   "outputs": [
    {
     "data": {
      "text/plain": [
       "bs4.element.Tag"
      ]
     },
     "execution_count": 20,
     "metadata": {},
     "output_type": "execute_result"
    }
   ],
   "source": [
    "type(soup.h1)"
   ]
  },
  {
   "cell_type": "markdown",
   "id": "d73d76dc",
   "metadata": {},
   "source": [
    "#### Attributes"
   ]
  },
  {
   "cell_type": "code",
   "execution_count": 21,
   "id": "cdfca624",
   "metadata": {},
   "outputs": [
    {
     "data": {
      "text/plain": [
       "{}"
      ]
     },
     "execution_count": 21,
     "metadata": {},
     "output_type": "execute_result"
    }
   ],
   "source": [
    "h1_tag.attrs"
   ]
  },
  {
   "cell_type": "markdown",
   "id": "ec750ab7",
   "metadata": {},
   "source": [
    "#### All image tags within web pages"
   ]
  },
  {
   "cell_type": "code",
   "execution_count": 22,
   "id": "738de8e7",
   "metadata": {},
   "outputs": [
    {
     "data": {
      "text/plain": [
       "[<img src=\"../img/gifts/logo.jpg\" style=\"float:left;\"/>,\n",
       " <img src=\"../img/gifts/img1.jpg\"/>,\n",
       " <img src=\"../img/gifts/img2.jpg\"/>,\n",
       " <img src=\"../img/gifts/img3.jpg\"/>,\n",
       " <img src=\"../img/gifts/img4.jpg\"/>,\n",
       " <img src=\"../img/gifts/img6.jpg\"/>]"
      ]
     },
     "execution_count": 22,
     "metadata": {},
     "output_type": "execute_result"
    }
   ],
   "source": [
    "img_tags = soup.find_all(re.compile(\"^im\"))\n",
    "\n",
    "img_tags"
   ]
  },
  {
   "cell_type": "code",
   "execution_count": 23,
   "id": "764a5d4c",
   "metadata": {},
   "outputs": [
    {
     "name": "stdout",
     "output_type": "stream",
     "text": [
      "{'src': '../img/gifts/logo.jpg', 'style': 'float:left;'}\n",
      "{'src': '../img/gifts/img1.jpg'}\n",
      "{'src': '../img/gifts/img2.jpg'}\n",
      "{'src': '../img/gifts/img3.jpg'}\n",
      "{'src': '../img/gifts/img4.jpg'}\n",
      "{'src': '../img/gifts/img6.jpg'}\n"
     ]
    }
   ],
   "source": [
    "for img_tag in img_tags:\n",
    "    print(img_tag.attrs)"
   ]
  },
  {
   "cell_type": "code",
   "execution_count": 24,
   "id": "404d8e89",
   "metadata": {},
   "outputs": [
    {
     "data": {
      "text/plain": [
       "<img src=\"../img/gifts/logo.jpg\" style=\"float:left;\"/>"
      ]
     },
     "execution_count": 24,
     "metadata": {},
     "output_type": "execute_result"
    }
   ],
   "source": [
    "img_tag = img_tags[0]\n",
    "img_tag"
   ]
  },
  {
   "cell_type": "markdown",
   "id": "cd3bdf07",
   "metadata": {},
   "source": [
    "#### Source attribute"
   ]
  },
  {
   "cell_type": "code",
   "execution_count": 25,
   "id": "e7c5f278",
   "metadata": {},
   "outputs": [
    {
     "data": {
      "text/plain": [
       "'../img/gifts/logo.jpg'"
      ]
     },
     "execution_count": 25,
     "metadata": {},
     "output_type": "execute_result"
    }
   ],
   "source": [
    "img_tag['src']"
   ]
  },
  {
   "cell_type": "markdown",
   "id": "fdb68cd4",
   "metadata": {},
   "source": [
    "#### Style attribue"
   ]
  },
  {
   "cell_type": "code",
   "execution_count": 26,
   "id": "72993804",
   "metadata": {},
   "outputs": [
    {
     "data": {
      "text/plain": [
       "'float:left;'"
      ]
     },
     "execution_count": 26,
     "metadata": {},
     "output_type": "execute_result"
    }
   ],
   "source": [
    "img_tag['style']"
   ]
  },
  {
   "cell_type": "code",
   "execution_count": 27,
   "id": "2ff330c6",
   "metadata": {},
   "outputs": [
    {
     "data": {
      "text/plain": [
       "<td>\n",
       "Vegetable Basket\n",
       "</td>"
      ]
     },
     "execution_count": 27,
     "metadata": {},
     "output_type": "execute_result"
    }
   ],
   "source": [
    "td_tag = soup.td \n",
    "td_tag"
   ]
  },
  {
   "cell_type": "code",
   "execution_count": 28,
   "id": "48adcd55",
   "metadata": {},
   "outputs": [
    {
     "data": {
      "text/plain": [
       "'\\nVegetable Basket\\n'"
      ]
     },
     "execution_count": 28,
     "metadata": {},
     "output_type": "execute_result"
    }
   ],
   "source": [
    "td_tag.string"
   ]
  },
  {
   "cell_type": "code",
   "execution_count": 29,
   "id": "2939087c",
   "metadata": {},
   "outputs": [
    {
     "data": {
      "text/plain": [
       "'\\nVegetable Basket\\n'"
      ]
     },
     "execution_count": 29,
     "metadata": {},
     "output_type": "execute_result"
    }
   ],
   "source": [
    "td_tag.text"
   ]
  },
  {
   "cell_type": "code",
   "execution_count": 30,
   "id": "d90c7e1d",
   "metadata": {},
   "outputs": [
    {
     "data": {
      "text/plain": [
       "bs4.element.NavigableString"
      ]
     },
     "execution_count": 30,
     "metadata": {},
     "output_type": "execute_result"
    }
   ],
   "source": [
    "type(td_tag.string)"
   ]
  },
  {
   "cell_type": "markdown",
   "id": "2eba15c4",
   "metadata": {},
   "source": [
    "#### we can see that this is a navigable string"
   ]
  },
  {
   "cell_type": "markdown",
   "id": "7d5dab7e",
   "metadata": {},
   "source": [
    "#### Comments"
   ]
  },
  {
   "cell_type": "code",
   "execution_count": 31,
   "id": "e2d7182a",
   "metadata": {},
   "outputs": [
    {
     "data": {
      "text/plain": [
       "bs4.element.Comment"
      ]
     },
     "execution_count": 31,
     "metadata": {},
     "output_type": "execute_result"
    }
   ],
   "source": [
    "markup = \"<b><!--Hey, this is an html comment!--></b>\"\n",
    "\n",
    "soup = BeautifulSoup(markup)\n",
    "\n",
    "comment = soup.b.string\n",
    "type(comment)"
   ]
  },
  {
   "cell_type": "markdown",
   "id": "b370356f",
   "metadata": {},
   "source": [
    "#### Attr with multi value attr"
   ]
  },
  {
   "cell_type": "code",
   "execution_count": 32,
   "id": "9e95c6b8",
   "metadata": {},
   "outputs": [],
   "source": [
    "markup = \"\"\"\n",
    "<p class=\"highlight important\">This is something important</p>\n",
    "\"\"\"\n",
    "soup = BeautifulSoup(markup)"
   ]
  },
  {
   "cell_type": "code",
   "execution_count": 33,
   "id": "5d4842b0",
   "metadata": {},
   "outputs": [
    {
     "data": {
      "text/plain": [
       "<p class=\"highlight important\">This is something important</p>"
      ]
     },
     "execution_count": 33,
     "metadata": {},
     "output_type": "execute_result"
    }
   ],
   "source": [
    "soup.p "
   ]
  },
  {
   "cell_type": "code",
   "execution_count": 34,
   "id": "8702ef01",
   "metadata": {},
   "outputs": [
    {
     "data": {
      "text/plain": [
       "['highlight', 'important']"
      ]
     },
     "execution_count": 34,
     "metadata": {},
     "output_type": "execute_result"
    }
   ],
   "source": [
    "soup.p['class']"
   ]
  },
  {
   "cell_type": "code",
   "execution_count": 35,
   "id": "36594e79",
   "metadata": {},
   "outputs": [
    {
     "data": {
      "text/plain": [
       "['highlight', 'important']"
      ]
     },
     "execution_count": 35,
     "metadata": {},
     "output_type": "execute_result"
    }
   ],
   "source": [
    "soup.p.get_attribute_list('class')"
   ]
  }
 ],
 "metadata": {
  "kernelspec": {
   "display_name": "Python 3 (ipykernel)",
   "language": "python",
   "name": "python3"
  },
  "language_info": {
   "codemirror_mode": {
    "name": "ipython",
    "version": 3
   },
   "file_extension": ".py",
   "mimetype": "text/x-python",
   "name": "python",
   "nbconvert_exporter": "python",
   "pygments_lexer": "ipython3",
   "version": "3.9.13"
  }
 },
 "nbformat": 4,
 "nbformat_minor": 5
}
