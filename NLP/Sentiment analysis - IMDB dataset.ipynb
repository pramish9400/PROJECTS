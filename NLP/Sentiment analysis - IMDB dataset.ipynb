{
 "cells": [
  {
   "cell_type": "markdown",
   "id": "7604ecb6",
   "metadata": {},
   "source": [
    "## <center> Sentiment analysis using IMDB dataset"
   ]
  },
  {
   "cell_type": "code",
   "execution_count": 1,
   "id": "0ff6c73c",
   "metadata": {},
   "outputs": [],
   "source": [
    "import pandas as pd \n",
    "import numpy as np\n",
    "import warnings\n",
    "import matplotlib.pyplot as plt\n",
    "import seaborn as sns\n",
    "from tensorflow.keras.datasets import imdb\n",
    "from tensorflow.keras.preprocessing.sequence import pad_sequences\n",
    "from tensorflow.keras.models import Sequential\n",
    "from tensorflow.keras.layers import Embedding, Dense, GlobalAvgPool1D\n",
    "warnings.filterwarnings('ignore')"
   ]
  },
  {
   "cell_type": "code",
   "execution_count": 2,
   "id": "de30285c",
   "metadata": {},
   "outputs": [],
   "source": [
    "(x_train, y_train), (x_test, y_test) = imdb.load_data(num_words=10000)"
   ]
  },
  {
   "cell_type": "markdown",
   "id": "c8a3d70d",
   "metadata": {},
   "source": [
    "#### Defining target names:"
   ]
  },
  {
   "cell_type": "code",
   "execution_count": 3,
   "id": "b9e77e57",
   "metadata": {},
   "outputs": [],
   "source": [
    "class_names = ['Negative', 'Positive']"
   ]
  },
  {
   "cell_type": "code",
   "execution_count": 4,
   "id": "d9de485c",
   "metadata": {},
   "outputs": [
    {
     "name": "stdout",
     "output_type": "stream",
     "text": [
      "6593\n"
     ]
    }
   ],
   "source": [
    "word_index = imdb.get_word_index()\n",
    "print(word_index['hi'])"
   ]
  },
  {
   "cell_type": "markdown",
   "id": "8e4a067c",
   "metadata": {},
   "source": [
    "### Decoding the review"
   ]
  },
  {
   "cell_type": "code",
   "execution_count": 5,
   "id": "22acd4d1",
   "metadata": {},
   "outputs": [],
   "source": [
    "reverse_word_index = dict((value, key) for key , value in word_index.items())\n",
    "\n",
    "def decode(review):\n",
    "    text = ''\n",
    "    for i in review:\n",
    "        text += reverse_word_index[i]\n",
    "        text += ' '\n",
    "    return text"
   ]
  },
  {
   "cell_type": "code",
   "execution_count": 6,
   "id": "24fb4d41",
   "metadata": {},
   "outputs": [
    {
     "data": {
      "text/plain": [
       "\"the thought solid thought senator do making to is spot nomination assumed while he of jack in where picked as getting on was did hands fact characters to always life thrillers not as me can't in at are br of sure your way of little it strongly random to view of love it so principles of guy it used producer of where it of here icon film of outside to don't all unique some like of direction it if out her imagination below keep of queen he diverse to makes this stretch and of solid it thought begins br senator and budget worthwhile though ok and awaiting for ever better were and diverse for budget look kicked any to of making it out and follows for effects show to show cast this family us scenes more it severe making senator to and finds tv tend to of emerged these thing wants but and an beckinsale cult as it is video do you david see scenery it in few those are of ship for with of wild to one is very work dark they don't do dvd with those them \""
      ]
     },
     "execution_count": 6,
     "metadata": {},
     "output_type": "execute_result"
    }
   ],
   "source": [
    "decode(x_train[1])"
   ]
  },
  {
   "cell_type": "markdown",
   "id": "e901fba9",
   "metadata": {},
   "source": [
    "#### Reviews are not of same length. So we need to make them of same length. For this purpose we may use padding."
   ]
  },
  {
   "cell_type": "markdown",
   "id": "9cc07897",
   "metadata": {},
   "source": [
    "### Padding"
   ]
  },
  {
   "cell_type": "code",
   "execution_count": 7,
   "id": "87e54f5b",
   "metadata": {},
   "outputs": [],
   "source": [
    "x_train = pad_sequences(x_train, maxlen=256,value=word_index['the'],padding= 'post')\n",
    "x_test = pad_sequences(x_test, maxlen=256, value=word_index['the'], padding='post')"
   ]
  },
  {
   "cell_type": "markdown",
   "id": "74e93f57",
   "metadata": {},
   "source": [
    "### Model building"
   ]
  },
  {
   "cell_type": "code",
   "execution_count": 8,
   "id": "c431ae36",
   "metadata": {},
   "outputs": [],
   "source": [
    "model = Sequential([\n",
    "    Embedding(10000,16),\n",
    "    GlobalAvgPool1D(),\n",
    "    Dense(16,activation='relu'),\n",
    "    Dense(1,activation= 'sigmoid')\n",
    "])"
   ]
  },
  {
   "cell_type": "code",
   "execution_count": 9,
   "id": "42021f6a",
   "metadata": {},
   "outputs": [],
   "source": [
    "model.compile(\n",
    "    optimizer= 'adam',\n",
    "    loss= 'binary_crossentropy',\n",
    "    metrics=['acc']\n",
    ")"
   ]
  },
  {
   "cell_type": "code",
   "execution_count": 10,
   "id": "05fd1c54",
   "metadata": {},
   "outputs": [
    {
     "name": "stdout",
     "output_type": "stream",
     "text": [
      "Model: \"sequential\"\n",
      "_________________________________________________________________\n",
      " Layer (type)                Output Shape              Param #   \n",
      "=================================================================\n",
      " embedding (Embedding)       (None, None, 16)          160000    \n",
      "                                                                 \n",
      " global_average_pooling1d (G  (None, 16)               0         \n",
      " lobalAveragePooling1D)                                          \n",
      "                                                                 \n",
      " dense (Dense)               (None, 16)                272       \n",
      "                                                                 \n",
      " dense_1 (Dense)             (None, 1)                 17        \n",
      "                                                                 \n",
      "=================================================================\n",
      "Total params: 160,289\n",
      "Trainable params: 160,289\n",
      "Non-trainable params: 0\n",
      "_________________________________________________________________\n"
     ]
    }
   ],
   "source": [
    "model.summary()"
   ]
  },
  {
   "cell_type": "code",
   "execution_count": 11,
   "id": "b9ecc7e2",
   "metadata": {},
   "outputs": [
    {
     "name": "stdout",
     "output_type": "stream",
     "text": [
      "Epoch 1/100\n",
      "625/625 [==============================] - 3s 3ms/step - loss: 0.5456 - acc: 0.7674 - val_loss: 0.3528 - val_acc: 0.8670\n",
      "Epoch 2/100\n",
      "625/625 [==============================] - 2s 3ms/step - loss: 0.2810 - acc: 0.8950 - val_loss: 0.2891 - val_acc: 0.8850\n",
      "Epoch 3/100\n",
      "625/625 [==============================] - 2s 3ms/step - loss: 0.2147 - acc: 0.9197 - val_loss: 0.2765 - val_acc: 0.8898\n",
      "Epoch 4/100\n",
      "625/625 [==============================] - 2s 3ms/step - loss: 0.1756 - acc: 0.9371 - val_loss: 0.2867 - val_acc: 0.8866\n",
      "Epoch 5/100\n",
      "625/625 [==============================] - 2s 3ms/step - loss: 0.1477 - acc: 0.9480 - val_loss: 0.2924 - val_acc: 0.8886\n",
      "Epoch 6/100\n",
      "625/625 [==============================] - 2s 3ms/step - loss: 0.1255 - acc: 0.9568 - val_loss: 0.3140 - val_acc: 0.8886\n",
      "Epoch 7/100\n",
      "625/625 [==============================] - 2s 3ms/step - loss: 0.1060 - acc: 0.9653 - val_loss: 0.3376 - val_acc: 0.8854\n",
      "Epoch 8/100\n",
      "625/625 [==============================] - 2s 3ms/step - loss: 0.0895 - acc: 0.9729 - val_loss: 0.3713 - val_acc: 0.8804\n",
      "Epoch 9/100\n",
      "625/625 [==============================] - 2s 3ms/step - loss: 0.0759 - acc: 0.9770 - val_loss: 0.4014 - val_acc: 0.8802\n",
      "Epoch 10/100\n",
      "625/625 [==============================] - 2s 3ms/step - loss: 0.0632 - acc: 0.9826 - val_loss: 0.4389 - val_acc: 0.8780\n",
      "Epoch 11/100\n",
      "625/625 [==============================] - 2s 3ms/step - loss: 0.0522 - acc: 0.9862 - val_loss: 0.4847 - val_acc: 0.8732\n",
      "Epoch 12/100\n",
      "625/625 [==============================] - 2s 3ms/step - loss: 0.0438 - acc: 0.9889 - val_loss: 0.5291 - val_acc: 0.8734\n",
      "Epoch 13/100\n",
      "625/625 [==============================] - 2s 3ms/step - loss: 0.0352 - acc: 0.9920 - val_loss: 0.5618 - val_acc: 0.8720\n",
      "Epoch 14/100\n",
      "625/625 [==============================] - 2s 3ms/step - loss: 0.0291 - acc: 0.9936 - val_loss: 0.6092 - val_acc: 0.8724\n",
      "Epoch 15/100\n",
      "625/625 [==============================] - 2s 3ms/step - loss: 0.0229 - acc: 0.9961 - val_loss: 0.6644 - val_acc: 0.8694\n",
      "Epoch 16/100\n",
      "625/625 [==============================] - 2s 3ms/step - loss: 0.0191 - acc: 0.9965 - val_loss: 0.7124 - val_acc: 0.8642\n",
      "Epoch 17/100\n",
      "625/625 [==============================] - 2s 3ms/step - loss: 0.0147 - acc: 0.9974 - val_loss: 0.7818 - val_acc: 0.8644\n",
      "Epoch 18/100\n",
      "625/625 [==============================] - 2s 3ms/step - loss: 0.0118 - acc: 0.9984 - val_loss: 0.7987 - val_acc: 0.8646\n",
      "Epoch 19/100\n",
      "625/625 [==============================] - 2s 3ms/step - loss: 0.0100 - acc: 0.9984 - val_loss: 0.8779 - val_acc: 0.8658\n",
      "Epoch 20/100\n",
      "625/625 [==============================] - 2s 3ms/step - loss: 0.0076 - acc: 0.9989 - val_loss: 0.9148 - val_acc: 0.8578\n",
      "Epoch 21/100\n",
      "625/625 [==============================] - 2s 3ms/step - loss: 0.0055 - acc: 0.9995 - val_loss: 0.9568 - val_acc: 0.8620\n",
      "Epoch 22/100\n",
      "625/625 [==============================] - 2s 3ms/step - loss: 0.0047 - acc: 0.9992 - val_loss: 1.0335 - val_acc: 0.8630\n",
      "Epoch 23/100\n",
      "625/625 [==============================] - 2s 3ms/step - loss: 0.0039 - acc: 0.9996 - val_loss: 1.0645 - val_acc: 0.8632\n",
      "Epoch 24/100\n",
      "625/625 [==============================] - 2s 3ms/step - loss: 0.0030 - acc: 0.9997 - val_loss: 1.1066 - val_acc: 0.8592\n",
      "Epoch 25/100\n",
      "625/625 [==============================] - 2s 3ms/step - loss: 0.0020 - acc: 0.9998 - val_loss: 1.1728 - val_acc: 0.8592\n",
      "Epoch 26/100\n",
      "625/625 [==============================] - 2s 3ms/step - loss: 0.0021 - acc: 0.9998 - val_loss: 1.2164 - val_acc: 0.8578\n",
      "Epoch 27/100\n",
      "625/625 [==============================] - 2s 3ms/step - loss: 0.0025 - acc: 0.9995 - val_loss: 1.2495 - val_acc: 0.8568\n",
      "Epoch 28/100\n",
      "625/625 [==============================] - 2s 3ms/step - loss: 0.0022 - acc: 0.9997 - val_loss: 1.3018 - val_acc: 0.8576\n",
      "Epoch 29/100\n",
      "625/625 [==============================] - 2s 3ms/step - loss: 0.0020 - acc: 0.9997 - val_loss: 1.3901 - val_acc: 0.8580\n",
      "Epoch 30/100\n",
      "625/625 [==============================] - 2s 3ms/step - loss: 0.0010 - acc: 0.9999 - val_loss: 1.4028 - val_acc: 0.8582\n",
      "Epoch 31/100\n",
      "625/625 [==============================] - 2s 3ms/step - loss: 8.6805e-04 - acc: 0.9998 - val_loss: 1.4358 - val_acc: 0.8582\n",
      "Epoch 32/100\n",
      "625/625 [==============================] - 2s 3ms/step - loss: 0.0016 - acc: 0.9997 - val_loss: 1.4478 - val_acc: 0.8554\n",
      "Epoch 33/100\n",
      "625/625 [==============================] - 2s 3ms/step - loss: 0.0022 - acc: 0.9995 - val_loss: 1.4996 - val_acc: 0.8572\n",
      "Epoch 34/100\n",
      "625/625 [==============================] - 2s 3ms/step - loss: 0.0031 - acc: 0.9992 - val_loss: 1.5619 - val_acc: 0.8574\n",
      "Epoch 35/100\n",
      "625/625 [==============================] - 2s 3ms/step - loss: 0.0012 - acc: 0.9998 - val_loss: 1.6125 - val_acc: 0.8548\n",
      "Epoch 36/100\n",
      "625/625 [==============================] - 2s 3ms/step - loss: 2.7206e-04 - acc: 1.0000 - val_loss: 1.5960 - val_acc: 0.8584\n",
      "Epoch 37/100\n",
      "625/625 [==============================] - 2s 3ms/step - loss: 1.4221e-04 - acc: 1.0000 - val_loss: 1.6122 - val_acc: 0.8578\n",
      "Epoch 38/100\n",
      "625/625 [==============================] - 2s 3ms/step - loss: 1.0423e-04 - acc: 1.0000 - val_loss: 1.6268 - val_acc: 0.8582\n",
      "Epoch 39/100\n",
      "625/625 [==============================] - 2s 3ms/step - loss: 9.1852e-05 - acc: 1.0000 - val_loss: 1.6476 - val_acc: 0.8570\n",
      "Epoch 40/100\n",
      "625/625 [==============================] - 2s 3ms/step - loss: 8.4459e-05 - acc: 1.0000 - val_loss: 1.6777 - val_acc: 0.8590\n",
      "Epoch 41/100\n",
      "625/625 [==============================] - 2s 3ms/step - loss: 7.8951e-05 - acc: 1.0000 - val_loss: 1.7217 - val_acc: 0.8570\n",
      "Epoch 42/100\n",
      "625/625 [==============================] - 2s 3ms/step - loss: 6.4146e-05 - acc: 1.0000 - val_loss: 1.7351 - val_acc: 0.8582\n",
      "Epoch 43/100\n",
      "625/625 [==============================] - 2s 3ms/step - loss: 0.0024 - acc: 0.9993 - val_loss: 1.7584 - val_acc: 0.8590\n",
      "Epoch 44/100\n",
      "625/625 [==============================] - 2s 3ms/step - loss: 0.0022 - acc: 0.9993 - val_loss: 1.8253 - val_acc: 0.8506\n",
      "Epoch 45/100\n",
      "625/625 [==============================] - 2s 3ms/step - loss: 4.3867e-04 - acc: 1.0000 - val_loss: 1.8365 - val_acc: 0.8536\n",
      "Epoch 46/100\n",
      "625/625 [==============================] - 2s 3ms/step - loss: 7.4121e-05 - acc: 1.0000 - val_loss: 1.8530 - val_acc: 0.8518\n",
      "Epoch 47/100\n",
      "625/625 [==============================] - 2s 3ms/step - loss: 4.9748e-05 - acc: 1.0000 - val_loss: 1.8581 - val_acc: 0.8524\n",
      "Epoch 48/100\n",
      "625/625 [==============================] - 2s 3ms/step - loss: 4.1238e-05 - acc: 1.0000 - val_loss: 1.8624 - val_acc: 0.8516\n",
      "Epoch 49/100\n",
      "625/625 [==============================] - 2s 3ms/step - loss: 3.6437e-05 - acc: 1.0000 - val_loss: 1.8801 - val_acc: 0.8510\n",
      "Epoch 50/100\n",
      "625/625 [==============================] - 2s 3ms/step - loss: 3.2021e-05 - acc: 1.0000 - val_loss: 1.8869 - val_acc: 0.8522\n",
      "Epoch 51/100\n",
      "625/625 [==============================] - 2s 3ms/step - loss: 2.6845e-05 - acc: 1.0000 - val_loss: 1.9092 - val_acc: 0.8520\n",
      "Epoch 52/100\n",
      "625/625 [==============================] - 2s 3ms/step - loss: 0.0030 - acc: 0.9989 - val_loss: 1.9246 - val_acc: 0.8532\n",
      "Epoch 53/100\n",
      "625/625 [==============================] - 2s 3ms/step - loss: 0.0022 - acc: 0.9993 - val_loss: 2.0451 - val_acc: 0.8500\n",
      "Epoch 54/100\n",
      "625/625 [==============================] - 2s 3ms/step - loss: 8.8278e-04 - acc: 0.9998 - val_loss: 1.9796 - val_acc: 0.8490\n",
      "Epoch 55/100\n",
      "625/625 [==============================] - 2s 3ms/step - loss: 8.5519e-05 - acc: 1.0000 - val_loss: 1.9935 - val_acc: 0.8490\n",
      "Epoch 56/100\n",
      "625/625 [==============================] - 2s 3ms/step - loss: 4.1024e-05 - acc: 1.0000 - val_loss: 2.0221 - val_acc: 0.8490\n",
      "Epoch 57/100\n",
      "625/625 [==============================] - 2s 4ms/step - loss: 2.8452e-05 - acc: 1.0000 - val_loss: 2.0317 - val_acc: 0.8476\n",
      "Epoch 58/100\n",
      "625/625 [==============================] - 2s 3ms/step - loss: 2.6662e-05 - acc: 1.0000 - val_loss: 2.0266 - val_acc: 0.8488\n",
      "Epoch 59/100\n",
      "625/625 [==============================] - 2s 3ms/step - loss: 2.3645e-05 - acc: 1.0000 - val_loss: 2.0409 - val_acc: 0.8482\n",
      "Epoch 60/100\n",
      "625/625 [==============================] - 2s 3ms/step - loss: 1.8775e-05 - acc: 1.0000 - val_loss: 2.0460 - val_acc: 0.8486\n",
      "Epoch 61/100\n"
     ]
    },
    {
     "name": "stdout",
     "output_type": "stream",
     "text": [
      "625/625 [==============================] - 2s 3ms/step - loss: 2.1325e-05 - acc: 1.0000 - val_loss: 2.0711 - val_acc: 0.8484\n",
      "Epoch 62/100\n",
      "625/625 [==============================] - 2s 3ms/step - loss: 1.4213e-05 - acc: 1.0000 - val_loss: 2.0886 - val_acc: 0.8486\n",
      "Epoch 63/100\n",
      "625/625 [==============================] - 2s 3ms/step - loss: 1.1808e-05 - acc: 1.0000 - val_loss: 2.1029 - val_acc: 0.8492\n",
      "Epoch 64/100\n",
      "625/625 [==============================] - 2s 3ms/step - loss: 8.6622e-06 - acc: 1.0000 - val_loss: 2.1219 - val_acc: 0.8486\n",
      "Epoch 65/100\n",
      "625/625 [==============================] - 2s 3ms/step - loss: 8.0043e-06 - acc: 1.0000 - val_loss: 2.1584 - val_acc: 0.8490\n",
      "Epoch 66/100\n",
      "625/625 [==============================] - 2s 3ms/step - loss: 0.0023 - acc: 0.9990 - val_loss: 2.1605 - val_acc: 0.8486\n",
      "Epoch 67/100\n",
      "625/625 [==============================] - 2s 3ms/step - loss: 0.0030 - acc: 0.9989 - val_loss: 2.2209 - val_acc: 0.8490\n",
      "Epoch 68/100\n",
      "625/625 [==============================] - 2s 3ms/step - loss: 0.0015 - acc: 0.9995 - val_loss: 2.2043 - val_acc: 0.8500\n",
      "Epoch 69/100\n",
      "625/625 [==============================] - 2s 3ms/step - loss: 3.8608e-05 - acc: 1.0000 - val_loss: 2.2219 - val_acc: 0.8496\n",
      "Epoch 70/100\n",
      "625/625 [==============================] - 2s 3ms/step - loss: 1.6846e-05 - acc: 1.0000 - val_loss: 2.2224 - val_acc: 0.8494\n",
      "Epoch 71/100\n",
      "625/625 [==============================] - 2s 3ms/step - loss: 1.3562e-05 - acc: 1.0000 - val_loss: 2.2236 - val_acc: 0.8498\n",
      "Epoch 72/100\n",
      "625/625 [==============================] - 2s 3ms/step - loss: 1.1680e-05 - acc: 1.0000 - val_loss: 2.2273 - val_acc: 0.8488\n",
      "Epoch 73/100\n",
      "625/625 [==============================] - 2s 3ms/step - loss: 1.0031e-05 - acc: 1.0000 - val_loss: 2.2367 - val_acc: 0.8492\n",
      "Epoch 74/100\n",
      "625/625 [==============================] - 2s 4ms/step - loss: 9.3194e-06 - acc: 1.0000 - val_loss: 2.2546 - val_acc: 0.8490\n",
      "Epoch 75/100\n",
      "625/625 [==============================] - 2s 3ms/step - loss: 7.8566e-06 - acc: 1.0000 - val_loss: 2.2399 - val_acc: 0.8506\n",
      "Epoch 76/100\n",
      "625/625 [==============================] - 2s 3ms/step - loss: 6.6842e-06 - acc: 1.0000 - val_loss: 2.2543 - val_acc: 0.8492\n",
      "Epoch 77/100\n",
      "625/625 [==============================] - 2s 3ms/step - loss: 5.8305e-06 - acc: 1.0000 - val_loss: 2.2726 - val_acc: 0.8490\n",
      "Epoch 78/100\n",
      "625/625 [==============================] - 2s 3ms/step - loss: 5.4119e-06 - acc: 1.0000 - val_loss: 2.2790 - val_acc: 0.8506\n",
      "Epoch 79/100\n",
      "625/625 [==============================] - 2s 3ms/step - loss: 4.6025e-06 - acc: 1.0000 - val_loss: 2.3046 - val_acc: 0.8484\n",
      "Epoch 80/100\n",
      "625/625 [==============================] - 2s 3ms/step - loss: 3.8156e-06 - acc: 1.0000 - val_loss: 2.3080 - val_acc: 0.8500\n",
      "Epoch 81/100\n",
      "625/625 [==============================] - 2s 3ms/step - loss: 4.1740e-06 - acc: 1.0000 - val_loss: 2.3309 - val_acc: 0.8498\n",
      "Epoch 82/100\n",
      "625/625 [==============================] - 2s 3ms/step - loss: 0.0018 - acc: 0.9995 - val_loss: 2.3710 - val_acc: 0.8480\n",
      "Epoch 83/100\n",
      "625/625 [==============================] - 2s 3ms/step - loss: 0.0075 - acc: 0.9980 - val_loss: 2.3892 - val_acc: 0.8500\n",
      "Epoch 84/100\n",
      "625/625 [==============================] - 2s 3ms/step - loss: 4.7589e-04 - acc: 0.9998 - val_loss: 2.3904 - val_acc: 0.8496\n",
      "Epoch 85/100\n",
      "625/625 [==============================] - 2s 3ms/step - loss: 2.5764e-05 - acc: 1.0000 - val_loss: 2.3929 - val_acc: 0.8496\n",
      "Epoch 86/100\n",
      "625/625 [==============================] - 2s 3ms/step - loss: 1.1334e-05 - acc: 1.0000 - val_loss: 2.3836 - val_acc: 0.8496\n",
      "Epoch 87/100\n",
      "625/625 [==============================] - 2s 3ms/step - loss: 9.0125e-06 - acc: 1.0000 - val_loss: 2.3866 - val_acc: 0.8498\n",
      "Epoch 88/100\n",
      "625/625 [==============================] - 2s 3ms/step - loss: 7.5693e-06 - acc: 1.0000 - val_loss: 2.3859 - val_acc: 0.8492\n",
      "Epoch 89/100\n",
      "625/625 [==============================] - 2s 3ms/step - loss: 6.5206e-06 - acc: 1.0000 - val_loss: 2.3888 - val_acc: 0.8494\n",
      "Epoch 90/100\n",
      "625/625 [==============================] - 2s 3ms/step - loss: 5.6807e-06 - acc: 1.0000 - val_loss: 2.3975 - val_acc: 0.8494\n",
      "Epoch 91/100\n",
      "625/625 [==============================] - 2s 3ms/step - loss: 5.0479e-06 - acc: 1.0000 - val_loss: 2.3984 - val_acc: 0.8498\n",
      "Epoch 92/100\n",
      "625/625 [==============================] - 2s 3ms/step - loss: 4.4250e-06 - acc: 1.0000 - val_loss: 2.4062 - val_acc: 0.8500\n",
      "Epoch 93/100\n",
      "625/625 [==============================] - 2s 3ms/step - loss: 3.8169e-06 - acc: 1.0000 - val_loss: 2.4132 - val_acc: 0.8496\n",
      "Epoch 94/100\n",
      "625/625 [==============================] - 2s 3ms/step - loss: 3.3511e-06 - acc: 1.0000 - val_loss: 2.4211 - val_acc: 0.8496\n",
      "Epoch 95/100\n",
      "625/625 [==============================] - 2s 3ms/step - loss: 2.9415e-06 - acc: 1.0000 - val_loss: 2.4347 - val_acc: 0.8492\n",
      "Epoch 96/100\n",
      "625/625 [==============================] - 2s 3ms/step - loss: 2.6726e-06 - acc: 1.0000 - val_loss: 2.4328 - val_acc: 0.8490\n",
      "Epoch 97/100\n",
      "625/625 [==============================] - 2s 3ms/step - loss: 2.2687e-06 - acc: 1.0000 - val_loss: 2.4745 - val_acc: 0.8466\n",
      "Epoch 98/100\n",
      "625/625 [==============================] - 2s 3ms/step - loss: 1.9217e-06 - acc: 1.0000 - val_loss: 2.4697 - val_acc: 0.8488\n",
      "Epoch 99/100\n",
      "625/625 [==============================] - 2s 3ms/step - loss: 1.6662e-06 - acc: 1.0000 - val_loss: 2.4867 - val_acc: 0.8494\n",
      "Epoch 100/100\n",
      "625/625 [==============================] - 2s 3ms/step - loss: 1.3325e-06 - acc: 1.0000 - val_loss: 2.4948 - val_acc: 0.8490\n"
     ]
    }
   ],
   "source": [
    "history = model.fit(\n",
    "    x_train, y_train,\n",
    "    validation_split=0.2,\n",
    "    epochs= 100,\n",
    ")"
   ]
  },
  {
   "cell_type": "markdown",
   "id": "6beed110",
   "metadata": {},
   "source": [
    "### Predictions and Evaluation"
   ]
  },
  {
   "cell_type": "code",
   "execution_count": 12,
   "id": "4257cf2a",
   "metadata": {},
   "outputs": [
    {
     "data": {
      "image/png": "[encoded data removed]",
      "text/plain": [
       "<Figure size 640x480 with 1 Axes>"
      ]
     },
     "metadata": {},
     "output_type": "display_data"
    }
   ],
   "source": [
    "plt.plot(range(100), history.history['acc'])\n",
    "plt.plot(range(100),history.history['val_acc'])\n",
    "plt.legend(['Training', 'Validation'])\n",
    "plt.show()"
   ]
  },
  {
   "cell_type": "code",
   "execution_count": 13,
   "id": "bcb7a201",
   "metadata": {},
   "outputs": [
    {
     "name": "stdout",
     "output_type": "stream",
     "text": [
      "782/782 [==============================] - 1s 1ms/step - loss: 2.7295 - acc: 0.8287\n",
      "Test set accuracy:  82.86799788475037\n"
     ]
    }
   ],
   "source": [
    "loss, acc = model.evaluate(x_test, y_test)\n",
    "print('Test set accuracy: ', acc * 100)"
   ]
  },
  {
   "cell_type": "code",
   "execution_count": 14,
   "id": "9590f213",
   "metadata": {},
   "outputs": [
    {
     "name": "stdout",
     "output_type": "stream",
     "text": [
      "1/1 [==============================] - 0s 77ms/step\n",
      "Positive\n"
     ]
    }
   ],
   "source": [
    "prediction = model.predict(np.expand_dims(x_test[0], axis=0))\n",
    "class_names = ['Negative', 'Positive']\n",
    "print(class_names[int(np.squeeze(prediction[0]) > 0.5)])"
   ]
  },
  {
   "cell_type": "code",
   "execution_count": 15,
   "id": "752eefee",
   "metadata": {},
   "outputs": [
    {
     "name": "stdout",
     "output_type": "stream",
     "text": [
      "the wonder own as by is sequence i i and and to of hollywood br of down shouting getting boring of ever it sadly sadly sadly i i was then does don't close faint after one carry as by are be favourites all family turn in does as three part in another some to be probably with world and her an have faint beginning own as is sequence the the the the the the the the the the the the the the the the the the the the the the the the the the the the the the the the the the the the the the the the the the the the the the the the the the the the the the the the the the the the the the the the the the the the the the the the the the the the the the the the the the the the the the the the the the the the the the the the the the the the the the the the the the the the the the the the the the the the the the the the the the the the the the the the the the the the the the the the the the the the the the the the the the the the the the the the the the the the the the the the the the the the the the the the the the the the the the the the the the the the the the the the the the the the \n"
     ]
    }
   ],
   "source": [
    "print(decode(x_test[0]))"
   ]
  }
 ],
 "metadata": {
  "kernelspec": {
   "display_name": "Python 3 (ipykernel)",
   "language": "python",
   "name": "python3"
  },
  "language_info": {
   "codemirror_mode": {
    "name": "ipython",
    "version": 3
   },
   "file_extension": ".py",
   "mimetype": "text/x-python",
   "name": "python",
   "nbconvert_exporter": "python",
   "pygments_lexer": "ipython3",
   "version": "3.9.13"
  }
 },
 "nbformat": 4,
 "nbformat_minor": 5
}
