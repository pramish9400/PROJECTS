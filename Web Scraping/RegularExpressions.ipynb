{
 "cells": [
  {
   "cell_type": "markdown",
   "id": "106c3323",
   "metadata": {},
   "source": [
    "# RegularExpressions"
   ]
  },
  {
   "cell_type": "code",
   "execution_count": 1,
   "id": "22025297",
   "metadata": {},
   "outputs": [],
   "source": [
    "import re "
   ]
  },
  {
   "cell_type": "code",
   "execution_count": 2,
   "id": "ff8195d6",
   "metadata": {},
   "outputs": [],
   "source": [
    "text = \"\"\"Python is a general purpose and high level programming language, you can use Python for developing desktop GUI \n",
    "applications, websites and web applications.\"\"\""
   ]
  },
  {
   "cell_type": "code",
   "execution_count": 3,
   "id": "b432aa28",
   "metadata": {},
   "outputs": [
    {
     "name": "stdout",
     "output_type": "stream",
     "text": [
      "<re.Match object; span=(0, 6), match='Python'>\n"
     ]
    }
   ],
   "source": [
    "output = re.match('Python', text)\n",
    "\n",
    "print(output)"
   ]
  },
  {
   "cell_type": "code",
   "execution_count": 4,
   "id": "b4bc58a5",
   "metadata": {},
   "outputs": [
    {
     "data": {
      "text/plain": [
       "(0, 6)"
      ]
     },
     "execution_count": 4,
     "metadata": {},
     "output_type": "execute_result"
    }
   ],
   "source": [
    "output.start(), output.end()"
   ]
  },
  {
   "cell_type": "markdown",
   "id": "1241ddf5",
   "metadata": {},
   "source": [
    "##### For match to work, the word may not to be complete."
   ]
  },
  {
   "cell_type": "code",
   "execution_count": 5,
   "id": "4207fbc6",
   "metadata": {},
   "outputs": [
    {
     "name": "stdout",
     "output_type": "stream",
     "text": [
      "<re.Match object; span=(0, 3), match='Pyt'>\n"
     ]
    }
   ],
   "source": [
    "output = re.match('Pyt', text)\n",
    "print(output)"
   ]
  },
  {
   "cell_type": "code",
   "execution_count": 6,
   "id": "71fca349",
   "metadata": {},
   "outputs": [
    {
     "name": "stdout",
     "output_type": "stream",
     "text": [
      "None\n"
     ]
    }
   ],
   "source": [
    "output = re.fullmatch('Python', text)\n",
    "print(output)"
   ]
  },
  {
   "cell_type": "code",
   "execution_count": 7,
   "id": "2d221633",
   "metadata": {},
   "outputs": [
    {
     "name": "stdout",
     "output_type": "stream",
     "text": [
      "<re.Match object; span=(43, 54), match='programming'>\n"
     ]
    }
   ],
   "source": [
    "output = re.search('programming', text)\n",
    "print(output)"
   ]
  },
  {
   "cell_type": "code",
   "execution_count": 8,
   "id": "ed17c2e3",
   "metadata": {},
   "outputs": [
    {
     "name": "stdout",
     "output_type": "stream",
     "text": [
      "['Python', 'Python']\n"
     ]
    }
   ],
   "source": [
    "output = re.findall('Python', text)\n",
    "print(output)"
   ]
  },
  {
   "cell_type": "code",
   "execution_count": 9,
   "id": "634b8a2d",
   "metadata": {},
   "outputs": [
    {
     "data": {
      "text/plain": [
       "<callable_iterator at 0x1e44c1aa1c0>"
      ]
     },
     "execution_count": 9,
     "metadata": {},
     "output_type": "execute_result"
    }
   ],
   "source": [
    "output = re.finditer('Python', text)\n",
    "output"
   ]
  },
  {
   "cell_type": "code",
   "execution_count": 10,
   "id": "f6e8f92a",
   "metadata": {},
   "outputs": [
    {
     "name": "stdout",
     "output_type": "stream",
     "text": [
      "'Python' is: '0' and '6'\n",
      "'Python' is: '77' and '83'\n"
     ]
    }
   ],
   "source": [
    "for match in output:\n",
    "    print(\"'%s' is: '%s' and '%s'\"\n",
    "        %(match.group(), match.start(), match.end()))"
   ]
  },
  {
   "cell_type": "markdown",
   "id": "42178ad5",
   "metadata": {},
   "source": [
    "##### re module allows us to tokenise the sring as well."
   ]
  },
  {
   "cell_type": "code",
   "execution_count": 11,
   "id": "9144d6d1",
   "metadata": {},
   "outputs": [],
   "source": [
    "text = \"\"\"Python is simple, intuitive and fun to learn!\"\"\""
   ]
  },
  {
   "cell_type": "code",
   "execution_count": 12,
   "id": "dd1f887d",
   "metadata": {},
   "outputs": [
    {
     "data": {
      "text/plain": [
       "['Python', 'is', 'simple,', 'intuitive', 'and', 'fun', 'to', 'learn!']"
      ]
     },
     "execution_count": 12,
     "metadata": {},
     "output_type": "execute_result"
    }
   ],
   "source": [
    "output = re.split(' ', text)\n",
    "output"
   ]
  },
  {
   "cell_type": "markdown",
   "id": "4255ad85",
   "metadata": {},
   "source": [
    "##### It tokenised the text on the basis of spaces."
   ]
  },
  {
   "cell_type": "markdown",
   "id": "353951de",
   "metadata": {},
   "source": [
    "##### re can be used to substitute a matched pattern with another string. "
   ]
  },
  {
   "cell_type": "code",
   "execution_count": 13,
   "id": "fac8ae62",
   "metadata": {},
   "outputs": [
    {
     "data": {
      "text/plain": [
       "'The python programming language is simple, intuitive and fun to learn!'"
      ]
     },
     "execution_count": 13,
     "metadata": {},
     "output_type": "execute_result"
    }
   ],
   "source": [
    "output = re.sub(\"Python\", \"The python programming language\", text)\n",
    "output"
   ]
  },
  {
   "cell_type": "markdown",
   "id": "b8e61745",
   "metadata": {},
   "source": [
    "##### Here the single occurance of Python has been replaced."
   ]
  },
  {
   "cell_type": "code",
   "execution_count": 14,
   "id": "d6a60f76",
   "metadata": {},
   "outputs": [],
   "source": [
    "text = \"\"\"The first release of Python was Python 1.4 and the most recent version is Python 3.7. All 3.x versions together are often referred to as Python 3\"\"\""
   ]
  },
  {
   "cell_type": "code",
   "execution_count": 15,
   "id": "e338fa19",
   "metadata": {},
   "outputs": [
    {
     "data": {
      "text/plain": [
       "re.compile(r'\\d', re.UNICODE)"
      ]
     },
     "execution_count": 15,
     "metadata": {},
     "output_type": "execute_result"
    }
   ],
   "source": [
    "pattern = re.compile('\\d')\n",
    "pattern"
   ]
  },
  {
   "cell_type": "code",
   "execution_count": 16,
   "id": "e8629488",
   "metadata": {},
   "outputs": [
    {
     "data": {
      "text/plain": [
       "['1', '4', '3', '7', '3', '3']"
      ]
     },
     "execution_count": 16,
     "metadata": {},
     "output_type": "execute_result"
    }
   ],
   "source": [
    "output = re.findall(pattern, text)\n",
    "output"
   ]
  },
  {
   "cell_type": "code",
   "execution_count": 17,
   "id": "81281ff5",
   "metadata": {},
   "outputs": [
    {
     "data": {
      "text/plain": [
       "re.compile(r'\\D', re.UNICODE)"
      ]
     },
     "execution_count": 17,
     "metadata": {},
     "output_type": "execute_result"
    }
   ],
   "source": [
    "pattern = re.compile('\\D')\n",
    "pattern"
   ]
  },
  {
   "cell_type": "code",
   "execution_count": 18,
   "id": "6d669b93",
   "metadata": {},
   "outputs": [
    {
     "data": {
      "text/plain": [
       "['T',\n",
       " 'h',\n",
       " 'e',\n",
       " ' ',\n",
       " 'f',\n",
       " 'i',\n",
       " 'r',\n",
       " 's',\n",
       " 't',\n",
       " ' ',\n",
       " 'r',\n",
       " 'e',\n",
       " 'l',\n",
       " 'e',\n",
       " 'a',\n",
       " 's',\n",
       " 'e',\n",
       " ' ',\n",
       " 'o',\n",
       " 'f',\n",
       " ' ',\n",
       " 'P',\n",
       " 'y',\n",
       " 't',\n",
       " 'h',\n",
       " 'o',\n",
       " 'n',\n",
       " ' ',\n",
       " 'w',\n",
       " 'a',\n",
       " 's',\n",
       " ' ',\n",
       " 'P',\n",
       " 'y',\n",
       " 't',\n",
       " 'h',\n",
       " 'o',\n",
       " 'n',\n",
       " ' ',\n",
       " '.',\n",
       " ' ',\n",
       " 'a',\n",
       " 'n',\n",
       " 'd',\n",
       " ' ',\n",
       " 't',\n",
       " 'h',\n",
       " 'e',\n",
       " ' ',\n",
       " 'm',\n",
       " 'o',\n",
       " 's',\n",
       " 't',\n",
       " ' ',\n",
       " 'r',\n",
       " 'e',\n",
       " 'c',\n",
       " 'e',\n",
       " 'n',\n",
       " 't',\n",
       " ' ',\n",
       " 'v',\n",
       " 'e',\n",
       " 'r',\n",
       " 's',\n",
       " 'i',\n",
       " 'o',\n",
       " 'n',\n",
       " ' ',\n",
       " 'i',\n",
       " 's',\n",
       " ' ',\n",
       " 'P',\n",
       " 'y',\n",
       " 't',\n",
       " 'h',\n",
       " 'o',\n",
       " 'n',\n",
       " ' ',\n",
       " '.',\n",
       " '.',\n",
       " ' ',\n",
       " 'A',\n",
       " 'l',\n",
       " 'l',\n",
       " ' ',\n",
       " '.',\n",
       " 'x',\n",
       " ' ',\n",
       " 'v',\n",
       " 'e',\n",
       " 'r',\n",
       " 's',\n",
       " 'i',\n",
       " 'o',\n",
       " 'n',\n",
       " 's',\n",
       " ' ',\n",
       " 't',\n",
       " 'o',\n",
       " 'g',\n",
       " 'e',\n",
       " 't',\n",
       " 'h',\n",
       " 'e',\n",
       " 'r',\n",
       " ' ',\n",
       " 'a',\n",
       " 'r',\n",
       " 'e',\n",
       " ' ',\n",
       " 'o',\n",
       " 'f',\n",
       " 't',\n",
       " 'e',\n",
       " 'n',\n",
       " ' ',\n",
       " 'r',\n",
       " 'e',\n",
       " 'f',\n",
       " 'e',\n",
       " 'r',\n",
       " 'r',\n",
       " 'e',\n",
       " 'd',\n",
       " ' ',\n",
       " 't',\n",
       " 'o',\n",
       " ' ',\n",
       " 'a',\n",
       " 's',\n",
       " ' ',\n",
       " 'P',\n",
       " 'y',\n",
       " 't',\n",
       " 'h',\n",
       " 'o',\n",
       " 'n',\n",
       " ' ']"
      ]
     },
     "execution_count": 18,
     "metadata": {},
     "output_type": "execute_result"
    }
   ],
   "source": [
    "output = re.findall(pattern, text)\n",
    "output"
   ]
  },
  {
   "cell_type": "code",
   "execution_count": 19,
   "id": "432ea88c",
   "metadata": {},
   "outputs": [
    {
     "data": {
      "text/plain": [
       "[' ',\n",
       " ' ',\n",
       " ' ',\n",
       " ' ',\n",
       " ' ',\n",
       " ' ',\n",
       " ' ',\n",
       " ' ',\n",
       " ' ',\n",
       " ' ',\n",
       " ' ',\n",
       " ' ',\n",
       " ' ',\n",
       " ' ',\n",
       " ' ',\n",
       " ' ',\n",
       " ' ',\n",
       " ' ',\n",
       " ' ',\n",
       " ' ',\n",
       " ' ',\n",
       " ' ',\n",
       " ' ',\n",
       " ' ',\n",
       " ' ',\n",
       " ' ']"
      ]
     },
     "execution_count": 19,
     "metadata": {},
     "output_type": "execute_result"
    }
   ],
   "source": [
    "pattern = re.compile('\\s')\n",
    "output = re.findall(pattern, text)\n",
    "output"
   ]
  },
  {
   "cell_type": "markdown",
   "id": "0bef30c3",
   "metadata": {},
   "source": [
    "##### Without compiling we may use 'r' to make easy regex statements."
   ]
  },
  {
   "cell_type": "code",
   "execution_count": 20,
   "id": "8203ccaf",
   "metadata": {},
   "outputs": [
    {
     "data": {
      "text/plain": [
       "['T',\n",
       " 'h',\n",
       " 'e',\n",
       " 'f',\n",
       " 'i',\n",
       " 'r',\n",
       " 's',\n",
       " 't',\n",
       " 'r',\n",
       " 'e',\n",
       " 'l',\n",
       " 'e',\n",
       " 'a',\n",
       " 's',\n",
       " 'e',\n",
       " 'o',\n",
       " 'f',\n",
       " 'P',\n",
       " 'y',\n",
       " 't',\n",
       " 'h',\n",
       " 'o',\n",
       " 'n',\n",
       " 'w',\n",
       " 'a',\n",
       " 's',\n",
       " 'P',\n",
       " 'y',\n",
       " 't',\n",
       " 'h',\n",
       " 'o',\n",
       " 'n',\n",
       " '1',\n",
       " '.',\n",
       " '4',\n",
       " 'a',\n",
       " 'n',\n",
       " 'd',\n",
       " 't',\n",
       " 'h',\n",
       " 'e',\n",
       " 'm',\n",
       " 'o',\n",
       " 's',\n",
       " 't',\n",
       " 'r',\n",
       " 'e',\n",
       " 'c',\n",
       " 'e',\n",
       " 'n',\n",
       " 't',\n",
       " 'v',\n",
       " 'e',\n",
       " 'r',\n",
       " 's',\n",
       " 'i',\n",
       " 'o',\n",
       " 'n',\n",
       " 'i',\n",
       " 's',\n",
       " 'P',\n",
       " 'y',\n",
       " 't',\n",
       " 'h',\n",
       " 'o',\n",
       " 'n',\n",
       " '3',\n",
       " '.',\n",
       " '7',\n",
       " '.',\n",
       " 'A',\n",
       " 'l',\n",
       " 'l',\n",
       " '3',\n",
       " '.',\n",
       " 'x',\n",
       " 'v',\n",
       " 'e',\n",
       " 'r',\n",
       " 's',\n",
       " 'i',\n",
       " 'o',\n",
       " 'n',\n",
       " 's',\n",
       " 't',\n",
       " 'o',\n",
       " 'g',\n",
       " 'e',\n",
       " 't',\n",
       " 'h',\n",
       " 'e',\n",
       " 'r',\n",
       " 'a',\n",
       " 'r',\n",
       " 'e',\n",
       " 'o',\n",
       " 'f',\n",
       " 't',\n",
       " 'e',\n",
       " 'n',\n",
       " 'r',\n",
       " 'e',\n",
       " 'f',\n",
       " 'e',\n",
       " 'r',\n",
       " 'r',\n",
       " 'e',\n",
       " 'd',\n",
       " 't',\n",
       " 'o',\n",
       " 'a',\n",
       " 's',\n",
       " 'P',\n",
       " 'y',\n",
       " 't',\n",
       " 'h',\n",
       " 'o',\n",
       " 'n',\n",
       " '3']"
      ]
     },
     "execution_count": 20,
     "metadata": {},
     "output_type": "execute_result"
    }
   ],
   "source": [
    "output = re.findall(r'\\S', text)\n",
    "output"
   ]
  },
  {
   "cell_type": "code",
   "execution_count": 21,
   "id": "ed027257",
   "metadata": {},
   "outputs": [
    {
     "data": {
      "text/plain": [
       "['T',\n",
       " 'h',\n",
       " 'e',\n",
       " 'f',\n",
       " 'i',\n",
       " 'r',\n",
       " 's',\n",
       " 't',\n",
       " 'r',\n",
       " 'e',\n",
       " 'l',\n",
       " 'e',\n",
       " 'a',\n",
       " 's',\n",
       " 'e',\n",
       " 'o',\n",
       " 'f',\n",
       " 'P',\n",
       " 'y',\n",
       " 't',\n",
       " 'h',\n",
       " 'o',\n",
       " 'n',\n",
       " 'w',\n",
       " 'a',\n",
       " 's',\n",
       " 'P',\n",
       " 'y',\n",
       " 't',\n",
       " 'h',\n",
       " 'o',\n",
       " 'n',\n",
       " '1',\n",
       " '4',\n",
       " 'a',\n",
       " 'n',\n",
       " 'd',\n",
       " 't',\n",
       " 'h',\n",
       " 'e',\n",
       " 'm',\n",
       " 'o',\n",
       " 's',\n",
       " 't',\n",
       " 'r',\n",
       " 'e',\n",
       " 'c',\n",
       " 'e',\n",
       " 'n',\n",
       " 't',\n",
       " 'v',\n",
       " 'e',\n",
       " 'r',\n",
       " 's',\n",
       " 'i',\n",
       " 'o',\n",
       " 'n',\n",
       " 'i',\n",
       " 's',\n",
       " 'P',\n",
       " 'y',\n",
       " 't',\n",
       " 'h',\n",
       " 'o',\n",
       " 'n',\n",
       " '3',\n",
       " '7',\n",
       " 'A',\n",
       " 'l',\n",
       " 'l',\n",
       " '3',\n",
       " 'x',\n",
       " 'v',\n",
       " 'e',\n",
       " 'r',\n",
       " 's',\n",
       " 'i',\n",
       " 'o',\n",
       " 'n',\n",
       " 's',\n",
       " 't',\n",
       " 'o',\n",
       " 'g',\n",
       " 'e',\n",
       " 't',\n",
       " 'h',\n",
       " 'e',\n",
       " 'r',\n",
       " 'a',\n",
       " 'r',\n",
       " 'e',\n",
       " 'o',\n",
       " 'f',\n",
       " 't',\n",
       " 'e',\n",
       " 'n',\n",
       " 'r',\n",
       " 'e',\n",
       " 'f',\n",
       " 'e',\n",
       " 'r',\n",
       " 'r',\n",
       " 'e',\n",
       " 'd',\n",
       " 't',\n",
       " 'o',\n",
       " 'a',\n",
       " 's',\n",
       " 'P',\n",
       " 'y',\n",
       " 't',\n",
       " 'h',\n",
       " 'o',\n",
       " 'n',\n",
       " '3']"
      ]
     },
     "execution_count": 21,
     "metadata": {},
     "output_type": "execute_result"
    }
   ],
   "source": [
    "output = re.findall(r'\\w', text)\n",
    "output"
   ]
  },
  {
   "cell_type": "markdown",
   "id": "3f3c7584",
   "metadata": {},
   "source": [
    "##### The only special characters the '\\w' captures is '_'."
   ]
  },
  {
   "cell_type": "code",
   "execution_count": 22,
   "id": "e792c909",
   "metadata": {},
   "outputs": [
    {
     "data": {
      "text/plain": [
       "[' ',\n",
       " ' ',\n",
       " ' ',\n",
       " ' ',\n",
       " ' ',\n",
       " ' ',\n",
       " ' ',\n",
       " '.',\n",
       " ' ',\n",
       " ' ',\n",
       " ' ',\n",
       " ' ',\n",
       " ' ',\n",
       " ' ',\n",
       " ' ',\n",
       " ' ',\n",
       " '.',\n",
       " '.',\n",
       " ' ',\n",
       " ' ',\n",
       " '.',\n",
       " ' ',\n",
       " ' ',\n",
       " ' ',\n",
       " ' ',\n",
       " ' ',\n",
       " ' ',\n",
       " ' ',\n",
       " ' ',\n",
       " ' ']"
      ]
     },
     "execution_count": 22,
     "metadata": {},
     "output_type": "execute_result"
    }
   ],
   "source": [
    "output = re.findall(r'\\W', text)\n",
    "output"
   ]
  },
  {
   "cell_type": "code",
   "execution_count": 23,
   "id": "ee91a47d",
   "metadata": {},
   "outputs": [
    {
     "data": {
      "text/plain": [
       "['1', '4', '3', '7', '3', '3']"
      ]
     },
     "execution_count": 23,
     "metadata": {},
     "output_type": "execute_result"
    }
   ],
   "source": [
    "output = re.findall(r'[0-9]', text)\n",
    "output"
   ]
  },
  {
   "cell_type": "code",
   "execution_count": 24,
   "id": "26c5971c",
   "metadata": {},
   "outputs": [
    {
     "data": {
      "text/plain": [
       "['7']"
      ]
     },
     "execution_count": 24,
     "metadata": {},
     "output_type": "execute_result"
    }
   ],
   "source": [
    "output = re.findall(r'[5-9]', text)\n",
    "output"
   ]
  },
  {
   "cell_type": "code",
   "execution_count": 25,
   "id": "c3808df5",
   "metadata": {},
   "outputs": [
    {
     "data": {
      "text/plain": [
       "['T', 'P', 'P', '1', '4', 'P', '3', '7', 'A', '3', 'P', '3']"
      ]
     },
     "execution_count": 25,
     "metadata": {},
     "output_type": "execute_result"
    }
   ],
   "source": [
    "output = re.findall(r'[0-9A-Z]', text)\n",
    "output"
   ]
  },
  {
   "cell_type": "code",
   "execution_count": 26,
   "id": "82034286",
   "metadata": {},
   "outputs": [
    {
     "data": {
      "text/plain": [
       "['Py', 'Py', 'Py', 'Py']"
      ]
     },
     "execution_count": 26,
     "metadata": {},
     "output_type": "execute_result"
    }
   ],
   "source": [
    "output = re.findall(r'Py*', text)\n",
    "output"
   ]
  },
  {
   "cell_type": "code",
   "execution_count": 27,
   "id": "2a2ea320",
   "metadata": {},
   "outputs": [
    {
     "data": {
      "text/plain": [
       "['Py', 'Py', 'Py', 'Py']"
      ]
     },
     "execution_count": 27,
     "metadata": {},
     "output_type": "execute_result"
    }
   ],
   "source": [
    "pattern = re.compile(r'py*', re.IGNORECASE)\n",
    "output = re.findall(pattern, text)\n",
    "output"
   ]
  }
 ],
 "metadata": {
  "kernelspec": {
   "display_name": "Python 3 (ipykernel)",
   "language": "python",
   "name": "python3"
  },
  "language_info": {
   "codemirror_mode": {
    "name": "ipython",
    "version": 3
   },
   "file_extension": ".py",
   "mimetype": "text/x-python",
   "name": "python",
   "nbconvert_exporter": "python",
   "pygments_lexer": "ipython3",
   "version": "3.9.13"
  }
 },
 "nbformat": 4,
 "nbformat_minor": 5
}
