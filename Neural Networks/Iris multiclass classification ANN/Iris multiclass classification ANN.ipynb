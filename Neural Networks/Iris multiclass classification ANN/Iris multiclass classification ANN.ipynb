{
 "cells": [
  {
   "cell_type": "markdown",
   "id": "23b418fe",
   "metadata": {},
   "source": [
    "# <center>IRIS CLASSIFICATION USING ANN"
   ]
  },
  {
   "cell_type": "markdown",
   "id": "84544ea7",
   "metadata": {},
   "source": [
    "#### Loading the dependencies"
   ]
  },
  {
   "cell_type": "code",
   "execution_count": 1,
   "id": "c85785c7",
   "metadata": {},
   "outputs": [],
   "source": [
    "import pandas as pd \n",
    "import numpy as np\n",
    "import matplotlib.pyplot as plt\n",
    "import warnings\n",
    "warnings.filterwarnings('ignore')\n",
    "from sklearn.preprocessing import LabelEncoder\n",
    "from sklearn.model_selection import train_test_split\n",
    "from sklearn.metrics import confusion_matrix, classification_report\n",
    "from keras.wrappers.scikit_learn import KerasClassifier\n",
    "from keras.utils import np_utils\n",
    "from keras.models import Sequential\n",
    "from keras.layers import Dense, Dropout\n",
    "from keras.callbacks import EarlyStopping\n",
    "import seaborn as sns"
   ]
  },
  {
   "cell_type": "code",
   "execution_count": 2,
   "id": "a5dc2c5a",
   "metadata": {},
   "outputs": [],
   "source": [
    "data = sns.load_dataset('iris')"
   ]
  },
  {
   "cell_type": "code",
   "execution_count": 3,
   "id": "b8db9bcd",
   "metadata": {},
   "outputs": [
    {
     "data": {
      "text/html": [
       "<div>\n",
       "<style scoped>\n",
       "    .dataframe tbody tr th:only-of-type {\n",
       "        vertical-align: middle;\n",
       "    }\n",
       "\n",
       "    .dataframe tbody tr th {\n",
       "        vertical-align: top;\n",
       "    }\n",
       "\n",
       "    .dataframe thead th {\n",
       "        text-align: right;\n",
       "    }\n",
       "</style>\n",
       "<table border=\"1\" class=\"dataframe\">\n",
       "  <thead>\n",
       "    <tr style=\"text-align: right;\">\n",
       "      <th></th>\n",
       "      <th>sepal_length</th>\n",
       "      <th>sepal_width</th>\n",
       "      <th>petal_length</th>\n",
       "      <th>petal_width</th>\n",
       "      <th>species</th>\n",
       "    </tr>\n",
       "  </thead>\n",
       "  <tbody>\n",
       "    <tr>\n",
       "      <th>0</th>\n",
       "      <td>5.1</td>\n",
       "      <td>3.5</td>\n",
       "      <td>1.4</td>\n",
       "      <td>0.2</td>\n",
       "      <td>setosa</td>\n",
       "    </tr>\n",
       "    <tr>\n",
       "      <th>1</th>\n",
       "      <td>4.9</td>\n",
       "      <td>3.0</td>\n",
       "      <td>1.4</td>\n",
       "      <td>0.2</td>\n",
       "      <td>setosa</td>\n",
       "    </tr>\n",
       "    <tr>\n",
       "      <th>2</th>\n",
       "      <td>4.7</td>\n",
       "      <td>3.2</td>\n",
       "      <td>1.3</td>\n",
       "      <td>0.2</td>\n",
       "      <td>setosa</td>\n",
       "    </tr>\n",
       "    <tr>\n",
       "      <th>3</th>\n",
       "      <td>4.6</td>\n",
       "      <td>3.1</td>\n",
       "      <td>1.5</td>\n",
       "      <td>0.2</td>\n",
       "      <td>setosa</td>\n",
       "    </tr>\n",
       "    <tr>\n",
       "      <th>4</th>\n",
       "      <td>5.0</td>\n",
       "      <td>3.6</td>\n",
       "      <td>1.4</td>\n",
       "      <td>0.2</td>\n",
       "      <td>setosa</td>\n",
       "    </tr>\n",
       "  </tbody>\n",
       "</table>\n",
       "</div>"
      ],
      "text/plain": [
       "   sepal_length  sepal_width  petal_length  petal_width species\n",
       "0           5.1          3.5           1.4          0.2  setosa\n",
       "1           4.9          3.0           1.4          0.2  setosa\n",
       "2           4.7          3.2           1.3          0.2  setosa\n",
       "3           4.6          3.1           1.5          0.2  setosa\n",
       "4           5.0          3.6           1.4          0.2  setosa"
      ]
     },
     "execution_count": 3,
     "metadata": {},
     "output_type": "execute_result"
    }
   ],
   "source": [
    "data.head()"
   ]
  },
  {
   "cell_type": "code",
   "execution_count": 4,
   "id": "4d8fb9c6",
   "metadata": {},
   "outputs": [
    {
     "name": "stdout",
     "output_type": "stream",
     "text": [
      "<class 'pandas.core.frame.DataFrame'>\n",
      "RangeIndex: 150 entries, 0 to 149\n",
      "Data columns (total 5 columns):\n",
      " #   Column        Non-Null Count  Dtype  \n",
      "---  ------        --------------  -----  \n",
      " 0   sepal_length  150 non-null    float64\n",
      " 1   sepal_width   150 non-null    float64\n",
      " 2   petal_length  150 non-null    float64\n",
      " 3   petal_width   150 non-null    float64\n",
      " 4   species       150 non-null    object \n",
      "dtypes: float64(4), object(1)\n",
      "memory usage: 6.0+ KB\n"
     ]
    }
   ],
   "source": [
    "data.info()"
   ]
  },
  {
   "cell_type": "code",
   "execution_count": 5,
   "id": "d31f22d2",
   "metadata": {},
   "outputs": [
    {
     "data": {
      "text/html": [
       "<div>\n",
       "<style scoped>\n",
       "    .dataframe tbody tr th:only-of-type {\n",
       "        vertical-align: middle;\n",
       "    }\n",
       "\n",
       "    .dataframe tbody tr th {\n",
       "        vertical-align: top;\n",
       "    }\n",
       "\n",
       "    .dataframe thead th {\n",
       "        text-align: right;\n",
       "    }\n",
       "</style>\n",
       "<table border=\"1\" class=\"dataframe\">\n",
       "  <thead>\n",
       "    <tr style=\"text-align: right;\">\n",
       "      <th></th>\n",
       "      <th>sepal_length</th>\n",
       "      <th>sepal_width</th>\n",
       "      <th>petal_length</th>\n",
       "      <th>petal_width</th>\n",
       "    </tr>\n",
       "  </thead>\n",
       "  <tbody>\n",
       "    <tr>\n",
       "      <th>count</th>\n",
       "      <td>150.000000</td>\n",
       "      <td>150.000000</td>\n",
       "      <td>150.000000</td>\n",
       "      <td>150.000000</td>\n",
       "    </tr>\n",
       "    <tr>\n",
       "      <th>mean</th>\n",
       "      <td>5.843333</td>\n",
       "      <td>3.057333</td>\n",
       "      <td>3.758000</td>\n",
       "      <td>1.199333</td>\n",
       "    </tr>\n",
       "    <tr>\n",
       "      <th>std</th>\n",
       "      <td>0.828066</td>\n",
       "      <td>0.435866</td>\n",
       "      <td>1.765298</td>\n",
       "      <td>0.762238</td>\n",
       "    </tr>\n",
       "    <tr>\n",
       "      <th>min</th>\n",
       "      <td>4.300000</td>\n",
       "      <td>2.000000</td>\n",
       "      <td>1.000000</td>\n",
       "      <td>0.100000</td>\n",
       "    </tr>\n",
       "    <tr>\n",
       "      <th>25%</th>\n",
       "      <td>5.100000</td>\n",
       "      <td>2.800000</td>\n",
       "      <td>1.600000</td>\n",
       "      <td>0.300000</td>\n",
       "    </tr>\n",
       "    <tr>\n",
       "      <th>50%</th>\n",
       "      <td>5.800000</td>\n",
       "      <td>3.000000</td>\n",
       "      <td>4.350000</td>\n",
       "      <td>1.300000</td>\n",
       "    </tr>\n",
       "    <tr>\n",
       "      <th>75%</th>\n",
       "      <td>6.400000</td>\n",
       "      <td>3.300000</td>\n",
       "      <td>5.100000</td>\n",
       "      <td>1.800000</td>\n",
       "    </tr>\n",
       "    <tr>\n",
       "      <th>max</th>\n",
       "      <td>7.900000</td>\n",
       "      <td>4.400000</td>\n",
       "      <td>6.900000</td>\n",
       "      <td>2.500000</td>\n",
       "    </tr>\n",
       "  </tbody>\n",
       "</table>\n",
       "</div>"
      ],
      "text/plain": [
       "       sepal_length  sepal_width  petal_length  petal_width\n",
       "count    150.000000   150.000000    150.000000   150.000000\n",
       "mean       5.843333     3.057333      3.758000     1.199333\n",
       "std        0.828066     0.435866      1.765298     0.762238\n",
       "min        4.300000     2.000000      1.000000     0.100000\n",
       "25%        5.100000     2.800000      1.600000     0.300000\n",
       "50%        5.800000     3.000000      4.350000     1.300000\n",
       "75%        6.400000     3.300000      5.100000     1.800000\n",
       "max        7.900000     4.400000      6.900000     2.500000"
      ]
     },
     "execution_count": 5,
     "metadata": {},
     "output_type": "execute_result"
    }
   ],
   "source": [
    "data.describe()"
   ]
  },
  {
   "cell_type": "code",
   "execution_count": 6,
   "id": "86af9fa5",
   "metadata": {},
   "outputs": [
    {
     "data": {
      "text/plain": [
       "(150, 5)"
      ]
     },
     "execution_count": 6,
     "metadata": {},
     "output_type": "execute_result"
    }
   ],
   "source": [
    "data.shape"
   ]
  },
  {
   "cell_type": "code",
   "execution_count": 7,
   "id": "1c3bde45",
   "metadata": {},
   "outputs": [
    {
     "name": "stdout",
     "output_type": "stream",
     "text": [
      "sepal_length    0.0\n",
      "sepal_width     0.0\n",
      "petal_length    0.0\n",
      "petal_width     0.0\n",
      "species         0.0\n",
      "dtype: float64\n"
     ]
    }
   ],
   "source": [
    "print(data.isnull().mean()*100)"
   ]
  },
  {
   "cell_type": "code",
   "execution_count": 8,
   "id": "1fa912c4",
   "metadata": {},
   "outputs": [
    {
     "name": "stdout",
     "output_type": "stream",
     "text": [
      "1\n"
     ]
    }
   ],
   "source": [
    "print(data.duplicated().sum())"
   ]
  },
  {
   "cell_type": "code",
   "execution_count": 9,
   "id": "c71e82f8",
   "metadata": {},
   "outputs": [],
   "source": [
    "data.drop_duplicates(inplace=True)"
   ]
  },
  {
   "cell_type": "markdown",
   "id": "0cadf8d0",
   "metadata": {},
   "source": [
    "#### Label encoding the target column"
   ]
  },
  {
   "cell_type": "code",
   "execution_count": 10,
   "id": "d8f4bead",
   "metadata": {},
   "outputs": [],
   "source": [
    "LE = LabelEncoder()"
   ]
  },
  {
   "cell_type": "code",
   "execution_count": 11,
   "id": "a1ade06f",
   "metadata": {},
   "outputs": [],
   "source": [
    "data.species = LE.fit_transform(data.species)"
   ]
  },
  {
   "cell_type": "code",
   "execution_count": 12,
   "id": "49bf9b38",
   "metadata": {},
   "outputs": [
    {
     "data": {
      "text/html": [
       "<div>\n",
       "<style scoped>\n",
       "    .dataframe tbody tr th:only-of-type {\n",
       "        vertical-align: middle;\n",
       "    }\n",
       "\n",
       "    .dataframe tbody tr th {\n",
       "        vertical-align: top;\n",
       "    }\n",
       "\n",
       "    .dataframe thead th {\n",
       "        text-align: right;\n",
       "    }\n",
       "</style>\n",
       "<table border=\"1\" class=\"dataframe\">\n",
       "  <thead>\n",
       "    <tr style=\"text-align: right;\">\n",
       "      <th></th>\n",
       "      <th>sepal_length</th>\n",
       "      <th>sepal_width</th>\n",
       "      <th>petal_length</th>\n",
       "      <th>petal_width</th>\n",
       "      <th>species</th>\n",
       "    </tr>\n",
       "  </thead>\n",
       "  <tbody>\n",
       "    <tr>\n",
       "      <th>43</th>\n",
       "      <td>5.0</td>\n",
       "      <td>3.5</td>\n",
       "      <td>1.6</td>\n",
       "      <td>0.6</td>\n",
       "      <td>0</td>\n",
       "    </tr>\n",
       "    <tr>\n",
       "      <th>23</th>\n",
       "      <td>5.1</td>\n",
       "      <td>3.3</td>\n",
       "      <td>1.7</td>\n",
       "      <td>0.5</td>\n",
       "      <td>0</td>\n",
       "    </tr>\n",
       "    <tr>\n",
       "      <th>49</th>\n",
       "      <td>5.0</td>\n",
       "      <td>3.3</td>\n",
       "      <td>1.4</td>\n",
       "      <td>0.2</td>\n",
       "      <td>0</td>\n",
       "    </tr>\n",
       "    <tr>\n",
       "      <th>130</th>\n",
       "      <td>7.4</td>\n",
       "      <td>2.8</td>\n",
       "      <td>6.1</td>\n",
       "      <td>1.9</td>\n",
       "      <td>2</td>\n",
       "    </tr>\n",
       "    <tr>\n",
       "      <th>112</th>\n",
       "      <td>6.8</td>\n",
       "      <td>3.0</td>\n",
       "      <td>5.5</td>\n",
       "      <td>2.1</td>\n",
       "      <td>2</td>\n",
       "    </tr>\n",
       "    <tr>\n",
       "      <th>77</th>\n",
       "      <td>6.7</td>\n",
       "      <td>3.0</td>\n",
       "      <td>5.0</td>\n",
       "      <td>1.7</td>\n",
       "      <td>1</td>\n",
       "    </tr>\n",
       "    <tr>\n",
       "      <th>92</th>\n",
       "      <td>5.8</td>\n",
       "      <td>2.6</td>\n",
       "      <td>4.0</td>\n",
       "      <td>1.2</td>\n",
       "      <td>1</td>\n",
       "    </tr>\n",
       "    <tr>\n",
       "      <th>75</th>\n",
       "      <td>6.6</td>\n",
       "      <td>3.0</td>\n",
       "      <td>4.4</td>\n",
       "      <td>1.4</td>\n",
       "      <td>1</td>\n",
       "    </tr>\n",
       "    <tr>\n",
       "      <th>61</th>\n",
       "      <td>5.9</td>\n",
       "      <td>3.0</td>\n",
       "      <td>4.2</td>\n",
       "      <td>1.5</td>\n",
       "      <td>1</td>\n",
       "    </tr>\n",
       "    <tr>\n",
       "      <th>145</th>\n",
       "      <td>6.7</td>\n",
       "      <td>3.0</td>\n",
       "      <td>5.2</td>\n",
       "      <td>2.3</td>\n",
       "      <td>2</td>\n",
       "    </tr>\n",
       "  </tbody>\n",
       "</table>\n",
       "</div>"
      ],
      "text/plain": [
       "     sepal_length  sepal_width  petal_length  petal_width  species\n",
       "43            5.0          3.5           1.6          0.6        0\n",
       "23            5.1          3.3           1.7          0.5        0\n",
       "49            5.0          3.3           1.4          0.2        0\n",
       "130           7.4          2.8           6.1          1.9        2\n",
       "112           6.8          3.0           5.5          2.1        2\n",
       "77            6.7          3.0           5.0          1.7        1\n",
       "92            5.8          2.6           4.0          1.2        1\n",
       "75            6.6          3.0           4.4          1.4        1\n",
       "61            5.9          3.0           4.2          1.5        1\n",
       "145           6.7          3.0           5.2          2.3        2"
      ]
     },
     "execution_count": 12,
     "metadata": {},
     "output_type": "execute_result"
    }
   ],
   "source": [
    "data.sample(10)"
   ]
  },
  {
   "cell_type": "code",
   "execution_count": 13,
   "id": "88572300",
   "metadata": {},
   "outputs": [],
   "source": [
    "x = data.iloc[:, :-1].values\n",
    "y = data.iloc[:, -1].values"
   ]
  },
  {
   "cell_type": "code",
   "execution_count": 14,
   "id": "6b5d3bc9",
   "metadata": {},
   "outputs": [],
   "source": [
    "dummy_y = np_utils.to_categorical(y)"
   ]
  },
  {
   "cell_type": "code",
   "execution_count": 15,
   "id": "86becf3c",
   "metadata": {},
   "outputs": [
    {
     "data": {
      "text/plain": [
       "array([[1., 0., 0.],\n",
       "       [1., 0., 0.],\n",
       "       [1., 0., 0.],\n",
       "       [1., 0., 0.],\n",
       "       [1., 0., 0.],\n",
       "       [1., 0., 0.],\n",
       "       [1., 0., 0.],\n",
       "       [1., 0., 0.],\n",
       "       [1., 0., 0.],\n",
       "       [1., 0., 0.],\n",
       "       [1., 0., 0.],\n",
       "       [1., 0., 0.],\n",
       "       [1., 0., 0.],\n",
       "       [1., 0., 0.],\n",
       "       [1., 0., 0.],\n",
       "       [1., 0., 0.],\n",
       "       [1., 0., 0.],\n",
       "       [1., 0., 0.],\n",
       "       [1., 0., 0.],\n",
       "       [1., 0., 0.],\n",
       "       [1., 0., 0.],\n",
       "       [1., 0., 0.],\n",
       "       [1., 0., 0.],\n",
       "       [1., 0., 0.],\n",
       "       [1., 0., 0.],\n",
       "       [1., 0., 0.],\n",
       "       [1., 0., 0.],\n",
       "       [1., 0., 0.],\n",
       "       [1., 0., 0.],\n",
       "       [1., 0., 0.],\n",
       "       [1., 0., 0.],\n",
       "       [1., 0., 0.],\n",
       "       [1., 0., 0.],\n",
       "       [1., 0., 0.],\n",
       "       [1., 0., 0.],\n",
       "       [1., 0., 0.],\n",
       "       [1., 0., 0.],\n",
       "       [1., 0., 0.],\n",
       "       [1., 0., 0.],\n",
       "       [1., 0., 0.],\n",
       "       [1., 0., 0.],\n",
       "       [1., 0., 0.],\n",
       "       [1., 0., 0.],\n",
       "       [1., 0., 0.],\n",
       "       [1., 0., 0.],\n",
       "       [1., 0., 0.],\n",
       "       [1., 0., 0.],\n",
       "       [1., 0., 0.],\n",
       "       [1., 0., 0.],\n",
       "       [1., 0., 0.],\n",
       "       [0., 1., 0.],\n",
       "       [0., 1., 0.],\n",
       "       [0., 1., 0.],\n",
       "       [0., 1., 0.],\n",
       "       [0., 1., 0.],\n",
       "       [0., 1., 0.],\n",
       "       [0., 1., 0.],\n",
       "       [0., 1., 0.],\n",
       "       [0., 1., 0.],\n",
       "       [0., 1., 0.],\n",
       "       [0., 1., 0.],\n",
       "       [0., 1., 0.],\n",
       "       [0., 1., 0.],\n",
       "       [0., 1., 0.],\n",
       "       [0., 1., 0.],\n",
       "       [0., 1., 0.],\n",
       "       [0., 1., 0.],\n",
       "       [0., 1., 0.],\n",
       "       [0., 1., 0.],\n",
       "       [0., 1., 0.],\n",
       "       [0., 1., 0.],\n",
       "       [0., 1., 0.],\n",
       "       [0., 1., 0.],\n",
       "       [0., 1., 0.],\n",
       "       [0., 1., 0.],\n",
       "       [0., 1., 0.],\n",
       "       [0., 1., 0.],\n",
       "       [0., 1., 0.],\n",
       "       [0., 1., 0.],\n",
       "       [0., 1., 0.],\n",
       "       [0., 1., 0.],\n",
       "       [0., 1., 0.],\n",
       "       [0., 1., 0.],\n",
       "       [0., 1., 0.],\n",
       "       [0., 1., 0.],\n",
       "       [0., 1., 0.],\n",
       "       [0., 1., 0.],\n",
       "       [0., 1., 0.],\n",
       "       [0., 1., 0.],\n",
       "       [0., 1., 0.],\n",
       "       [0., 1., 0.],\n",
       "       [0., 1., 0.],\n",
       "       [0., 1., 0.],\n",
       "       [0., 1., 0.],\n",
       "       [0., 1., 0.],\n",
       "       [0., 1., 0.],\n",
       "       [0., 1., 0.],\n",
       "       [0., 1., 0.],\n",
       "       [0., 1., 0.],\n",
       "       [0., 1., 0.],\n",
       "       [0., 0., 1.],\n",
       "       [0., 0., 1.],\n",
       "       [0., 0., 1.],\n",
       "       [0., 0., 1.],\n",
       "       [0., 0., 1.],\n",
       "       [0., 0., 1.],\n",
       "       [0., 0., 1.],\n",
       "       [0., 0., 1.],\n",
       "       [0., 0., 1.],\n",
       "       [0., 0., 1.],\n",
       "       [0., 0., 1.],\n",
       "       [0., 0., 1.],\n",
       "       [0., 0., 1.],\n",
       "       [0., 0., 1.],\n",
       "       [0., 0., 1.],\n",
       "       [0., 0., 1.],\n",
       "       [0., 0., 1.],\n",
       "       [0., 0., 1.],\n",
       "       [0., 0., 1.],\n",
       "       [0., 0., 1.],\n",
       "       [0., 0., 1.],\n",
       "       [0., 0., 1.],\n",
       "       [0., 0., 1.],\n",
       "       [0., 0., 1.],\n",
       "       [0., 0., 1.],\n",
       "       [0., 0., 1.],\n",
       "       [0., 0., 1.],\n",
       "       [0., 0., 1.],\n",
       "       [0., 0., 1.],\n",
       "       [0., 0., 1.],\n",
       "       [0., 0., 1.],\n",
       "       [0., 0., 1.],\n",
       "       [0., 0., 1.],\n",
       "       [0., 0., 1.],\n",
       "       [0., 0., 1.],\n",
       "       [0., 0., 1.],\n",
       "       [0., 0., 1.],\n",
       "       [0., 0., 1.],\n",
       "       [0., 0., 1.],\n",
       "       [0., 0., 1.],\n",
       "       [0., 0., 1.],\n",
       "       [0., 0., 1.],\n",
       "       [0., 0., 1.],\n",
       "       [0., 0., 1.],\n",
       "       [0., 0., 1.],\n",
       "       [0., 0., 1.],\n",
       "       [0., 0., 1.],\n",
       "       [0., 0., 1.],\n",
       "       [0., 0., 1.]], dtype=float32)"
      ]
     },
     "execution_count": 15,
     "metadata": {},
     "output_type": "execute_result"
    }
   ],
   "source": [
    "dummy_y"
   ]
  },
  {
   "cell_type": "code",
   "execution_count": 16,
   "id": "f6e1ad64",
   "metadata": {},
   "outputs": [],
   "source": [
    "x_train, x_test, y_train, y_test = train_test_split(x, dummy_y, test_size=0.2, random_state=42)"
   ]
  },
  {
   "cell_type": "markdown",
   "id": "105824ae",
   "metadata": {},
   "source": [
    "#### We can see that the target is now One Hot Encoded."
   ]
  },
  {
   "cell_type": "code",
   "execution_count": 17,
   "id": "861ea566",
   "metadata": {},
   "outputs": [
    {
     "data": {
      "text/plain": [
       "(149, 4)"
      ]
     },
     "execution_count": 17,
     "metadata": {},
     "output_type": "execute_result"
    }
   ],
   "source": [
    "x.shape"
   ]
  },
  {
   "cell_type": "markdown",
   "id": "3a28ed49",
   "metadata": {},
   "source": [
    "#### Buliding Artificial Neural Network model"
   ]
  },
  {
   "cell_type": "code",
   "execution_count": 18,
   "id": "4e7b82e6",
   "metadata": {},
   "outputs": [
    {
     "name": "stdout",
     "output_type": "stream",
     "text": [
      "Model: \"sequential\"\n",
      "_________________________________________________________________\n",
      " Layer (type)                Output Shape              Param #   \n",
      "=================================================================\n",
      " dense (Dense)               (None, 16)                80        \n",
      "                                                                 \n",
      " dense_1 (Dense)             (None, 3)                 51        \n",
      "                                                                 \n",
      "=================================================================\n",
      "Total params: 131\n",
      "Trainable params: 131\n",
      "Non-trainable params: 0\n",
      "_________________________________________________________________\n"
     ]
    }
   ],
   "source": [
    "model = Sequential()\n",
    "model.add(Dense(16, input_shape=(4,), activation = 'relu'))\n",
    "model.add(Dense(3, activation ='softmax'))\n",
    "model.summary()"
   ]
  },
  {
   "cell_type": "markdown",
   "id": "d83b20b4",
   "metadata": {},
   "source": [
    "#### Compiling the model"
   ]
  },
  {
   "cell_type": "code",
   "execution_count": 19,
   "id": "c83c3ab1",
   "metadata": {},
   "outputs": [],
   "source": [
    "model.compile(\n",
    "    optimizer='adam',\n",
    "    loss='categorical_crossentropy',\n",
    "    metrics=['accuracy']\n",
    ")"
   ]
  },
  {
   "cell_type": "markdown",
   "id": "ef3a5d8d",
   "metadata": {},
   "source": [
    "#### Early stopping callbacks"
   ]
  },
  {
   "cell_type": "code",
   "execution_count": 20,
   "id": "80b56b08",
   "metadata": {},
   "outputs": [],
   "source": [
    "es = EarlyStopping(monitor='val_loss',\n",
    "                  mode= 'min',\n",
    "                patience=10,\n",
    "                   restore_best_weights=True\n",
    "                  )"
   ]
  },
  {
   "cell_type": "markdown",
   "id": "cb45ea79",
   "metadata": {},
   "source": [
    "#### Fitting the model"
   ]
  },
  {
   "cell_type": "code",
   "execution_count": 21,
   "id": "19362ccc",
   "metadata": {},
   "outputs": [
    {
     "name": "stdout",
     "output_type": "stream",
     "text": [
      "Epoch 1/500\n",
      "10/10 [==============================] - 1s 35ms/step - loss: 2.2015 - accuracy: 0.2737 - val_loss: 1.5237 - val_accuracy: 0.5000\n",
      "Epoch 2/500\n",
      "10/10 [==============================] - 0s 5ms/step - loss: 1.9502 - accuracy: 0.2737 - val_loss: 1.3796 - val_accuracy: 0.5000\n",
      "Epoch 3/500\n",
      "10/10 [==============================] - 0s 5ms/step - loss: 1.7359 - accuracy: 0.2737 - val_loss: 1.2722 - val_accuracy: 0.5000\n",
      "Epoch 4/500\n",
      "10/10 [==============================] - 0s 5ms/step - loss: 1.5655 - accuracy: 0.2737 - val_loss: 1.1900 - val_accuracy: 0.5000\n",
      "Epoch 5/500\n",
      "10/10 [==============================] - 0s 4ms/step - loss: 1.4292 - accuracy: 0.2737 - val_loss: 1.1156 - val_accuracy: 0.5000\n",
      "Epoch 6/500\n",
      "10/10 [==============================] - 0s 5ms/step - loss: 1.3117 - accuracy: 0.2737 - val_loss: 1.0401 - val_accuracy: 0.5000\n",
      "Epoch 7/500\n",
      "10/10 [==============================] - 0s 5ms/step - loss: 1.1980 - accuracy: 0.2842 - val_loss: 0.9696 - val_accuracy: 0.5417\n",
      "Epoch 8/500\n",
      "10/10 [==============================] - 0s 5ms/step - loss: 1.1038 - accuracy: 0.3474 - val_loss: 0.9047 - val_accuracy: 0.6250\n",
      "Epoch 9/500\n",
      "10/10 [==============================] - 0s 5ms/step - loss: 1.0138 - accuracy: 0.5895 - val_loss: 0.8594 - val_accuracy: 0.7083\n",
      "Epoch 10/500\n",
      "10/10 [==============================] - 0s 5ms/step - loss: 0.9460 - accuracy: 0.6211 - val_loss: 0.8245 - val_accuracy: 0.7083\n",
      "Epoch 11/500\n",
      "10/10 [==============================] - 0s 5ms/step - loss: 0.8913 - accuracy: 0.6421 - val_loss: 0.8043 - val_accuracy: 0.7083\n",
      "Epoch 12/500\n",
      "10/10 [==============================] - 0s 5ms/step - loss: 0.8408 - accuracy: 0.6421 - val_loss: 0.7892 - val_accuracy: 0.7083\n",
      "Epoch 13/500\n",
      "10/10 [==============================] - 0s 5ms/step - loss: 0.8049 - accuracy: 0.6316 - val_loss: 0.7784 - val_accuracy: 0.7083\n",
      "Epoch 14/500\n",
      "10/10 [==============================] - 0s 5ms/step - loss: 0.7738 - accuracy: 0.6000 - val_loss: 0.7633 - val_accuracy: 0.7083\n",
      "Epoch 15/500\n",
      "10/10 [==============================] - 0s 5ms/step - loss: 0.7518 - accuracy: 0.4842 - val_loss: 0.7593 - val_accuracy: 0.5000\n",
      "Epoch 16/500\n",
      "10/10 [==============================] - 0s 5ms/step - loss: 0.7306 - accuracy: 0.4737 - val_loss: 0.7509 - val_accuracy: 0.4583\n",
      "Epoch 17/500\n",
      "10/10 [==============================] - 0s 5ms/step - loss: 0.7122 - accuracy: 0.4737 - val_loss: 0.7355 - val_accuracy: 0.5000\n",
      "Epoch 18/500\n",
      "10/10 [==============================] - 0s 4ms/step - loss: 0.6960 - accuracy: 0.5053 - val_loss: 0.7247 - val_accuracy: 0.5000\n",
      "Epoch 19/500\n",
      "10/10 [==============================] - 0s 5ms/step - loss: 0.6822 - accuracy: 0.5474 - val_loss: 0.7192 - val_accuracy: 0.4167\n",
      "Epoch 20/500\n",
      "10/10 [==============================] - 0s 5ms/step - loss: 0.6665 - accuracy: 0.5789 - val_loss: 0.7021 - val_accuracy: 0.6250\n",
      "Epoch 21/500\n",
      "10/10 [==============================] - 0s 5ms/step - loss: 0.6543 - accuracy: 0.5368 - val_loss: 0.6927 - val_accuracy: 0.6250\n",
      "Epoch 22/500\n",
      "10/10 [==============================] - 0s 4ms/step - loss: 0.6413 - accuracy: 0.5684 - val_loss: 0.6848 - val_accuracy: 0.6250\n",
      "Epoch 23/500\n",
      "10/10 [==============================] - 0s 5ms/step - loss: 0.6296 - accuracy: 0.5789 - val_loss: 0.6755 - val_accuracy: 0.7083\n",
      "Epoch 24/500\n",
      "10/10 [==============================] - 0s 5ms/step - loss: 0.6197 - accuracy: 0.6211 - val_loss: 0.6617 - val_accuracy: 0.6667\n",
      "Epoch 25/500\n",
      "10/10 [==============================] - 0s 5ms/step - loss: 0.6084 - accuracy: 0.6421 - val_loss: 0.6596 - val_accuracy: 0.7500\n",
      "Epoch 26/500\n",
      "10/10 [==============================] - 0s 5ms/step - loss: 0.5982 - accuracy: 0.6526 - val_loss: 0.6543 - val_accuracy: 0.7500\n",
      "Epoch 27/500\n",
      "10/10 [==============================] - 0s 4ms/step - loss: 0.5887 - accuracy: 0.6947 - val_loss: 0.6481 - val_accuracy: 0.6667\n",
      "Epoch 28/500\n",
      "10/10 [==============================] - 0s 5ms/step - loss: 0.5795 - accuracy: 0.7263 - val_loss: 0.6405 - val_accuracy: 0.7500\n",
      "Epoch 29/500\n",
      "10/10 [==============================] - 0s 5ms/step - loss: 0.5710 - accuracy: 0.7158 - val_loss: 0.6310 - val_accuracy: 0.7500\n",
      "Epoch 30/500\n",
      "10/10 [==============================] - 0s 4ms/step - loss: 0.5633 - accuracy: 0.7579 - val_loss: 0.6267 - val_accuracy: 0.7500\n",
      "Epoch 31/500\n",
      "10/10 [==============================] - 0s 5ms/step - loss: 0.5542 - accuracy: 0.7895 - val_loss: 0.6134 - val_accuracy: 0.7917\n",
      "Epoch 32/500\n",
      "10/10 [==============================] - 0s 4ms/step - loss: 0.5469 - accuracy: 0.7895 - val_loss: 0.6003 - val_accuracy: 0.9583\n",
      "Epoch 33/500\n",
      "10/10 [==============================] - 0s 4ms/step - loss: 0.5400 - accuracy: 0.8316 - val_loss: 0.5942 - val_accuracy: 1.0000\n",
      "Epoch 34/500\n",
      "10/10 [==============================] - 0s 5ms/step - loss: 0.5334 - accuracy: 0.8316 - val_loss: 0.5880 - val_accuracy: 1.0000\n",
      "Epoch 35/500\n",
      "10/10 [==============================] - 0s 5ms/step - loss: 0.5274 - accuracy: 0.8211 - val_loss: 0.5800 - val_accuracy: 1.0000\n",
      "Epoch 36/500\n",
      "10/10 [==============================] - 0s 5ms/step - loss: 0.5210 - accuracy: 0.8316 - val_loss: 0.5739 - val_accuracy: 1.0000\n",
      "Epoch 37/500\n",
      "10/10 [==============================] - 0s 4ms/step - loss: 0.5138 - accuracy: 0.8632 - val_loss: 0.5789 - val_accuracy: 0.9583\n",
      "Epoch 38/500\n",
      "10/10 [==============================] - 0s 4ms/step - loss: 0.5085 - accuracy: 0.8211 - val_loss: 0.5803 - val_accuracy: 0.7917\n",
      "Epoch 39/500\n",
      "10/10 [==============================] - 0s 4ms/step - loss: 0.5020 - accuracy: 0.8421 - val_loss: 0.5689 - val_accuracy: 0.9583\n",
      "Epoch 40/500\n",
      "10/10 [==============================] - 0s 4ms/step - loss: 0.4968 - accuracy: 0.8842 - val_loss: 0.5600 - val_accuracy: 0.9583\n",
      "Epoch 41/500\n",
      "10/10 [==============================] - 0s 4ms/step - loss: 0.4906 - accuracy: 0.8947 - val_loss: 0.5536 - val_accuracy: 0.9583\n",
      "Epoch 42/500\n",
      "10/10 [==============================] - 0s 4ms/step - loss: 0.4855 - accuracy: 0.9263 - val_loss: 0.5467 - val_accuracy: 1.0000\n",
      "Epoch 43/500\n",
      "10/10 [==============================] - 0s 4ms/step - loss: 0.4836 - accuracy: 0.8632 - val_loss: 0.5545 - val_accuracy: 0.8750\n",
      "Epoch 44/500\n",
      "10/10 [==============================] - 0s 4ms/step - loss: 0.4751 - accuracy: 0.8737 - val_loss: 0.5473 - val_accuracy: 0.9167\n",
      "Epoch 45/500\n",
      "10/10 [==============================] - 0s 4ms/step - loss: 0.4707 - accuracy: 0.8632 - val_loss: 0.5346 - val_accuracy: 0.9583\n",
      "Epoch 46/500\n",
      "10/10 [==============================] - 0s 4ms/step - loss: 0.4659 - accuracy: 0.9263 - val_loss: 0.5274 - val_accuracy: 1.0000\n",
      "Epoch 47/500\n",
      "10/10 [==============================] - 0s 4ms/step - loss: 0.4625 - accuracy: 0.9158 - val_loss: 0.5345 - val_accuracy: 0.9167\n",
      "Epoch 48/500\n",
      "10/10 [==============================] - 0s 4ms/step - loss: 0.4563 - accuracy: 0.8842 - val_loss: 0.5308 - val_accuracy: 0.9167\n",
      "Epoch 49/500\n",
      "10/10 [==============================] - 0s 4ms/step - loss: 0.4522 - accuracy: 0.9053 - val_loss: 0.5180 - val_accuracy: 0.9583\n",
      "Epoch 50/500\n",
      "10/10 [==============================] - 0s 4ms/step - loss: 0.4482 - accuracy: 0.9368 - val_loss: 0.5090 - val_accuracy: 1.0000\n",
      "Epoch 51/500\n",
      "10/10 [==============================] - 0s 4ms/step - loss: 0.4429 - accuracy: 0.9263 - val_loss: 0.5100 - val_accuracy: 0.9583\n",
      "Epoch 52/500\n",
      "10/10 [==============================] - 0s 4ms/step - loss: 0.4400 - accuracy: 0.8947 - val_loss: 0.5232 - val_accuracy: 0.8750\n",
      "Epoch 53/500\n",
      "10/10 [==============================] - 0s 4ms/step - loss: 0.4356 - accuracy: 0.8947 - val_loss: 0.5147 - val_accuracy: 0.9167\n",
      "Epoch 54/500\n",
      "10/10 [==============================] - 0s 4ms/step - loss: 0.4317 - accuracy: 0.9158 - val_loss: 0.5060 - val_accuracy: 0.9167\n",
      "Epoch 55/500\n",
      "10/10 [==============================] - 0s 4ms/step - loss: 0.4275 - accuracy: 0.9158 - val_loss: 0.4948 - val_accuracy: 0.9583\n",
      "Epoch 56/500\n",
      "10/10 [==============================] - 0s 4ms/step - loss: 0.4227 - accuracy: 0.9158 - val_loss: 0.4931 - val_accuracy: 0.9167\n",
      "Epoch 57/500\n",
      "10/10 [==============================] - 0s 4ms/step - loss: 0.4189 - accuracy: 0.9158 - val_loss: 0.4891 - val_accuracy: 0.9167\n",
      "Epoch 58/500\n",
      "10/10 [==============================] - 0s 4ms/step - loss: 0.4152 - accuracy: 0.9158 - val_loss: 0.4842 - val_accuracy: 0.9583\n"
     ]
    },
    {
     "name": "stdout",
     "output_type": "stream",
     "text": [
      "Epoch 59/500\n",
      "10/10 [==============================] - 0s 4ms/step - loss: 0.4116 - accuracy: 0.9158 - val_loss: 0.4755 - val_accuracy: 1.0000\n",
      "Epoch 60/500\n",
      "10/10 [==============================] - 0s 4ms/step - loss: 0.4078 - accuracy: 0.9474 - val_loss: 0.4703 - val_accuracy: 1.0000\n",
      "Epoch 61/500\n",
      "10/10 [==============================] - 0s 4ms/step - loss: 0.4042 - accuracy: 0.9474 - val_loss: 0.4667 - val_accuracy: 1.0000\n",
      "Epoch 62/500\n",
      "10/10 [==============================] - 0s 4ms/step - loss: 0.4010 - accuracy: 0.9474 - val_loss: 0.4607 - val_accuracy: 1.0000\n",
      "Epoch 63/500\n",
      "10/10 [==============================] - 0s 4ms/step - loss: 0.3972 - accuracy: 0.9474 - val_loss: 0.4621 - val_accuracy: 1.0000\n",
      "Epoch 64/500\n",
      "10/10 [==============================] - 0s 4ms/step - loss: 0.3941 - accuracy: 0.9263 - val_loss: 0.4573 - val_accuracy: 1.0000\n",
      "Epoch 65/500\n",
      "10/10 [==============================] - 0s 4ms/step - loss: 0.3894 - accuracy: 0.9474 - val_loss: 0.4438 - val_accuracy: 1.0000\n",
      "Epoch 66/500\n",
      "10/10 [==============================] - 0s 4ms/step - loss: 0.3872 - accuracy: 0.9474 - val_loss: 0.4350 - val_accuracy: 1.0000\n",
      "Epoch 67/500\n",
      "10/10 [==============================] - 0s 4ms/step - loss: 0.3840 - accuracy: 0.9579 - val_loss: 0.4421 - val_accuracy: 1.0000\n",
      "Epoch 68/500\n",
      "10/10 [==============================] - 0s 4ms/step - loss: 0.3799 - accuracy: 0.9368 - val_loss: 0.4427 - val_accuracy: 1.0000\n",
      "Epoch 69/500\n",
      "10/10 [==============================] - 0s 4ms/step - loss: 0.3780 - accuracy: 0.9474 - val_loss: 0.4445 - val_accuracy: 0.9583\n",
      "Epoch 70/500\n",
      "10/10 [==============================] - 0s 4ms/step - loss: 0.3760 - accuracy: 0.9368 - val_loss: 0.4295 - val_accuracy: 1.0000\n",
      "Epoch 71/500\n",
      "10/10 [==============================] - 0s 4ms/step - loss: 0.3720 - accuracy: 0.9474 - val_loss: 0.4380 - val_accuracy: 0.9583\n",
      "Epoch 72/500\n",
      "10/10 [==============================] - 0s 4ms/step - loss: 0.3675 - accuracy: 0.9368 - val_loss: 0.4251 - val_accuracy: 1.0000\n",
      "Epoch 73/500\n",
      "10/10 [==============================] - 0s 4ms/step - loss: 0.3642 - accuracy: 0.9474 - val_loss: 0.4196 - val_accuracy: 1.0000\n",
      "Epoch 74/500\n",
      "10/10 [==============================] - 0s 4ms/step - loss: 0.3614 - accuracy: 0.9368 - val_loss: 0.4208 - val_accuracy: 1.0000\n",
      "Epoch 75/500\n",
      "10/10 [==============================] - 0s 4ms/step - loss: 0.3584 - accuracy: 0.9368 - val_loss: 0.4090 - val_accuracy: 1.0000\n",
      "Epoch 76/500\n",
      "10/10 [==============================] - 0s 4ms/step - loss: 0.3548 - accuracy: 0.9474 - val_loss: 0.4097 - val_accuracy: 1.0000\n",
      "Epoch 77/500\n",
      "10/10 [==============================] - 0s 4ms/step - loss: 0.3517 - accuracy: 0.9474 - val_loss: 0.4083 - val_accuracy: 1.0000\n",
      "Epoch 78/500\n",
      "10/10 [==============================] - 0s 4ms/step - loss: 0.3486 - accuracy: 0.9474 - val_loss: 0.4051 - val_accuracy: 1.0000\n",
      "Epoch 79/500\n",
      "10/10 [==============================] - 0s 4ms/step - loss: 0.3460 - accuracy: 0.9579 - val_loss: 0.4109 - val_accuracy: 0.9583\n",
      "Epoch 80/500\n",
      "10/10 [==============================] - 0s 4ms/step - loss: 0.3433 - accuracy: 0.9474 - val_loss: 0.4092 - val_accuracy: 0.9583\n",
      "Epoch 81/500\n",
      "10/10 [==============================] - 0s 4ms/step - loss: 0.3406 - accuracy: 0.9263 - val_loss: 0.3894 - val_accuracy: 1.0000\n",
      "Epoch 82/500\n",
      "10/10 [==============================] - 0s 4ms/step - loss: 0.3366 - accuracy: 0.9684 - val_loss: 0.3893 - val_accuracy: 1.0000\n",
      "Epoch 83/500\n",
      "10/10 [==============================] - 0s 4ms/step - loss: 0.3336 - accuracy: 0.9474 - val_loss: 0.3935 - val_accuracy: 0.9583\n",
      "Epoch 84/500\n",
      "10/10 [==============================] - 0s 4ms/step - loss: 0.3312 - accuracy: 0.9368 - val_loss: 0.3925 - val_accuracy: 0.9583\n",
      "Epoch 85/500\n",
      "10/10 [==============================] - 0s 4ms/step - loss: 0.3296 - accuracy: 0.9474 - val_loss: 0.3764 - val_accuracy: 1.0000\n",
      "Epoch 86/500\n",
      "10/10 [==============================] - 0s 4ms/step - loss: 0.3255 - accuracy: 0.9474 - val_loss: 0.3782 - val_accuracy: 1.0000\n",
      "Epoch 87/500\n",
      "10/10 [==============================] - 0s 4ms/step - loss: 0.3222 - accuracy: 0.9474 - val_loss: 0.3778 - val_accuracy: 1.0000\n",
      "Epoch 88/500\n",
      "10/10 [==============================] - 0s 4ms/step - loss: 0.3224 - accuracy: 0.9579 - val_loss: 0.3904 - val_accuracy: 0.9583\n",
      "Epoch 89/500\n",
      "10/10 [==============================] - 0s 4ms/step - loss: 0.3180 - accuracy: 0.9474 - val_loss: 0.3808 - val_accuracy: 0.9583\n",
      "Epoch 90/500\n",
      "10/10 [==============================] - 0s 4ms/step - loss: 0.3142 - accuracy: 0.9368 - val_loss: 0.3629 - val_accuracy: 1.0000\n",
      "Epoch 91/500\n",
      "10/10 [==============================] - 0s 4ms/step - loss: 0.3150 - accuracy: 0.9579 - val_loss: 0.3481 - val_accuracy: 1.0000\n",
      "Epoch 92/500\n",
      "10/10 [==============================] - 0s 4ms/step - loss: 0.3098 - accuracy: 0.9579 - val_loss: 0.3579 - val_accuracy: 1.0000\n",
      "Epoch 93/500\n",
      "10/10 [==============================] - 0s 4ms/step - loss: 0.3067 - accuracy: 0.9579 - val_loss: 0.3524 - val_accuracy: 1.0000\n",
      "Epoch 94/500\n",
      "10/10 [==============================] - 0s 4ms/step - loss: 0.3038 - accuracy: 0.9579 - val_loss: 0.3510 - val_accuracy: 1.0000\n",
      "Epoch 95/500\n",
      "10/10 [==============================] - 0s 4ms/step - loss: 0.3017 - accuracy: 0.9474 - val_loss: 0.3475 - val_accuracy: 1.0000\n",
      "Epoch 96/500\n",
      "10/10 [==============================] - 0s 4ms/step - loss: 0.2997 - accuracy: 0.9579 - val_loss: 0.3474 - val_accuracy: 1.0000\n",
      "Epoch 97/500\n",
      "10/10 [==============================] - 0s 4ms/step - loss: 0.2967 - accuracy: 0.9579 - val_loss: 0.3469 - val_accuracy: 0.9583\n",
      "Epoch 98/500\n",
      "10/10 [==============================] - 0s 4ms/step - loss: 0.2943 - accuracy: 0.9579 - val_loss: 0.3473 - val_accuracy: 0.9583\n",
      "Epoch 99/500\n",
      "10/10 [==============================] - 0s 4ms/step - loss: 0.2928 - accuracy: 0.9579 - val_loss: 0.3337 - val_accuracy: 1.0000\n",
      "Epoch 100/500\n",
      "10/10 [==============================] - 0s 4ms/step - loss: 0.2890 - accuracy: 0.9684 - val_loss: 0.3289 - val_accuracy: 1.0000\n",
      "Epoch 101/500\n",
      "10/10 [==============================] - 0s 4ms/step - loss: 0.2872 - accuracy: 0.9579 - val_loss: 0.3302 - val_accuracy: 1.0000\n",
      "Epoch 102/500\n",
      "10/10 [==============================] - 0s 4ms/step - loss: 0.2842 - accuracy: 0.9684 - val_loss: 0.3223 - val_accuracy: 1.0000\n",
      "Epoch 103/500\n",
      "10/10 [==============================] - 0s 4ms/step - loss: 0.2822 - accuracy: 0.9684 - val_loss: 0.3188 - val_accuracy: 1.0000\n",
      "Epoch 104/500\n",
      "10/10 [==============================] - 0s 4ms/step - loss: 0.2798 - accuracy: 0.9684 - val_loss: 0.3222 - val_accuracy: 1.0000\n",
      "Epoch 105/500\n",
      "10/10 [==============================] - 0s 4ms/step - loss: 0.2781 - accuracy: 0.9789 - val_loss: 0.3159 - val_accuracy: 1.0000\n",
      "Epoch 106/500\n",
      "10/10 [==============================] - 0s 4ms/step - loss: 0.2756 - accuracy: 0.9579 - val_loss: 0.3191 - val_accuracy: 1.0000\n",
      "Epoch 107/500\n",
      "10/10 [==============================] - 0s 4ms/step - loss: 0.2744 - accuracy: 0.9684 - val_loss: 0.3103 - val_accuracy: 1.0000\n",
      "Epoch 108/500\n",
      "10/10 [==============================] - 0s 4ms/step - loss: 0.2711 - accuracy: 0.9579 - val_loss: 0.3240 - val_accuracy: 0.9583\n",
      "Epoch 109/500\n",
      "10/10 [==============================] - 0s 4ms/step - loss: 0.2692 - accuracy: 0.9684 - val_loss: 0.3132 - val_accuracy: 0.9583\n",
      "Epoch 110/500\n",
      "10/10 [==============================] - 0s 4ms/step - loss: 0.2663 - accuracy: 0.9579 - val_loss: 0.3114 - val_accuracy: 0.9583\n",
      "Epoch 111/500\n",
      "10/10 [==============================] - 0s 4ms/step - loss: 0.2645 - accuracy: 0.9579 - val_loss: 0.3061 - val_accuracy: 1.0000\n",
      "Epoch 112/500\n",
      "10/10 [==============================] - 0s 4ms/step - loss: 0.2633 - accuracy: 0.9579 - val_loss: 0.2911 - val_accuracy: 1.0000\n",
      "Epoch 113/500\n",
      "10/10 [==============================] - 0s 4ms/step - loss: 0.2598 - accuracy: 0.9789 - val_loss: 0.2994 - val_accuracy: 1.0000\n",
      "Epoch 114/500\n",
      "10/10 [==============================] - 0s 4ms/step - loss: 0.2578 - accuracy: 0.9579 - val_loss: 0.3013 - val_accuracy: 0.9583\n",
      "Epoch 115/500\n",
      "10/10 [==============================] - 0s 4ms/step - loss: 0.2557 - accuracy: 0.9579 - val_loss: 0.2961 - val_accuracy: 1.0000\n",
      "Epoch 116/500\n"
     ]
    },
    {
     "name": "stdout",
     "output_type": "stream",
     "text": [
      "10/10 [==============================] - 0s 4ms/step - loss: 0.2537 - accuracy: 0.9579 - val_loss: 0.2915 - val_accuracy: 1.0000\n",
      "Epoch 117/500\n",
      "10/10 [==============================] - 0s 4ms/step - loss: 0.2541 - accuracy: 0.9684 - val_loss: 0.2765 - val_accuracy: 1.0000\n",
      "Epoch 118/500\n",
      "10/10 [==============================] - 0s 4ms/step - loss: 0.2519 - accuracy: 0.9579 - val_loss: 0.2894 - val_accuracy: 0.9583\n",
      "Epoch 119/500\n",
      "10/10 [==============================] - 0s 4ms/step - loss: 0.2482 - accuracy: 0.9579 - val_loss: 0.2894 - val_accuracy: 0.9583\n",
      "Epoch 120/500\n",
      "10/10 [==============================] - 0s 4ms/step - loss: 0.2454 - accuracy: 0.9579 - val_loss: 0.2792 - val_accuracy: 1.0000\n",
      "Epoch 121/500\n",
      "10/10 [==============================] - 0s 5ms/step - loss: 0.2437 - accuracy: 0.9684 - val_loss: 0.2738 - val_accuracy: 1.0000\n",
      "Epoch 122/500\n",
      "10/10 [==============================] - 0s 4ms/step - loss: 0.2438 - accuracy: 0.9684 - val_loss: 0.2825 - val_accuracy: 0.9583\n",
      "Epoch 123/500\n",
      "10/10 [==============================] - 0s 4ms/step - loss: 0.2398 - accuracy: 0.9579 - val_loss: 0.2665 - val_accuracy: 1.0000\n",
      "Epoch 124/500\n",
      "10/10 [==============================] - 0s 4ms/step - loss: 0.2384 - accuracy: 0.9789 - val_loss: 0.2654 - val_accuracy: 1.0000\n",
      "Epoch 125/500\n",
      "10/10 [==============================] - 0s 4ms/step - loss: 0.2360 - accuracy: 0.9684 - val_loss: 0.2732 - val_accuracy: 0.9583\n",
      "Epoch 126/500\n",
      "10/10 [==============================] - 0s 4ms/step - loss: 0.2349 - accuracy: 0.9579 - val_loss: 0.2759 - val_accuracy: 0.9583\n",
      "Epoch 127/500\n",
      "10/10 [==============================] - 0s 4ms/step - loss: 0.2362 - accuracy: 0.9579 - val_loss: 0.2789 - val_accuracy: 0.9583\n",
      "Epoch 128/500\n",
      "10/10 [==============================] - 0s 4ms/step - loss: 0.2307 - accuracy: 0.9684 - val_loss: 0.2625 - val_accuracy: 1.0000\n",
      "Epoch 129/500\n",
      "10/10 [==============================] - 0s 4ms/step - loss: 0.2299 - accuracy: 0.9684 - val_loss: 0.2498 - val_accuracy: 1.0000\n",
      "Epoch 130/500\n",
      "10/10 [==============================] - 0s 4ms/step - loss: 0.2274 - accuracy: 0.9684 - val_loss: 0.2567 - val_accuracy: 1.0000\n",
      "Epoch 131/500\n",
      "10/10 [==============================] - 0s 4ms/step - loss: 0.2257 - accuracy: 0.9684 - val_loss: 0.2593 - val_accuracy: 0.9583\n",
      "Epoch 132/500\n",
      "10/10 [==============================] - 0s 4ms/step - loss: 0.2243 - accuracy: 0.9579 - val_loss: 0.2631 - val_accuracy: 0.9583\n",
      "Epoch 133/500\n",
      "10/10 [==============================] - 0s 4ms/step - loss: 0.2228 - accuracy: 0.9579 - val_loss: 0.2623 - val_accuracy: 0.9583\n",
      "Epoch 134/500\n",
      "10/10 [==============================] - 0s 4ms/step - loss: 0.2226 - accuracy: 0.9579 - val_loss: 0.2630 - val_accuracy: 0.9583\n",
      "Epoch 135/500\n",
      "10/10 [==============================] - 0s 4ms/step - loss: 0.2173 - accuracy: 0.9789 - val_loss: 0.2393 - val_accuracy: 1.0000\n",
      "Epoch 136/500\n",
      "10/10 [==============================] - 0s 4ms/step - loss: 0.2178 - accuracy: 0.9789 - val_loss: 0.2338 - val_accuracy: 1.0000\n",
      "Epoch 137/500\n",
      "10/10 [==============================] - 0s 4ms/step - loss: 0.2166 - accuracy: 0.9789 - val_loss: 0.2357 - val_accuracy: 1.0000\n",
      "Epoch 138/500\n",
      "10/10 [==============================] - 0s 4ms/step - loss: 0.2154 - accuracy: 0.9684 - val_loss: 0.2381 - val_accuracy: 1.0000\n",
      "Epoch 139/500\n",
      "10/10 [==============================] - 0s 4ms/step - loss: 0.2165 - accuracy: 0.9684 - val_loss: 0.2580 - val_accuracy: 0.9583\n",
      "Epoch 140/500\n",
      "10/10 [==============================] - 0s 4ms/step - loss: 0.2109 - accuracy: 0.9579 - val_loss: 0.2401 - val_accuracy: 1.0000\n",
      "Epoch 141/500\n",
      "10/10 [==============================] - 0s 4ms/step - loss: 0.2096 - accuracy: 0.9684 - val_loss: 0.2287 - val_accuracy: 1.0000\n",
      "Epoch 142/500\n",
      "10/10 [==============================] - 0s 4ms/step - loss: 0.2099 - accuracy: 0.9684 - val_loss: 0.2231 - val_accuracy: 1.0000\n",
      "Epoch 143/500\n",
      "10/10 [==============================] - 0s 4ms/step - loss: 0.2078 - accuracy: 0.9684 - val_loss: 0.2358 - val_accuracy: 0.9583\n",
      "Epoch 144/500\n",
      "10/10 [==============================] - 0s 4ms/step - loss: 0.2060 - accuracy: 0.9684 - val_loss: 0.2407 - val_accuracy: 0.9583\n",
      "Epoch 145/500\n",
      "10/10 [==============================] - 0s 4ms/step - loss: 0.2047 - accuracy: 0.9684 - val_loss: 0.2360 - val_accuracy: 0.9583\n",
      "Epoch 146/500\n",
      "10/10 [==============================] - 0s 4ms/step - loss: 0.2036 - accuracy: 0.9684 - val_loss: 0.2249 - val_accuracy: 1.0000\n",
      "Epoch 147/500\n",
      "10/10 [==============================] - 0s 4ms/step - loss: 0.2025 - accuracy: 0.9579 - val_loss: 0.2338 - val_accuracy: 0.9583\n",
      "Epoch 148/500\n",
      "10/10 [==============================] - 0s 4ms/step - loss: 0.2007 - accuracy: 0.9684 - val_loss: 0.2164 - val_accuracy: 1.0000\n",
      "Epoch 149/500\n",
      "10/10 [==============================] - 0s 4ms/step - loss: 0.1995 - accuracy: 0.9789 - val_loss: 0.2181 - val_accuracy: 1.0000\n",
      "Epoch 150/500\n",
      "10/10 [==============================] - 0s 4ms/step - loss: 0.1973 - accuracy: 0.9684 - val_loss: 0.2261 - val_accuracy: 0.9583\n",
      "Epoch 151/500\n",
      "10/10 [==============================] - 0s 4ms/step - loss: 0.1972 - accuracy: 0.9684 - val_loss: 0.2168 - val_accuracy: 1.0000\n",
      "Epoch 152/500\n",
      "10/10 [==============================] - 0s 4ms/step - loss: 0.1944 - accuracy: 0.9579 - val_loss: 0.2245 - val_accuracy: 0.9583\n",
      "Epoch 153/500\n",
      "10/10 [==============================] - 0s 4ms/step - loss: 0.1936 - accuracy: 0.9684 - val_loss: 0.2217 - val_accuracy: 0.9583\n",
      "Epoch 154/500\n",
      "10/10 [==============================] - 0s 5ms/step - loss: 0.1945 - accuracy: 0.9579 - val_loss: 0.2073 - val_accuracy: 1.0000\n",
      "Epoch 155/500\n",
      "10/10 [==============================] - 0s 5ms/step - loss: 0.1920 - accuracy: 0.9579 - val_loss: 0.2282 - val_accuracy: 0.9583\n",
      "Epoch 156/500\n",
      "10/10 [==============================] - 0s 5ms/step - loss: 0.1904 - accuracy: 0.9579 - val_loss: 0.2193 - val_accuracy: 0.9583\n",
      "Epoch 157/500\n",
      "10/10 [==============================] - 0s 5ms/step - loss: 0.1895 - accuracy: 0.9579 - val_loss: 0.2187 - val_accuracy: 0.9583\n",
      "Epoch 158/500\n",
      "10/10 [==============================] - 0s 5ms/step - loss: 0.1885 - accuracy: 0.9579 - val_loss: 0.1984 - val_accuracy: 1.0000\n",
      "Epoch 159/500\n",
      "10/10 [==============================] - 0s 4ms/step - loss: 0.1874 - accuracy: 0.9684 - val_loss: 0.2016 - val_accuracy: 1.0000\n",
      "Epoch 160/500\n",
      "10/10 [==============================] - 0s 4ms/step - loss: 0.1854 - accuracy: 0.9684 - val_loss: 0.2051 - val_accuracy: 1.0000\n",
      "Epoch 161/500\n",
      "10/10 [==============================] - 0s 4ms/step - loss: 0.1841 - accuracy: 0.9684 - val_loss: 0.1966 - val_accuracy: 1.0000\n",
      "Epoch 162/500\n",
      "10/10 [==============================] - 0s 4ms/step - loss: 0.1829 - accuracy: 0.9684 - val_loss: 0.2003 - val_accuracy: 1.0000\n",
      "Epoch 163/500\n",
      "10/10 [==============================] - 0s 4ms/step - loss: 0.1817 - accuracy: 0.9684 - val_loss: 0.2066 - val_accuracy: 0.9583\n",
      "Epoch 164/500\n",
      "10/10 [==============================] - 0s 4ms/step - loss: 0.1807 - accuracy: 0.9579 - val_loss: 0.2019 - val_accuracy: 0.9583\n",
      "Epoch 165/500\n",
      "10/10 [==============================] - 0s 4ms/step - loss: 0.1796 - accuracy: 0.9684 - val_loss: 0.2036 - val_accuracy: 0.9583\n",
      "Epoch 166/500\n",
      "10/10 [==============================] - 0s 4ms/step - loss: 0.1786 - accuracy: 0.9684 - val_loss: 0.2030 - val_accuracy: 0.9583\n",
      "Epoch 167/500\n",
      "10/10 [==============================] - 0s 4ms/step - loss: 0.1783 - accuracy: 0.9579 - val_loss: 0.1986 - val_accuracy: 0.9583\n",
      "Epoch 168/500\n",
      "10/10 [==============================] - 0s 4ms/step - loss: 0.1760 - accuracy: 0.9684 - val_loss: 0.1986 - val_accuracy: 0.9583\n",
      "Epoch 169/500\n",
      "10/10 [==============================] - 0s 4ms/step - loss: 0.1751 - accuracy: 0.9684 - val_loss: 0.1957 - val_accuracy: 0.9583\n",
      "Epoch 170/500\n",
      "10/10 [==============================] - 0s 4ms/step - loss: 0.1738 - accuracy: 0.9684 - val_loss: 0.1983 - val_accuracy: 0.9583\n",
      "Epoch 171/500\n",
      "10/10 [==============================] - 0s 4ms/step - loss: 0.1740 - accuracy: 0.9684 - val_loss: 0.1998 - val_accuracy: 0.9583\n",
      "Epoch 172/500\n",
      "10/10 [==============================] - 0s 4ms/step - loss: 0.1723 - accuracy: 0.9684 - val_loss: 0.1934 - val_accuracy: 0.9583\n",
      "Epoch 173/500\n"
     ]
    },
    {
     "name": "stdout",
     "output_type": "stream",
     "text": [
      "10/10 [==============================] - 0s 4ms/step - loss: 0.1714 - accuracy: 0.9684 - val_loss: 0.1852 - val_accuracy: 1.0000\n",
      "Epoch 174/500\n",
      "10/10 [==============================] - 0s 4ms/step - loss: 0.1706 - accuracy: 0.9684 - val_loss: 0.1823 - val_accuracy: 1.0000\n",
      "Epoch 175/500\n",
      "10/10 [==============================] - 0s 4ms/step - loss: 0.1702 - accuracy: 0.9579 - val_loss: 0.1975 - val_accuracy: 0.9583\n",
      "Epoch 176/500\n",
      "10/10 [==============================] - 0s 4ms/step - loss: 0.1682 - accuracy: 0.9684 - val_loss: 0.1888 - val_accuracy: 0.9583\n",
      "Epoch 177/500\n",
      "10/10 [==============================] - 0s 4ms/step - loss: 0.1675 - accuracy: 0.9684 - val_loss: 0.1730 - val_accuracy: 1.0000\n",
      "Epoch 178/500\n",
      "10/10 [==============================] - 0s 4ms/step - loss: 0.1687 - accuracy: 0.9684 - val_loss: 0.1685 - val_accuracy: 1.0000\n",
      "Epoch 179/500\n",
      "10/10 [==============================] - 0s 4ms/step - loss: 0.1653 - accuracy: 0.9684 - val_loss: 0.1759 - val_accuracy: 1.0000\n",
      "Epoch 180/500\n",
      "10/10 [==============================] - 0s 4ms/step - loss: 0.1642 - accuracy: 0.9684 - val_loss: 0.1913 - val_accuracy: 0.9583\n",
      "Epoch 181/500\n",
      "10/10 [==============================] - 0s 4ms/step - loss: 0.1644 - accuracy: 0.9684 - val_loss: 0.1860 - val_accuracy: 0.9583\n",
      "Epoch 182/500\n",
      "10/10 [==============================] - 0s 4ms/step - loss: 0.1627 - accuracy: 0.9684 - val_loss: 0.1807 - val_accuracy: 0.9583\n",
      "Epoch 183/500\n",
      "10/10 [==============================] - 0s 4ms/step - loss: 0.1616 - accuracy: 0.9684 - val_loss: 0.1727 - val_accuracy: 1.0000\n",
      "Epoch 184/500\n",
      "10/10 [==============================] - 0s 4ms/step - loss: 0.1612 - accuracy: 0.9684 - val_loss: 0.1717 - val_accuracy: 1.0000\n",
      "Epoch 185/500\n",
      "10/10 [==============================] - 0s 4ms/step - loss: 0.1603 - accuracy: 0.9684 - val_loss: 0.1638 - val_accuracy: 1.0000\n",
      "Epoch 186/500\n",
      "10/10 [==============================] - 0s 4ms/step - loss: 0.1595 - accuracy: 0.9684 - val_loss: 0.1728 - val_accuracy: 0.9583\n",
      "Epoch 187/500\n",
      "10/10 [==============================] - 0s 4ms/step - loss: 0.1580 - accuracy: 0.9684 - val_loss: 0.1704 - val_accuracy: 1.0000\n",
      "Epoch 188/500\n",
      "10/10 [==============================] - 0s 4ms/step - loss: 0.1571 - accuracy: 0.9684 - val_loss: 0.1678 - val_accuracy: 1.0000\n",
      "Epoch 189/500\n",
      "10/10 [==============================] - 0s 4ms/step - loss: 0.1587 - accuracy: 0.9684 - val_loss: 0.1592 - val_accuracy: 1.0000\n",
      "Epoch 190/500\n",
      "10/10 [==============================] - 0s 4ms/step - loss: 0.1552 - accuracy: 0.9684 - val_loss: 0.1679 - val_accuracy: 1.0000\n",
      "Epoch 191/500\n",
      "10/10 [==============================] - 0s 4ms/step - loss: 0.1548 - accuracy: 0.9684 - val_loss: 0.1758 - val_accuracy: 0.9583\n",
      "Epoch 192/500\n",
      "10/10 [==============================] - 0s 4ms/step - loss: 0.1555 - accuracy: 0.9789 - val_loss: 0.1674 - val_accuracy: 0.9583\n",
      "Epoch 193/500\n",
      "10/10 [==============================] - 0s 4ms/step - loss: 0.1540 - accuracy: 0.9684 - val_loss: 0.1644 - val_accuracy: 1.0000\n",
      "Epoch 194/500\n",
      "10/10 [==============================] - 0s 4ms/step - loss: 0.1595 - accuracy: 0.9579 - val_loss: 0.1801 - val_accuracy: 0.9583\n",
      "Epoch 195/500\n",
      "10/10 [==============================] - 0s 4ms/step - loss: 0.1520 - accuracy: 0.9579 - val_loss: 0.1542 - val_accuracy: 1.0000\n",
      "Epoch 196/500\n",
      "10/10 [==============================] - 0s 4ms/step - loss: 0.1532 - accuracy: 0.9684 - val_loss: 0.1596 - val_accuracy: 1.0000\n",
      "Epoch 197/500\n",
      "10/10 [==============================] - 0s 4ms/step - loss: 0.1503 - accuracy: 0.9684 - val_loss: 0.1551 - val_accuracy: 1.0000\n",
      "Epoch 198/500\n",
      "10/10 [==============================] - 0s 4ms/step - loss: 0.1496 - accuracy: 0.9684 - val_loss: 0.1546 - val_accuracy: 1.0000\n",
      "Epoch 199/500\n",
      "10/10 [==============================] - 0s 4ms/step - loss: 0.1493 - accuracy: 0.9684 - val_loss: 0.1611 - val_accuracy: 0.9583\n",
      "Epoch 200/500\n",
      "10/10 [==============================] - 0s 4ms/step - loss: 0.1481 - accuracy: 0.9684 - val_loss: 0.1559 - val_accuracy: 1.0000\n",
      "Epoch 201/500\n",
      "10/10 [==============================] - 0s 4ms/step - loss: 0.1475 - accuracy: 0.9684 - val_loss: 0.1554 - val_accuracy: 1.0000\n",
      "Epoch 202/500\n",
      "10/10 [==============================] - 0s 4ms/step - loss: 0.1470 - accuracy: 0.9684 - val_loss: 0.1530 - val_accuracy: 1.0000\n",
      "Epoch 203/500\n",
      "10/10 [==============================] - 0s 4ms/step - loss: 0.1461 - accuracy: 0.9684 - val_loss: 0.1674 - val_accuracy: 0.9583\n",
      "Epoch 204/500\n",
      "10/10 [==============================] - 0s 4ms/step - loss: 0.1456 - accuracy: 0.9684 - val_loss: 0.1598 - val_accuracy: 0.9583\n",
      "Epoch 205/500\n",
      "10/10 [==============================] - 0s 4ms/step - loss: 0.1444 - accuracy: 0.9789 - val_loss: 0.1542 - val_accuracy: 0.9583\n",
      "Epoch 206/500\n",
      "10/10 [==============================] - 0s 4ms/step - loss: 0.1443 - accuracy: 0.9684 - val_loss: 0.1535 - val_accuracy: 0.9583\n",
      "Epoch 207/500\n",
      "10/10 [==============================] - 0s 4ms/step - loss: 0.1436 - accuracy: 0.9684 - val_loss: 0.1481 - val_accuracy: 1.0000\n",
      "Epoch 208/500\n",
      "10/10 [==============================] - 0s 4ms/step - loss: 0.1435 - accuracy: 0.9684 - val_loss: 0.1513 - val_accuracy: 0.9583\n",
      "Epoch 209/500\n",
      "10/10 [==============================] - 0s 4ms/step - loss: 0.1430 - accuracy: 0.9579 - val_loss: 0.1599 - val_accuracy: 0.9583\n",
      "Epoch 210/500\n",
      "10/10 [==============================] - 0s 5ms/step - loss: 0.1428 - accuracy: 0.9684 - val_loss: 0.1419 - val_accuracy: 1.0000\n",
      "Epoch 211/500\n",
      "10/10 [==============================] - 0s 4ms/step - loss: 0.1429 - accuracy: 0.9684 - val_loss: 0.1537 - val_accuracy: 0.9583\n",
      "Epoch 212/500\n",
      "10/10 [==============================] - 0s 4ms/step - loss: 0.1401 - accuracy: 0.9789 - val_loss: 0.1527 - val_accuracy: 0.9583\n",
      "Epoch 213/500\n",
      "10/10 [==============================] - 0s 4ms/step - loss: 0.1403 - accuracy: 0.9789 - val_loss: 0.1426 - val_accuracy: 1.0000\n",
      "Epoch 214/500\n",
      "10/10 [==============================] - 0s 4ms/step - loss: 0.1394 - accuracy: 0.9684 - val_loss: 0.1463 - val_accuracy: 0.9583\n",
      "Epoch 215/500\n",
      "10/10 [==============================] - 0s 4ms/step - loss: 0.1381 - accuracy: 0.9789 - val_loss: 0.1452 - val_accuracy: 0.9583\n",
      "Epoch 216/500\n",
      "10/10 [==============================] - 0s 4ms/step - loss: 0.1376 - accuracy: 0.9789 - val_loss: 0.1491 - val_accuracy: 0.9583\n",
      "Epoch 217/500\n",
      "10/10 [==============================] - 0s 4ms/step - loss: 0.1368 - accuracy: 0.9789 - val_loss: 0.1467 - val_accuracy: 0.9583\n",
      "Epoch 218/500\n",
      "10/10 [==============================] - 0s 4ms/step - loss: 0.1362 - accuracy: 0.9789 - val_loss: 0.1425 - val_accuracy: 0.9583\n",
      "Epoch 219/500\n",
      "10/10 [==============================] - 0s 4ms/step - loss: 0.1369 - accuracy: 0.9684 - val_loss: 0.1428 - val_accuracy: 0.9583\n",
      "Epoch 220/500\n",
      "10/10 [==============================] - 0s 4ms/step - loss: 0.1353 - accuracy: 0.9684 - val_loss: 0.1379 - val_accuracy: 1.0000\n",
      "Epoch 221/500\n",
      "10/10 [==============================] - 0s 4ms/step - loss: 0.1345 - accuracy: 0.9684 - val_loss: 0.1333 - val_accuracy: 1.0000\n",
      "Epoch 222/500\n",
      "10/10 [==============================] - 0s 4ms/step - loss: 0.1341 - accuracy: 0.9684 - val_loss: 0.1337 - val_accuracy: 1.0000\n",
      "Epoch 223/500\n",
      "10/10 [==============================] - 0s 4ms/step - loss: 0.1339 - accuracy: 0.9684 - val_loss: 0.1372 - val_accuracy: 1.0000\n",
      "Epoch 224/500\n",
      "10/10 [==============================] - 0s 5ms/step - loss: 0.1336 - accuracy: 0.9684 - val_loss: 0.1369 - val_accuracy: 1.0000\n",
      "Epoch 225/500\n",
      "10/10 [==============================] - 0s 5ms/step - loss: 0.1331 - accuracy: 0.9789 - val_loss: 0.1395 - val_accuracy: 0.9583\n",
      "Epoch 226/500\n",
      "10/10 [==============================] - 0s 5ms/step - loss: 0.1330 - accuracy: 0.9684 - val_loss: 0.1268 - val_accuracy: 1.0000\n",
      "Epoch 227/500\n",
      "10/10 [==============================] - 0s 5ms/step - loss: 0.1343 - accuracy: 0.9789 - val_loss: 0.1394 - val_accuracy: 0.9583\n",
      "Epoch 228/500\n",
      "10/10 [==============================] - 0s 4ms/step - loss: 0.1307 - accuracy: 0.9684 - val_loss: 0.1320 - val_accuracy: 1.0000\n",
      "Epoch 229/500\n",
      "10/10 [==============================] - 0s 4ms/step - loss: 0.1317 - accuracy: 0.9684 - val_loss: 0.1365 - val_accuracy: 0.9583\n",
      "Epoch 230/500\n"
     ]
    },
    {
     "name": "stdout",
     "output_type": "stream",
     "text": [
      "10/10 [==============================] - 0s 4ms/step - loss: 0.1298 - accuracy: 0.9684 - val_loss: 0.1284 - val_accuracy: 1.0000\n",
      "Epoch 231/500\n",
      "10/10 [==============================] - 0s 4ms/step - loss: 0.1293 - accuracy: 0.9684 - val_loss: 0.1202 - val_accuracy: 1.0000\n",
      "Epoch 232/500\n",
      "10/10 [==============================] - 0s 4ms/step - loss: 0.1296 - accuracy: 0.9684 - val_loss: 0.1193 - val_accuracy: 1.0000\n",
      "Epoch 233/500\n",
      "10/10 [==============================] - 0s 4ms/step - loss: 0.1283 - accuracy: 0.9684 - val_loss: 0.1283 - val_accuracy: 1.0000\n",
      "Epoch 234/500\n",
      "10/10 [==============================] - 0s 4ms/step - loss: 0.1272 - accuracy: 0.9789 - val_loss: 0.1375 - val_accuracy: 0.9583\n",
      "Epoch 235/500\n",
      "10/10 [==============================] - 0s 4ms/step - loss: 0.1284 - accuracy: 0.9789 - val_loss: 0.1412 - val_accuracy: 0.9583\n",
      "Epoch 236/500\n",
      "10/10 [==============================] - 0s 4ms/step - loss: 0.1278 - accuracy: 0.9789 - val_loss: 0.1298 - val_accuracy: 0.9583\n",
      "Epoch 237/500\n",
      "10/10 [==============================] - 0s 4ms/step - loss: 0.1265 - accuracy: 0.9684 - val_loss: 0.1299 - val_accuracy: 0.9583\n",
      "Epoch 238/500\n",
      "10/10 [==============================] - 0s 4ms/step - loss: 0.1256 - accuracy: 0.9789 - val_loss: 0.1337 - val_accuracy: 0.9583\n",
      "Epoch 239/500\n",
      "10/10 [==============================] - 0s 4ms/step - loss: 0.1257 - accuracy: 0.9789 - val_loss: 0.1352 - val_accuracy: 0.9583\n",
      "Epoch 240/500\n",
      "10/10 [==============================] - 0s 4ms/step - loss: 0.1253 - accuracy: 0.9789 - val_loss: 0.1299 - val_accuracy: 0.9583\n",
      "Epoch 241/500\n",
      "10/10 [==============================] - 0s 4ms/step - loss: 0.1250 - accuracy: 0.9789 - val_loss: 0.1332 - val_accuracy: 0.9583\n",
      "Epoch 242/500\n",
      "10/10 [==============================] - 0s 5ms/step - loss: 0.1248 - accuracy: 0.9789 - val_loss: 0.1337 - val_accuracy: 0.9583\n"
     ]
    }
   ],
   "source": [
    "history = model.fit(x_train, y_train, callbacks=[es],epochs=500, batch_size = 10, shuffle=True, validation_split=0.2)"
   ]
  },
  {
   "cell_type": "markdown",
   "id": "03e0fbe4",
   "metadata": {},
   "source": [
    "#### Evaluating the model"
   ]
  },
  {
   "cell_type": "code",
   "execution_count": 22,
   "id": "698fa246",
   "metadata": {},
   "outputs": [],
   "source": [
    "history_dict = history.history"
   ]
  },
  {
   "cell_type": "markdown",
   "id": "fa14769b",
   "metadata": {},
   "source": [
    "#### 1. Learning curve"
   ]
  },
  {
   "cell_type": "code",
   "execution_count": 23,
   "id": "4d45a131",
   "metadata": {},
   "outputs": [],
   "source": [
    "acc = history_dict['accuracy']\n",
    "val_acc = history_dict['val_accuracy']"
   ]
  },
  {
   "cell_type": "markdown",
   "id": "3f82e9c3",
   "metadata": {},
   "source": [
    "#### 2. Loss"
   ]
  },
  {
   "cell_type": "code",
   "execution_count": 24,
   "id": "09448ad2",
   "metadata": {},
   "outputs": [],
   "source": [
    "loss = history_dict['loss']\n",
    "val_loss = history_dict['val_loss']"
   ]
  },
  {
   "cell_type": "markdown",
   "id": "70d59652",
   "metadata": {},
   "source": [
    "#### 3. Range of x or number of epochs in the graph"
   ]
  },
  {
   "cell_type": "code",
   "execution_count": 25,
   "id": "812ef9e7",
   "metadata": {},
   "outputs": [],
   "source": [
    "epochs = range(1, len(acc)+1)"
   ]
  },
  {
   "cell_type": "markdown",
   "id": "7bbbb0ca",
   "metadata": {},
   "source": [
    "#### 4. Plot"
   ]
  },
  {
   "cell_type": "code",
   "execution_count": 26,
   "id": "39c6e3a1",
   "metadata": {},
   "outputs": [
    {
     "data": {
      "image/png": "[encoded data removed]",
      "text/plain": [
       "<Figure size 640x480 with 1 Axes>"
      ]
     },
     "metadata": {},
     "output_type": "display_data"
    }
   ],
   "source": [
    "plt.plot(epochs, acc, 'r', label = \"Training Accuracy\")\n",
    "plt.plot(epochs, val_acc, 'b', label = \"Validation Accuracy\")\n",
    "plt.title(\"Training and Validation accuracies\")\n",
    "plt.xlabel('Epochs')\n",
    "plt.ylabel('Accuracy')\n",
    "plt.legend()\n",
    "plt.show()"
   ]
  },
  {
   "cell_type": "code",
   "execution_count": 27,
   "id": "b8aeda29",
   "metadata": {
    "scrolled": true
   },
   "outputs": [
    {
     "name": "stdout",
     "output_type": "stream",
     "text": [
      "5/5 [==============================] - 0s 999us/step\n"
     ]
    }
   ],
   "source": [
    "pred = model.predict(x)"
   ]
  },
  {
   "cell_type": "code",
   "execution_count": 28,
   "id": "aeb8e009",
   "metadata": {},
   "outputs": [],
   "source": [
    "np.set_printoptions(suppress=True)"
   ]
  },
  {
   "cell_type": "markdown",
   "id": "46fa3987",
   "metadata": {},
   "source": [
    "##### spreading that prediction across three nodes and they sum to 1"
   ]
  },
  {
   "cell_type": "code",
   "execution_count": 29,
   "id": "ee09d4bc",
   "metadata": {},
   "outputs": [
    {
     "data": {
      "text/plain": [
       "array([0.9945956 , 0.00540441, 0.00000002], dtype=float32)"
      ]
     },
     "execution_count": 29,
     "metadata": {},
     "output_type": "execute_result"
    }
   ],
   "source": [
    "(pred[0])"
   ]
  },
  {
   "cell_type": "code",
   "execution_count": 30,
   "id": "9d199d51",
   "metadata": {},
   "outputs": [
    {
     "data": {
      "text/plain": [
       "array([1., 0., 0.], dtype=float32)"
      ]
     },
     "execution_count": 30,
     "metadata": {},
     "output_type": "execute_result"
    }
   ],
   "source": [
    "dummy_y[0]"
   ]
  },
  {
   "cell_type": "markdown",
   "id": "06172433",
   "metadata": {},
   "source": [
    "##### Sum should be 1"
   ]
  },
  {
   "cell_type": "code",
   "execution_count": 31,
   "id": "941122c3",
   "metadata": {},
   "outputs": [
    {
     "data": {
      "text/plain": [
       "1.0"
      ]
     },
     "execution_count": 31,
     "metadata": {},
     "output_type": "execute_result"
    }
   ],
   "source": [
    "np.sum(pred[0])"
   ]
  },
  {
   "cell_type": "markdown",
   "id": "e52e5066",
   "metadata": {},
   "source": [
    "##### Almost perfect prediction"
   ]
  },
  {
   "cell_type": "markdown",
   "id": "e989e02f",
   "metadata": {},
   "source": [
    "#### Confusion matrix"
   ]
  },
  {
   "cell_type": "code",
   "execution_count": 32,
   "id": "64410013",
   "metadata": {},
   "outputs": [],
   "source": [
    "matrix = confusion_matrix(dummy_y.argmax(axis = 1), pred.argmax(axis = 1))"
   ]
  },
  {
   "cell_type": "code",
   "execution_count": 33,
   "id": "a285704f",
   "metadata": {},
   "outputs": [
    {
     "data": {
      "text/plain": [
       "array([[50,  0,  0],\n",
       "       [ 0, 48,  2],\n",
       "       [ 0,  1, 48]], dtype=int64)"
      ]
     },
     "execution_count": 33,
     "metadata": {},
     "output_type": "execute_result"
    }
   ],
   "source": [
    "matrix"
   ]
  },
  {
   "cell_type": "code",
   "execution_count": 34,
   "id": "84768dc6",
   "metadata": {},
   "outputs": [
    {
     "name": "stdout",
     "output_type": "stream",
     "text": [
      "              precision    recall  f1-score   support\n",
      "\n",
      "           0       1.00      1.00      1.00        50\n",
      "           1       0.98      0.96      0.97        50\n",
      "           2       0.96      0.98      0.97        49\n",
      "\n",
      "    accuracy                           0.98       149\n",
      "   macro avg       0.98      0.98      0.98       149\n",
      "weighted avg       0.98      0.98      0.98       149\n",
      "\n"
     ]
    }
   ],
   "source": [
    "print(classification_report(dummy_y.argmax(axis = 1), pred.argmax(axis = 1)))"
   ]
  }
 ],
 "metadata": {
  "kernelspec": {
   "display_name": "Python 3 (ipykernel)",
   "language": "python",
   "name": "python3"
  },
  "language_info": {
   "codemirror_mode": {
    "name": "ipython",
    "version": 3
   },
   "file_extension": ".py",
   "mimetype": "text/x-python",
   "name": "python",
   "nbconvert_exporter": "python",
   "pygments_lexer": "ipython3",
   "version": "3.9.13"
  }
 },
 "nbformat": 4,
 "nbformat_minor": 5
}
