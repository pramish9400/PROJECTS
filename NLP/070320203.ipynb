{
 "cells": [
  {
   "cell_type": "markdown",
   "id": "97aa3b8f",
   "metadata": {},
   "source": [
    "### 04 Pattern objects"
   ]
  },
  {
   "cell_type": "code",
   "execution_count": 1,
   "id": "d63f5da3",
   "metadata": {},
   "outputs": [],
   "source": [
    "import regex as re"
   ]
  },
  {
   "cell_type": "code",
   "execution_count": 2,
   "id": "8d1423ed",
   "metadata": {},
   "outputs": [],
   "source": [
    "p = re.compile('a\\d*b', re.IGNORECASE)"
   ]
  },
  {
   "cell_type": "code",
   "execution_count": 3,
   "id": "f582083a",
   "metadata": {},
   "outputs": [
    {
     "data": {
      "text/plain": [
       "['a25464321545465B', 'Ab']"
      ]
     },
     "execution_count": 3,
     "metadata": {},
     "output_type": "execute_result"
    }
   ],
   "source": [
    "p.findall('a25464321545465B22sdfAb')"
   ]
  },
  {
   "cell_type": "code",
   "execution_count": 4,
   "id": "631873af",
   "metadata": {},
   "outputs": [],
   "source": [
    "doc = '     \\t    \\t   \\t   how are you today.. aieljihh;l2kyh;1'"
   ]
  },
  {
   "cell_type": "code",
   "execution_count": 5,
   "id": "10f6f109",
   "metadata": {},
   "outputs": [],
   "source": [
    "p = re.compile('\\s*')"
   ]
  },
  {
   "cell_type": "code",
   "execution_count": 6,
   "id": "d8844bf5",
   "metadata": {},
   "outputs": [],
   "source": [
    "m = p.match(doc)"
   ]
  },
  {
   "cell_type": "code",
   "execution_count": 7,
   "id": "70c99f20",
   "metadata": {},
   "outputs": [
    {
     "data": {
      "text/plain": [
       "(0, 18)"
      ]
     },
     "execution_count": 7,
     "metadata": {},
     "output_type": "execute_result"
    }
   ],
   "source": [
    "m.span()"
   ]
  },
  {
   "cell_type": "code",
   "execution_count": 8,
   "id": "7370210f",
   "metadata": {},
   "outputs": [
    {
     "name": "stdout",
     "output_type": "stream",
     "text": [
      "how are you today.. aieljihh;l2kyh;1\n"
     ]
    }
   ],
   "source": [
    "print(doc[m.end():])"
   ]
  },
  {
   "cell_type": "code",
   "execution_count": 9,
   "id": "ca124116",
   "metadata": {},
   "outputs": [],
   "source": [
    "doc = 'ab     \\t    \\t   \\t   how are you today.. aieljihh;l2kyh;1'"
   ]
  },
  {
   "cell_type": "code",
   "execution_count": 10,
   "id": "93b0aab4",
   "metadata": {},
   "outputs": [],
   "source": [
    "p = re.compile('\\s+')"
   ]
  },
  {
   "cell_type": "code",
   "execution_count": 11,
   "id": "012eae9d",
   "metadata": {},
   "outputs": [],
   "source": [
    "m = p.search(doc)"
   ]
  },
  {
   "cell_type": "code",
   "execution_count": 12,
   "id": "d1504717",
   "metadata": {},
   "outputs": [
    {
     "data": {
      "text/plain": [
       "(2, 20)"
      ]
     },
     "execution_count": 12,
     "metadata": {},
     "output_type": "execute_result"
    }
   ],
   "source": [
    "m.span()"
   ]
  },
  {
   "cell_type": "code",
   "execution_count": 13,
   "id": "8ff2518c",
   "metadata": {},
   "outputs": [
    {
     "data": {
      "text/plain": [
       "2"
      ]
     },
     "execution_count": 13,
     "metadata": {},
     "output_type": "execute_result"
    }
   ],
   "source": [
    "m.start()"
   ]
  },
  {
   "cell_type": "code",
   "execution_count": 14,
   "id": "8e23459e",
   "metadata": {},
   "outputs": [
    {
     "data": {
      "text/plain": [
       "20"
      ]
     },
     "execution_count": 14,
     "metadata": {},
     "output_type": "execute_result"
    }
   ],
   "source": [
    "m.end()"
   ]
  },
  {
   "cell_type": "code",
   "execution_count": 15,
   "id": "e15d7bf5",
   "metadata": {},
   "outputs": [
    {
     "data": {
      "text/plain": [
       "'how are you today.. aieljihh;l2kyh;1'"
      ]
     },
     "execution_count": 15,
     "metadata": {},
     "output_type": "execute_result"
    }
   ],
   "source": [
    "doc[m.end():]"
   ]
  },
  {
   "cell_type": "code",
   "execution_count": 16,
   "id": "d0e1fef1",
   "metadata": {},
   "outputs": [
    {
     "data": {
      "text/plain": [
       "'h'"
      ]
     },
     "execution_count": 16,
     "metadata": {},
     "output_type": "execute_result"
    }
   ],
   "source": [
    "doc[m.end()]"
   ]
  },
  {
   "cell_type": "code",
   "execution_count": 17,
   "id": "6730bc91",
   "metadata": {},
   "outputs": [
    {
     "data": {
      "text/plain": [
       "'     \\t    \\t   \\t   '"
      ]
     },
     "execution_count": 17,
     "metadata": {},
     "output_type": "execute_result"
    }
   ],
   "source": [
    "m.group()"
   ]
  },
  {
   "cell_type": "code",
   "execution_count": 18,
   "id": "5c256378",
   "metadata": {},
   "outputs": [
    {
     "data": {
      "text/plain": [
       "18"
      ]
     },
     "execution_count": 18,
     "metadata": {},
     "output_type": "execute_result"
    }
   ],
   "source": [
    "len(m.group())"
   ]
  },
  {
   "cell_type": "code",
   "execution_count": 19,
   "id": "ec119405",
   "metadata": {},
   "outputs": [],
   "source": [
    "doc = ('dasda;qerw654a4ea21sf;asdSadad;esr2342we32;asaFFsda;2323;sfsdsgsgdsg@@@Ee3e')"
   ]
  },
  {
   "cell_type": "code",
   "execution_count": 20,
   "id": "ef287c3c",
   "metadata": {},
   "outputs": [],
   "source": [
    "regExp = '[a-zAZ_]\\w*'"
   ]
  },
  {
   "cell_type": "code",
   "execution_count": 21,
   "id": "53535cf6",
   "metadata": {},
   "outputs": [],
   "source": [
    "p = re.compile(regExp, re.IGNORECASE)"
   ]
  },
  {
   "cell_type": "code",
   "execution_count": 22,
   "id": "c3970bff",
   "metadata": {},
   "outputs": [
    {
     "name": "stdout",
     "output_type": "stream",
     "text": [
      "(0, 5) dasda\n",
      "(6, 21) qerw654a4ea21sf\n",
      "(22, 30) asdSadad\n",
      "(31, 42) esr2342we32\n",
      "(43, 51) asaFFsda\n",
      "(57, 68) sfsdsgsgdsg\n",
      "(71, 75) Ee3e\n"
     ]
    }
   ],
   "source": [
    "iterator = p.finditer(doc)\n",
    "for m in iterator:\n",
    "    print(m.span(), m.group())"
   ]
  },
  {
   "cell_type": "markdown",
   "id": "11648ca7",
   "metadata": {},
   "source": [
    "### 05 Meta characters"
   ]
  },
  {
   "cell_type": "markdown",
   "id": "b82c5284",
   "metadata": {},
   "source": [
    "#### Logical or"
   ]
  },
  {
   "cell_type": "code",
   "execution_count": 23,
   "id": "86d813e6",
   "metadata": {},
   "outputs": [],
   "source": [
    "doc = r'\\n for new [line,] \\section and \\document and \\\\\\section \\n'"
   ]
  },
  {
   "cell_type": "code",
   "execution_count": 24,
   "id": "337ccc6c",
   "metadata": {},
   "outputs": [],
   "source": [
    "regExp_brackets = '[\\[\\]]'\n",
    "regExp_slashes = '[\\\\\\]'"
   ]
  },
  {
   "cell_type": "code",
   "execution_count": 25,
   "id": "cc62f67a",
   "metadata": {},
   "outputs": [],
   "source": [
    "p = re.compile(regExp_brackets+'|'+regExp_slashes)"
   ]
  },
  {
   "cell_type": "code",
   "execution_count": 26,
   "id": "cf221dd3",
   "metadata": {
    "scrolled": true
   },
   "outputs": [
    {
     "data": {
      "text/plain": [
       "9"
      ]
     },
     "execution_count": 26,
     "metadata": {},
     "output_type": "execute_result"
    }
   ],
   "source": [
    "len(p.findall(doc))"
   ]
  }
 ],
 "metadata": {
  "kernelspec": {
   "display_name": "Python 3 (ipykernel)",
   "language": "python",
   "name": "python3"
  },
  "language_info": {
   "codemirror_mode": {
    "name": "ipython",
    "version": 3
   },
   "file_extension": ".py",
   "mimetype": "text/x-python",
   "name": "python",
   "nbconvert_exporter": "python",
   "pygments_lexer": "ipython3",
   "version": "3.9.13"
  }
 },
 "nbformat": 4,
 "nbformat_minor": 5
}
