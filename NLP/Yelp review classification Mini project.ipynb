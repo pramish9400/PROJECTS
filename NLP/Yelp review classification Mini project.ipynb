{
 "cells": [
  {
   "cell_type": "code",
   "execution_count": 1,
   "id": "311dfbda",
   "metadata": {},
   "outputs": [],
   "source": [
    "import pandas as pd \n",
    "import numpy as np\n",
    "import regex as re \n",
    "from collections import Counter\n",
    "import warnings\n",
    "warnings.filterwarnings('ignore')"
   ]
  },
  {
   "cell_type": "code",
   "execution_count": 2,
   "id": "932c66e3",
   "metadata": {},
   "outputs": [
    {
     "data": {
      "text/html": [
       "<div>\n",
       "<style scoped>\n",
       "    .dataframe tbody tr th:only-of-type {\n",
       "        vertical-align: middle;\n",
       "    }\n",
       "\n",
       "    .dataframe tbody tr th {\n",
       "        vertical-align: top;\n",
       "    }\n",
       "\n",
       "    .dataframe thead th {\n",
       "        text-align: right;\n",
       "    }\n",
       "</style>\n",
       "<table border=\"1\" class=\"dataframe\">\n",
       "  <thead>\n",
       "    <tr style=\"text-align: right;\">\n",
       "      <th></th>\n",
       "      <th>class_index</th>\n",
       "      <th>review_text</th>\n",
       "    </tr>\n",
       "  </thead>\n",
       "  <tbody>\n",
       "    <tr>\n",
       "      <th>0</th>\n",
       "      <td>1</td>\n",
       "      <td>Unfortunately, the frustration of being Dr. Go...</td>\n",
       "    </tr>\n",
       "    <tr>\n",
       "      <th>1</th>\n",
       "      <td>2</td>\n",
       "      <td>Been going to Dr. Goldberg for over 10 years. ...</td>\n",
       "    </tr>\n",
       "    <tr>\n",
       "      <th>2</th>\n",
       "      <td>1</td>\n",
       "      <td>I don't know what Dr. Goldberg was like before...</td>\n",
       "    </tr>\n",
       "    <tr>\n",
       "      <th>3</th>\n",
       "      <td>1</td>\n",
       "      <td>I'm writing this review to give you a heads up...</td>\n",
       "    </tr>\n",
       "    <tr>\n",
       "      <th>4</th>\n",
       "      <td>2</td>\n",
       "      <td>All the food is great here. But the best thing...</td>\n",
       "    </tr>\n",
       "    <tr>\n",
       "      <th>...</th>\n",
       "      <td>...</td>\n",
       "      <td>...</td>\n",
       "    </tr>\n",
       "    <tr>\n",
       "      <th>559995</th>\n",
       "      <td>2</td>\n",
       "      <td>Ryan was as good as everyone on yelp has claim...</td>\n",
       "    </tr>\n",
       "    <tr>\n",
       "      <th>559996</th>\n",
       "      <td>2</td>\n",
       "      <td>Professional \\nFriendly\\nOn time AND affordabl...</td>\n",
       "    </tr>\n",
       "    <tr>\n",
       "      <th>559997</th>\n",
       "      <td>1</td>\n",
       "      <td>Phone calls always go to voicemail and message...</td>\n",
       "    </tr>\n",
       "    <tr>\n",
       "      <th>559998</th>\n",
       "      <td>1</td>\n",
       "      <td>Looks like all of the good reviews have gone t...</td>\n",
       "    </tr>\n",
       "    <tr>\n",
       "      <th>559999</th>\n",
       "      <td>2</td>\n",
       "      <td>Ryan Rocks! I called him this morning for some...</td>\n",
       "    </tr>\n",
       "  </tbody>\n",
       "</table>\n",
       "<p>560000 rows × 2 columns</p>\n",
       "</div>"
      ],
      "text/plain": [
       "        class_index                                        review_text\n",
       "0                 1  Unfortunately, the frustration of being Dr. Go...\n",
       "1                 2  Been going to Dr. Goldberg for over 10 years. ...\n",
       "2                 1  I don't know what Dr. Goldberg was like before...\n",
       "3                 1  I'm writing this review to give you a heads up...\n",
       "4                 2  All the food is great here. But the best thing...\n",
       "...             ...                                                ...\n",
       "559995            2  Ryan was as good as everyone on yelp has claim...\n",
       "559996            2  Professional \\nFriendly\\nOn time AND affordabl...\n",
       "559997            1  Phone calls always go to voicemail and message...\n",
       "559998            1  Looks like all of the good reviews have gone t...\n",
       "559999            2  Ryan Rocks! I called him this morning for some...\n",
       "\n",
       "[560000 rows x 2 columns]"
      ]
     },
     "execution_count": 2,
     "metadata": {},
     "output_type": "execute_result"
    }
   ],
   "source": [
    "data = pd.read_csv('./yelp_train.csv')\n",
    "data"
   ]
  },
  {
   "cell_type": "code",
   "execution_count": 3,
   "id": "cc5a5fe2",
   "metadata": {},
   "outputs": [
    {
     "data": {
      "text/html": [
       "<div>\n",
       "<style scoped>\n",
       "    .dataframe tbody tr th:only-of-type {\n",
       "        vertical-align: middle;\n",
       "    }\n",
       "\n",
       "    .dataframe tbody tr th {\n",
       "        vertical-align: top;\n",
       "    }\n",
       "\n",
       "    .dataframe thead th {\n",
       "        text-align: right;\n",
       "    }\n",
       "</style>\n",
       "<table border=\"1\" class=\"dataframe\">\n",
       "  <thead>\n",
       "    <tr style=\"text-align: right;\">\n",
       "      <th></th>\n",
       "      <th>class_index</th>\n",
       "      <th>review_text</th>\n",
       "      <th>rating</th>\n",
       "    </tr>\n",
       "  </thead>\n",
       "  <tbody>\n",
       "    <tr>\n",
       "      <th>0</th>\n",
       "      <td>1</td>\n",
       "      <td>Unfortunately, the frustration of being Dr. Go...</td>\n",
       "      <td>1</td>\n",
       "    </tr>\n",
       "    <tr>\n",
       "      <th>1</th>\n",
       "      <td>2</td>\n",
       "      <td>Been going to Dr. Goldberg for over 10 years. ...</td>\n",
       "      <td>2</td>\n",
       "    </tr>\n",
       "    <tr>\n",
       "      <th>2</th>\n",
       "      <td>1</td>\n",
       "      <td>I don't know what Dr. Goldberg was like before...</td>\n",
       "      <td>1</td>\n",
       "    </tr>\n",
       "    <tr>\n",
       "      <th>3</th>\n",
       "      <td>1</td>\n",
       "      <td>I'm writing this review to give you a heads up...</td>\n",
       "      <td>1</td>\n",
       "    </tr>\n",
       "    <tr>\n",
       "      <th>4</th>\n",
       "      <td>2</td>\n",
       "      <td>All the food is great here. But the best thing...</td>\n",
       "      <td>2</td>\n",
       "    </tr>\n",
       "    <tr>\n",
       "      <th>...</th>\n",
       "      <td>...</td>\n",
       "      <td>...</td>\n",
       "      <td>...</td>\n",
       "    </tr>\n",
       "    <tr>\n",
       "      <th>559995</th>\n",
       "      <td>2</td>\n",
       "      <td>Ryan was as good as everyone on yelp has claim...</td>\n",
       "      <td>2</td>\n",
       "    </tr>\n",
       "    <tr>\n",
       "      <th>559996</th>\n",
       "      <td>2</td>\n",
       "      <td>Professional \\nFriendly\\nOn time AND affordabl...</td>\n",
       "      <td>2</td>\n",
       "    </tr>\n",
       "    <tr>\n",
       "      <th>559997</th>\n",
       "      <td>1</td>\n",
       "      <td>Phone calls always go to voicemail and message...</td>\n",
       "      <td>1</td>\n",
       "    </tr>\n",
       "    <tr>\n",
       "      <th>559998</th>\n",
       "      <td>1</td>\n",
       "      <td>Looks like all of the good reviews have gone t...</td>\n",
       "      <td>1</td>\n",
       "    </tr>\n",
       "    <tr>\n",
       "      <th>559999</th>\n",
       "      <td>2</td>\n",
       "      <td>Ryan Rocks! I called him this morning for some...</td>\n",
       "      <td>2</td>\n",
       "    </tr>\n",
       "  </tbody>\n",
       "</table>\n",
       "<p>560000 rows × 3 columns</p>\n",
       "</div>"
      ],
      "text/plain": [
       "        class_index                                        review_text  rating\n",
       "0                 1  Unfortunately, the frustration of being Dr. Go...       1\n",
       "1                 2  Been going to Dr. Goldberg for over 10 years. ...       2\n",
       "2                 1  I don't know what Dr. Goldberg was like before...       1\n",
       "3                 1  I'm writing this review to give you a heads up...       1\n",
       "4                 2  All the food is great here. But the best thing...       2\n",
       "...             ...                                                ...     ...\n",
       "559995            2  Ryan was as good as everyone on yelp has claim...       2\n",
       "559996            2  Professional \\nFriendly\\nOn time AND affordabl...       2\n",
       "559997            1  Phone calls always go to voicemail and message...       1\n",
       "559998            1  Looks like all of the good reviews have gone t...       1\n",
       "559999            2  Ryan Rocks! I called him this morning for some...       2\n",
       "\n",
       "[560000 rows x 3 columns]"
      ]
     },
     "execution_count": 3,
     "metadata": {},
     "output_type": "execute_result"
    }
   ],
   "source": [
    "data['rating'] = data['class_index']\n",
    "data"
   ]
  },
  {
   "cell_type": "code",
   "execution_count": 4,
   "id": "69e49b14",
   "metadata": {},
   "outputs": [
    {
     "data": {
      "text/html": [
       "<div>\n",
       "<style scoped>\n",
       "    .dataframe tbody tr th:only-of-type {\n",
       "        vertical-align: middle;\n",
       "    }\n",
       "\n",
       "    .dataframe tbody tr th {\n",
       "        vertical-align: top;\n",
       "    }\n",
       "\n",
       "    .dataframe thead th {\n",
       "        text-align: right;\n",
       "    }\n",
       "</style>\n",
       "<table border=\"1\" class=\"dataframe\">\n",
       "  <thead>\n",
       "    <tr style=\"text-align: right;\">\n",
       "      <th></th>\n",
       "      <th>class_index</th>\n",
       "      <th>review_text</th>\n",
       "      <th>rating</th>\n",
       "    </tr>\n",
       "  </thead>\n",
       "  <tbody>\n",
       "    <tr>\n",
       "      <th>0</th>\n",
       "      <td>1</td>\n",
       "      <td>Unfortunately, the frustration of being Dr. Go...</td>\n",
       "      <td>negative</td>\n",
       "    </tr>\n",
       "    <tr>\n",
       "      <th>1</th>\n",
       "      <td>2</td>\n",
       "      <td>Been going to Dr. Goldberg for over 10 years. ...</td>\n",
       "      <td>positive</td>\n",
       "    </tr>\n",
       "    <tr>\n",
       "      <th>2</th>\n",
       "      <td>1</td>\n",
       "      <td>I don't know what Dr. Goldberg was like before...</td>\n",
       "      <td>negative</td>\n",
       "    </tr>\n",
       "    <tr>\n",
       "      <th>3</th>\n",
       "      <td>1</td>\n",
       "      <td>I'm writing this review to give you a heads up...</td>\n",
       "      <td>negative</td>\n",
       "    </tr>\n",
       "    <tr>\n",
       "      <th>4</th>\n",
       "      <td>2</td>\n",
       "      <td>All the food is great here. But the best thing...</td>\n",
       "      <td>positive</td>\n",
       "    </tr>\n",
       "    <tr>\n",
       "      <th>...</th>\n",
       "      <td>...</td>\n",
       "      <td>...</td>\n",
       "      <td>...</td>\n",
       "    </tr>\n",
       "    <tr>\n",
       "      <th>559995</th>\n",
       "      <td>2</td>\n",
       "      <td>Ryan was as good as everyone on yelp has claim...</td>\n",
       "      <td>positive</td>\n",
       "    </tr>\n",
       "    <tr>\n",
       "      <th>559996</th>\n",
       "      <td>2</td>\n",
       "      <td>Professional \\nFriendly\\nOn time AND affordabl...</td>\n",
       "      <td>positive</td>\n",
       "    </tr>\n",
       "    <tr>\n",
       "      <th>559997</th>\n",
       "      <td>1</td>\n",
       "      <td>Phone calls always go to voicemail and message...</td>\n",
       "      <td>negative</td>\n",
       "    </tr>\n",
       "    <tr>\n",
       "      <th>559998</th>\n",
       "      <td>1</td>\n",
       "      <td>Looks like all of the good reviews have gone t...</td>\n",
       "      <td>negative</td>\n",
       "    </tr>\n",
       "    <tr>\n",
       "      <th>559999</th>\n",
       "      <td>2</td>\n",
       "      <td>Ryan Rocks! I called him this morning for some...</td>\n",
       "      <td>positive</td>\n",
       "    </tr>\n",
       "  </tbody>\n",
       "</table>\n",
       "<p>560000 rows × 3 columns</p>\n",
       "</div>"
      ],
      "text/plain": [
       "        class_index                                        review_text  \\\n",
       "0                 1  Unfortunately, the frustration of being Dr. Go...   \n",
       "1                 2  Been going to Dr. Goldberg for over 10 years. ...   \n",
       "2                 1  I don't know what Dr. Goldberg was like before...   \n",
       "3                 1  I'm writing this review to give you a heads up...   \n",
       "4                 2  All the food is great here. But the best thing...   \n",
       "...             ...                                                ...   \n",
       "559995            2  Ryan was as good as everyone on yelp has claim...   \n",
       "559996            2  Professional \\nFriendly\\nOn time AND affordabl...   \n",
       "559997            1  Phone calls always go to voicemail and message...   \n",
       "559998            1  Looks like all of the good reviews have gone t...   \n",
       "559999            2  Ryan Rocks! I called him this morning for some...   \n",
       "\n",
       "          rating  \n",
       "0       negative  \n",
       "1       positive  \n",
       "2       negative  \n",
       "3       negative  \n",
       "4       positive  \n",
       "...          ...  \n",
       "559995  positive  \n",
       "559996  positive  \n",
       "559997  negative  \n",
       "559998  negative  \n",
       "559999  positive  \n",
       "\n",
       "[560000 rows x 3 columns]"
      ]
     },
     "execution_count": 4,
     "metadata": {},
     "output_type": "execute_result"
    }
   ],
   "source": [
    "data.rating.replace({1:\"negative\", 2:\"positive\"}, inplace=True)\n",
    "data"
   ]
  },
  {
   "cell_type": "code",
   "execution_count": 5,
   "id": "a0df2c21",
   "metadata": {},
   "outputs": [],
   "source": [
    "vocab = {}"
   ]
  },
  {
   "cell_type": "code",
   "execution_count": 6,
   "id": "b1d44dc9",
   "metadata": {},
   "outputs": [],
   "source": [
    "def initializeVocabulary():\n",
    "    unkToken = '<UNK>'\n",
    "    vocab['t_2_i'] = {}\n",
    "    vocab['i_2_t']  = {}\n",
    "    vocab['unkToken'] = unkToken\n",
    "    idx = addToken(unkToken)\n",
    "    vocab['unkTokenIdx'] = idx"
   ]
  },
  {
   "cell_type": "code",
   "execution_count": 7,
   "id": "c872eece",
   "metadata": {},
   "outputs": [],
   "source": [
    "def addToken(token):\n",
    "    if token in vocab['t_2_i']:\n",
    "        idx = vocab['t_2_i'][token]\n",
    "    else:\n",
    "        idx = len(vocab['t_2_i'])\n",
    "        vocab['t_2_i'][token] = idx\n",
    "        vocab['i_2_t'][idx]=token\n",
    "    return idx"
   ]
  },
  {
   "cell_type": "code",
   "execution_count": 8,
   "id": "f68dda8f",
   "metadata": {},
   "outputs": [],
   "source": [
    "def addManyTokens(tokens):\n",
    "    idxes = [addToken(token) for token in tokens]\n",
    "    return idxes"
   ]
  },
  {
   "cell_type": "code",
   "execution_count": 9,
   "id": "da0eab59",
   "metadata": {},
   "outputs": [],
   "source": [
    "def lookUpToken(token):\n",
    "    if vocab['unkTokenIdx']>=0:\n",
    "        return vocab['t_2_i'].get(token, vocab['unkTokenIdx'])\n",
    "    else:\n",
    "        return vocab['t_2_i'][token]"
   ]
  },
  {
   "cell_type": "code",
   "execution_count": 10,
   "id": "1f80a187",
   "metadata": {},
   "outputs": [],
   "source": [
    "def lookUpIndex(idx):\n",
    "    if idx not in vocab['i_2_t']:\n",
    "        raise KeyError('the index (%d) is not there' % idx)\n",
    "    return vocab['i_2_t'][idx]"
   ]
  },
  {
   "cell_type": "code",
   "execution_count": 11,
   "id": "24f95554",
   "metadata": {},
   "outputs": [],
   "source": [
    "def vocabularyFromDataFrame(data, cutoff = 25):\n",
    "    initializeVocabulary()\n",
    "    wordCounts = Counter()\n",
    "    for r in data.review_text:\n",
    "        for word in re.split('\\W+', r):\n",
    "            wordCounts[word] += 1\n",
    "    for word, count in wordCounts.items():\n",
    "        if count > cutoff:\n",
    "            addToken(word)"
   ]
  },
  {
   "cell_type": "markdown",
   "id": "b2769d07",
   "metadata": {},
   "source": [
    "#### Loading the dataset again to build the vocabulary"
   ]
  },
  {
   "cell_type": "code",
   "execution_count": 12,
   "id": "186c89c1",
   "metadata": {},
   "outputs": [],
   "source": [
    "data = pd.read_csv('./yelp_train.csv')"
   ]
  },
  {
   "cell_type": "code",
   "execution_count": 13,
   "id": "cfeb3cbc",
   "metadata": {},
   "outputs": [],
   "source": [
    "vocabularyFromDataFrame(data)"
   ]
  },
  {
   "cell_type": "code",
   "execution_count": 14,
   "id": "c188ada3",
   "metadata": {},
   "outputs": [
    {
     "data": {
      "text/plain": [
       "2"
      ]
     },
     "execution_count": 14,
     "metadata": {},
     "output_type": "execute_result"
    }
   ],
   "source": [
    "lookUpToken('the')"
   ]
  },
  {
   "cell_type": "code",
   "execution_count": 15,
   "id": "9df8ed23",
   "metadata": {},
   "outputs": [
    {
     "data": {
      "text/plain": [
       "'the'"
      ]
     },
     "execution_count": 15,
     "metadata": {},
     "output_type": "execute_result"
    }
   ],
   "source": [
    "lookUpIndex(2)"
   ]
  },
  {
   "cell_type": "code",
   "execution_count": 16,
   "id": "4bf8f3ee",
   "metadata": {},
   "outputs": [
    {
     "data": {
      "text/plain": [
       "36915"
      ]
     },
     "execution_count": 16,
     "metadata": {},
     "output_type": "execute_result"
    }
   ],
   "source": [
    "len(vocab['t_2_i'])"
   ]
  },
  {
   "cell_type": "markdown",
   "id": "c0a4212c",
   "metadata": {},
   "source": [
    "#### Changing the cutoff value may change the above number."
   ]
  },
  {
   "cell_type": "markdown",
   "id": "f059a086",
   "metadata": {},
   "source": [
    "### Building Vocabulary from corpus:"
   ]
  },
  {
   "cell_type": "markdown",
   "id": "0c34c0a9",
   "metadata": {},
   "source": [
    "#### Writing a Generic function"
   ]
  },
  {
   "cell_type": "code",
   "execution_count": 17,
   "id": "b516e635",
   "metadata": {},
   "outputs": [],
   "source": [
    "def vocabularyFromCorpus(data, cutoff = 25):\n",
    "    initializeVocabulary()\n",
    "    wordCounts = Counter()\n",
    "    for doc in Corpus:\n",
    "        for word in re.split('\\W+', doc):\n",
    "            wordCounts[word] += 1\n",
    "    for word, count in wordCounts.items():\n",
    "        if count > cutoff:\n",
    "            addToken(word)"
   ]
  },
  {
   "cell_type": "code",
   "execution_count": 18,
   "id": "94ad4b48",
   "metadata": {},
   "outputs": [],
   "source": [
    "Corpus = np.asarray(data.review_text)\n",
    "vocabularyFromCorpus(Corpus)"
   ]
  },
  {
   "cell_type": "markdown",
   "id": "eff1be11",
   "metadata": {},
   "source": [
    "#### One Hot Encoding"
   ]
  },
  {
   "cell_type": "code",
   "execution_count": 19,
   "id": "a4c0e747",
   "metadata": {},
   "outputs": [],
   "source": [
    "def oneHotVector(token, N):\n",
    "    oneHot  = np.zeros((N, 1))\n",
    "    oneHot[lookUpToken(token)] = 1\n",
    "    return oneHot"
   ]
  },
  {
   "cell_type": "code",
   "execution_count": 20,
   "id": "d5844c9b",
   "metadata": {},
   "outputs": [],
   "source": [
    "N = len(vocab['t_2_i'])\n",
    "token = 'the'\n",
    "oneHot = oneHotVector(token, N)"
   ]
  },
  {
   "cell_type": "code",
   "execution_count": 21,
   "id": "591033e1",
   "metadata": {},
   "outputs": [
    {
     "data": {
      "text/plain": [
       "array([[0.],\n",
       "       [0.],\n",
       "       [1.],\n",
       "       ...,\n",
       "       [0.],\n",
       "       [0.],\n",
       "       [0.]])"
      ]
     },
     "execution_count": 21,
     "metadata": {},
     "output_type": "execute_result"
    }
   ],
   "source": [
    "oneHot"
   ]
  },
  {
   "cell_type": "code",
   "execution_count": 22,
   "id": "fd2a8265",
   "metadata": {},
   "outputs": [
    {
     "data": {
      "text/plain": [
       "array([1.])"
      ]
     },
     "execution_count": 22,
     "metadata": {},
     "output_type": "execute_result"
    }
   ],
   "source": [
    "oneHot[2]"
   ]
  }
 ],
 "metadata": {
  "kernelspec": {
   "display_name": "Python 3 (ipykernel)",
   "language": "python",
   "name": "python3"
  },
  "language_info": {
   "codemirror_mode": {
    "name": "ipython",
    "version": 3
   },
   "file_extension": ".py",
   "mimetype": "text/x-python",
   "name": "python",
   "nbconvert_exporter": "python",
   "pygments_lexer": "ipython3",
   "version": "3.9.13"
  }
 },
 "nbformat": 4,
 "nbformat_minor": 5
}
