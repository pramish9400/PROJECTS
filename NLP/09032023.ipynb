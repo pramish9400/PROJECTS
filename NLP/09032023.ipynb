{
 "cells": [
  {
   "cell_type": "markdown",
   "id": "f0822963",
   "metadata": {},
   "source": [
    "### Spacy"
   ]
  },
  {
   "cell_type": "code",
   "execution_count": 1,
   "id": "750deb16",
   "metadata": {},
   "outputs": [],
   "source": [
    "import spacy\n",
    "import re"
   ]
  },
  {
   "cell_type": "code",
   "execution_count": 2,
   "id": "459c80bc",
   "metadata": {},
   "outputs": [],
   "source": [
    "nlp = spacy.load('en_core_web_sm')"
   ]
  },
  {
   "cell_type": "code",
   "execution_count": 3,
   "id": "51f4bcec",
   "metadata": {},
   "outputs": [],
   "source": [
    "doc = 'I always do the main um processing, I mean, the uh um data-processing.'"
   ]
  },
  {
   "cell_type": "code",
   "execution_count": 4,
   "id": "b90d4884",
   "metadata": {},
   "outputs": [],
   "source": [
    "stats= nlp(doc)"
   ]
  },
  {
   "cell_type": "code",
   "execution_count": 5,
   "id": "6184f88b",
   "metadata": {},
   "outputs": [
    {
     "name": "stdout",
     "output_type": "stream",
     "text": [
      "I\n",
      "always\n",
      "do\n",
      "the\n",
      "main\n",
      "um\n",
      "processing\n",
      ",\n",
      "I\n",
      "mean\n",
      ",\n",
      "the\n",
      "uh\n",
      "um\n",
      "data\n",
      "-\n",
      "processing\n",
      ".\n"
     ]
    }
   ],
   "source": [
    "for token in stats:\n",
    "    print(token.text)"
   ]
  },
  {
   "cell_type": "code",
   "execution_count": 6,
   "id": "196aa812",
   "metadata": {},
   "outputs": [],
   "source": [
    "doc2 = 'U.K. has a reasonable population'"
   ]
  },
  {
   "cell_type": "code",
   "execution_count": 7,
   "id": "1525c107",
   "metadata": {},
   "outputs": [],
   "source": [
    "stats = nlp(doc2)"
   ]
  },
  {
   "cell_type": "code",
   "execution_count": 8,
   "id": "ca787fe5",
   "metadata": {},
   "outputs": [
    {
     "name": "stdout",
     "output_type": "stream",
     "text": [
      "U.K.\n",
      "has\n",
      "a\n",
      "reasonable\n",
      "population\n"
     ]
    }
   ],
   "source": [
    "for token in stats:\n",
    "    print(token.text)"
   ]
  },
  {
   "cell_type": "code",
   "execution_count": 9,
   "id": "0132b2e6",
   "metadata": {},
   "outputs": [
    {
     "name": "stdout",
     "output_type": "stream",
     "text": [
      "['I', 'always', 'do', 'the', 'main', 'um', 'processing', 'I', 'mean', 'the', 'uh', 'um', 'data', 'processing', '']\n"
     ]
    }
   ],
   "source": [
    "print(re.split('\\W+', doc))"
   ]
  },
  {
   "cell_type": "code",
   "execution_count": 10,
   "id": "edbc36b6",
   "metadata": {},
   "outputs": [
    {
     "name": "stdout",
     "output_type": "stream",
     "text": [
      "['U', 'K', 'has', 'a', 'reasonable', 'population']\n"
     ]
    }
   ],
   "source": [
    "print(re.split('\\W+', doc2))"
   ]
  }
 ],
 "metadata": {
  "kernelspec": {
   "display_name": "Python 3 (ipykernel)",
   "language": "python",
   "name": "python3"
  },
  "language_info": {
   "codemirror_mode": {
    "name": "ipython",
    "version": 3
   },
   "file_extension": ".py",
   "mimetype": "text/x-python",
   "name": "python",
   "nbconvert_exporter": "python",
   "pygments_lexer": "ipython3",
   "version": "3.9.13"
  }
 },
 "nbformat": 4,
 "nbformat_minor": 5
}
