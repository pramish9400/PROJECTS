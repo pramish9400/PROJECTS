{
 "cells": [
  {
   "cell_type": "markdown",
   "id": "75084738",
   "metadata": {},
   "source": [
    "# Navigating The Html Tree SideWays"
   ]
  },
  {
   "cell_type": "code",
   "execution_count": 1,
   "id": "4dcdfba4",
   "metadata": {},
   "outputs": [],
   "source": [
    "import webbrowser\n",
    "from bs4 import BeautifulSoup"
   ]
  },
  {
   "cell_type": "markdown",
   "id": "7d5fe113",
   "metadata": {},
   "source": [
    "### soup.b.next_sibling\n",
    "### soup.b.next_sibling.next_sibling\n",
    "### for siblings in soup.b.next_siblings:\n",
    "    print(siblings)\n",
    "### soup.c.previous_sibling\n",
    "### for sibling in soup.preious_siblings:\n",
    "    print(siblings)"
   ]
  },
  {
   "cell_type": "markdown",
   "id": "9a2b2bb6",
   "metadata": {},
   "source": [
    "#### soup.b\n",
    "#### soup.b.next_element\n",
    "#### soup.b.next_elemnt.next-element\n",
    "#### soup.i.previou_element"
   ]
  },
  {
   "cell_type": "code",
   "execution_count": null,
   "id": "d5535a3b",
   "metadata": {},
   "outputs": [],
   "source": []
  }
 ],
 "metadata": {
  "kernelspec": {
   "display_name": "Python 3 (ipykernel)",
   "language": "python",
   "name": "python3"
  },
  "language_info": {
   "codemirror_mode": {
    "name": "ipython",
    "version": 3
   },
   "file_extension": ".py",
   "mimetype": "text/x-python",
   "name": "python",
   "nbconvert_exporter": "python",
   "pygments_lexer": "ipython3",
   "version": "3.9.13"
  }
 },
 "nbformat": 4,
 "nbformat_minor": 5
}
