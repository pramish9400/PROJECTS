{
 "cells": [
  {
   "cell_type": "code",
   "execution_count": 1,
   "id": "f1880c80",
   "metadata": {},
   "outputs": [],
   "source": [
    "import regex as re"
   ]
  },
  {
   "cell_type": "code",
   "execution_count": 2,
   "id": "f564ac6e",
   "metadata": {},
   "outputs": [],
   "source": [
    "doc = ('aafasfmasjad64f654e;98fs32df1s4f84fddb;fb{ASDASD}321A1S1DAS5F454A51')"
   ]
  },
  {
   "cell_type": "code",
   "execution_count": 3,
   "id": "10df2ec6",
   "metadata": {},
   "outputs": [],
   "source": [
    "regEXP = '[a-zA-Z_]\\w*'"
   ]
  },
  {
   "cell_type": "code",
   "execution_count": 4,
   "id": "bbc065aa",
   "metadata": {},
   "outputs": [
    {
     "data": {
      "text/plain": [
       "['aafasfmasjad64f654e', 'fs32df1s4f84fddb', 'fb', 'ASDASD', 'A1S1DAS5F454A51']"
      ]
     },
     "execution_count": 4,
     "metadata": {},
     "output_type": "execute_result"
    }
   ],
   "source": [
    "rs = re.findall(regEXP, doc)\n",
    "rs"
   ]
  },
  {
   "cell_type": "markdown",
   "id": "18fffd89",
   "metadata": {},
   "source": [
    "### PLUS +"
   ]
  },
  {
   "cell_type": "code",
   "execution_count": 5,
   "id": "b3d93d73",
   "metadata": {},
   "outputs": [],
   "source": [
    "doc ='YahooYahoooYahooooYaho'"
   ]
  },
  {
   "cell_type": "code",
   "execution_count": 6,
   "id": "c8e5b5ef",
   "metadata": {},
   "outputs": [],
   "source": [
    "regEXP = 'Yahoo+'"
   ]
  },
  {
   "cell_type": "code",
   "execution_count": 7,
   "id": "419865a3",
   "metadata": {},
   "outputs": [
    {
     "data": {
      "text/plain": [
       "['Yahoo', 'Yahooo', 'Yahoooo']"
      ]
     },
     "execution_count": 7,
     "metadata": {},
     "output_type": "execute_result"
    }
   ],
   "source": [
    "rs = re.findall(regEXP, doc)\n",
    "rs"
   ]
  },
  {
   "cell_type": "code",
   "execution_count": 8,
   "id": "f5d53e06",
   "metadata": {},
   "outputs": [
    {
     "name": "stdout",
     "output_type": "stream",
     "text": [
      "['Yahoo', 'Yahoo', 'Yahoo']\n"
     ]
    }
   ],
   "source": [
    "doc = 'YahooYahoooYahooooooYaho'\n",
    "regEXP = 'Yah?oo'\n",
    "rs = re.findall(regEXP, doc)\n",
    "print(rs)"
   ]
  },
  {
   "cell_type": "markdown",
   "id": "47fd0dc7",
   "metadata": {},
   "source": [
    "### {}"
   ]
  },
  {
   "cell_type": "code",
   "execution_count": 9,
   "id": "99c01c08",
   "metadata": {},
   "outputs": [],
   "source": [
    "doc = ('sdfsdgsf155efwsefw1sefs213565sefs32sefses5e4f51efsef4efsefsefsefse1fse2fsfsefse2sefsef9sesefsefws')"
   ]
  },
  {
   "cell_type": "code",
   "execution_count": 10,
   "id": "c19cdaa8",
   "metadata": {},
   "outputs": [],
   "source": [
    "regEXP = '[0-9]{2,5}'"
   ]
  },
  {
   "cell_type": "code",
   "execution_count": 11,
   "id": "82736242",
   "metadata": {},
   "outputs": [
    {
     "data": {
      "text/plain": [
       "['155', '21356', '32', '51']"
      ]
     },
     "execution_count": 11,
     "metadata": {},
     "output_type": "execute_result"
    }
   ],
   "source": [
    "rs = re.findall(regEXP, doc)\n",
    "rs"
   ]
  }
 ],
 "metadata": {
  "kernelspec": {
   "display_name": "Python 3 (ipykernel)",
   "language": "python",
   "name": "python3"
  },
  "language_info": {
   "codemirror_mode": {
    "name": "ipython",
    "version": 3
   },
   "file_extension": ".py",
   "mimetype": "text/x-python",
   "name": "python",
   "nbconvert_exporter": "python",
   "pygments_lexer": "ipython3",
   "version": "3.9.13"
  }
 },
 "nbformat": 4,
 "nbformat_minor": 5
}
